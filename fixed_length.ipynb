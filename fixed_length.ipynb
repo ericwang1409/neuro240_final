{
 "cells": [
  {
   "cell_type": "code",
   "execution_count": 6,
   "metadata": {},
   "outputs": [],
   "source": [
    "import torch\n",
    "import numpy as np\n",
    "import matplotlib.pyplot as plt\n",
    "from transformer_lens import HookedTransformer, HookedTransformerConfig, utils\n",
    "import circuitsvis as cv\n",
    "import plotly.express as px\n",
    "import pandas as pd\n",
    "from fancy_einsum import einsum\n",
    "\n",
    "import itertools"
   ]
  },
  {
   "cell_type": "code",
   "execution_count": 7,
   "metadata": {},
   "outputs": [],
   "source": [
    "# model parameter constants\n",
    "N_LAYERS = 1\n",
    "N_HEADS = 1\n",
    "D_MODEL = 32\n",
    "D_HEAD = 32\n",
    "D_MLP = None\n",
    "D_VOCAB = 64\n",
    "SEED = 123\n",
    "DEVICE = \"cuda\" if torch.cuda.is_available() else \"cpu\""
   ]
  },
  {
   "cell_type": "code",
   "execution_count": 8,
   "metadata": {},
   "outputs": [],
   "source": [
    "\n",
    "def line(tensor, line_labels=None, yaxis=\"\", xaxis=\"\", **kwargs):\n",
    "    if isinstance(tensor, torch.Tensor):\n",
    "        tensor = tensor.detach().numpy()\n",
    "    \n",
    "    df = pd.DataFrame({\n",
    "        xaxis: np.arange(len(tensor)),\n",
    "        yaxis: tensor\n",
    "    })\n",
    "    \n",
    "    fig = px.line(df, x=xaxis, y=yaxis, labels={xaxis: xaxis, yaxis: yaxis}, **kwargs)\n",
    "    \n",
    "    if line_labels:\n",
    "        for c, label in enumerate(line_labels):\n",
    "            fig.data[c].name = label\n",
    "\n",
    "    fig.show()"
   ]
  },
  {
   "cell_type": "code",
   "execution_count": 9,
   "metadata": {},
   "outputs": [],
   "source": [
    "# data generation\n",
    "import random\n",
    "\n",
    "FIXED_LENGTH = 2\n",
    "\n",
    "def generateLists(n, training=True):\n",
    "    output = []\n",
    "    for _ in range(n):\n",
    "        curr = []\n",
    "        for _ in range(FIXED_LENGTH):\n",
    "            if training:\n",
    "                curr.append(random.randint(0, D_VOCAB - 1))\n",
    "            else:\n",
    "                curr.append(random.randint(D_VOCAB // 2, D_VOCAB - 1))\n",
    "            # curr.append(random.randint(0, 100))\n",
    "\n",
    "        output.append(curr)\n",
    "\n",
    "    output = torch.tensor(output)\n",
    "    return output"
   ]
  },
  {
   "cell_type": "code",
   "execution_count": 10,
   "metadata": {},
   "outputs": [
    {
     "name": "stdout",
     "output_type": "stream",
     "text": [
      "(tensor([[24, 43],\n",
      "        [57, 54],\n",
      "        [40, 43],\n",
      "        ...,\n",
      "        [47, 41],\n",
      "        [61, 53],\n",
      "        [46,  7]]), tensor([[16, 60],\n",
      "        [31, 33],\n",
      "        [25, 54],\n",
      "        ...,\n",
      "        [45, 37],\n",
      "        [ 6, 46],\n",
      "        [24, 59]]))\n"
     ]
    }
   ],
   "source": [
    "def separate_data(n, split=0.7):\n",
    "    output = list(itertools.product(range(D_VOCAB), repeat=FIXED_LENGTH))\n",
    "\n",
    "    random.shuffle(output)\n",
    "\n",
    "    split_index = int(len(output) * split)\n",
    "    # return training, testing\n",
    "    return torch.tensor(output[:split_index]), torch.tensor(output[split_index:])\n",
    "\n",
    "print(separate_data(2, 0.7))"
   ]
  },
  {
   "cell_type": "code",
   "execution_count": 11,
   "metadata": {},
   "outputs": [],
   "source": [
    "def output_data(data, batch_size=128):\n",
    "    for i in range(0, len(data), batch_size):\n",
    "        yield data[i:i + batch_size]"
   ]
  },
  {
   "cell_type": "code",
   "execution_count": 12,
   "metadata": {},
   "outputs": [],
   "source": [
    "def raw_generate():\n",
    "    output = []\n",
    "    for i in range(D_VOCAB):\n",
    "        for j in range(D_VOCAB):\n",
    "            curr = [i, j]\n",
    "            output.append(curr)\n",
    "\n",
    "    random.shuffle(output)\n",
    "    return output\n",
    "\n",
    "def cross_val_generate(output, epoch, total_epoch):\n",
    "    testing_size = int(len(output) / total_epoch)\n",
    "    split_index = testing_size * epoch\n",
    "    # return training, testing\n",
    "    testing = torch.tensor(output[split_index:split_index + testing_size])\n",
    "    training = torch.tensor(output[:split_index] + output[split_index + testing_size:])\n",
    "    return training, testing"
   ]
  },
  {
   "cell_type": "code",
   "execution_count": 13,
   "metadata": {},
   "outputs": [],
   "source": [
    "def generateVariableLists(n, training=True):\n",
    "    output = []\n",
    "    for _ in range(n):\n",
    "        i = 0\n",
    "        j = random.randint(0, FIXED_LENGTH)\n",
    "        curr = []\n",
    "        while i < j:\n",
    "            curr.append(random.randint(0, D_VOCAB - 1))\n",
    "            i += 1\n",
    "        while i < FIXED_LENGTH:\n",
    "            curr.append(0)\n",
    "            i += 1\n",
    "        output.append(curr)\n",
    "\n",
    "    output = torch.tensor(output)\n",
    "    return output"
   ]
  },
  {
   "cell_type": "code",
   "execution_count": 14,
   "metadata": {},
   "outputs": [],
   "source": [
    "# model setup\n",
    "cfg = HookedTransformerConfig(\n",
    "    d_model=D_MODEL,\n",
    "    n_layers=N_LAYERS,\n",
    "    n_heads=N_HEADS,\n",
    "    d_head=D_HEAD,\n",
    "    n_ctx=FIXED_LENGTH,\n",
    "    d_vocab=D_VOCAB,\n",
    "    act_fn=\"relu\",\n",
    "    seed=SEED,\n",
    "    device=DEVICE,\n",
    "    attn_only=True\n",
    ")\n",
    "\n",
    "# hooked transformer used for interpretation later\n",
    "model = HookedTransformer(cfg, move_to_device=True)"
   ]
  },
  {
   "cell_type": "code",
   "execution_count": 15,
   "metadata": {},
   "outputs": [],
   "source": [
    "def loss_function(logits, tokens, return_per_token=True, print_tokens=False):\n",
    "    # we take the last element of the logits to make the next prediction\n",
    "    logits = logits[:, -1, :]\n",
    "    answer = torch.max(tokens, dim=1)[0]\n",
    "    log_prob = logits.log_softmax(-1)\n",
    "    if print_tokens:\n",
    "        print(\"tokens\", tokens)\n",
    "        print(\"predicted\", torch.argmax(logits, dim=-1))\n",
    "    # shape is (batch_size, 1) which represents probabilities \n",
    "    # of the correct answer\n",
    "    output_prob = log_prob.gather(-1, answer.unsqueeze(-1))\n",
    "    if return_per_token:\n",
    "        return -output_prob.squeeze()\n",
    "    return -output_prob.mean()"
   ]
  },
  {
   "cell_type": "code",
   "execution_count": 16,
   "metadata": {},
   "outputs": [],
   "source": [
    "def accuracy(logits, tokens, return_per_token=False):\n",
    "    logits = logits[:, -1, :]\n",
    "    predicted = torch.argmax(logits, dim=1)\n",
    "    answer = torch.max(tokens, dim=1)[0]\n",
    "    if return_per_token:\n",
    "        return (predicted == answer).float()\n",
    "    \n",
    "    mismatches = predicted != answer\n",
    "    if mismatches.any():\n",
    "        print(\"Mismatches found:\")\n",
    "        for idx in torch.where(mismatches)[0]:\n",
    "            print(f\"Index: {tokens[idx]}, Predicted: {predicted[idx]}, Actual: {answer[idx]}\")\n",
    "\n",
    "    return (predicted == answer).float().mean().item()"
   ]
  },
  {
   "cell_type": "code",
   "execution_count": 17,
   "metadata": {},
   "outputs": [],
   "source": [
    "x = torch.tensor([[1], [2], [3], [4]])"
   ]
  },
  {
   "cell_type": "code",
   "execution_count": 18,
   "metadata": {},
   "outputs": [],
   "source": [
    "def train_model(model, n_epochs, batch_size, batches_per, sequence_length=2):\n",
    "    lr = 1e-3\n",
    "    betas = (0.9, 0.999)\n",
    "    optimizer = torch.optim.Adam(model.parameters(), lr=lr, betas=betas)\n",
    "\n",
    "    train_losses = []\n",
    "    for epoch in range(n_epochs):\n",
    "        epoch_losses = []\n",
    "        for _ in range(batches_per):\n",
    "            tokens = generateVariableLists(batch_size, training=True)\n",
    "            logits = model(tokens)\n",
    "            # print(tokens.shape)\n",
    "            # print(logits.shape)\n",
    "            losses = loss_function(logits, tokens, print_tokens=False)\n",
    "            losses.mean().backward()\n",
    "            optimizer.step()\n",
    "            optimizer.zero_grad()\n",
    "            epoch_losses.extend(losses.detach())\n",
    "\n",
    "        train_losses.append(np.mean(epoch_losses))\n",
    "        if epoch % 10 == 0:\n",
    "            print(f\"Epoch {epoch}, train loss: {train_losses[-1]}\")\n",
    "\n",
    "    model.eval()\n",
    "    # might want to create the training and testing set beforehand\n",
    "    test_data = generateVariableLists(1280, training=True)\n",
    "    logits = model(test_data)\n",
    "    acc = accuracy(logits, test_data, return_per_token=False)\n",
    "\n",
    "    print(f\"Test accuracy: {acc}\")\n",
    "\n",
    "    return train_losses\n",
    "                "
   ]
  },
  {
   "cell_type": "code",
   "execution_count": 19,
   "metadata": {},
   "outputs": [],
   "source": [
    "def train_model2(model, n_epochs, batch_size, batches_per, sequence_length=2):\n",
    "    lr = 1e-3\n",
    "    betas = (0.9, 0.999)\n",
    "    optimizer = torch.optim.Adam(model.parameters(), lr=lr, betas=betas)\n",
    "\n",
    "    train_losses = []\n",
    "    training_data, testing_data = separate_data(batch_size)\n",
    "\n",
    "    for epoch in range(n_epochs):\n",
    "        data_generator = output_data(training_data, batch_size)\n",
    "        epoch_losses = []\n",
    "        for _ in range(batches_per):\n",
    "            tokens = next(data_generator)\n",
    "            logits = model(tokens)\n",
    "            # print(tokens.shape)\n",
    "            # print(logits.shape)\n",
    "            losses = loss_function(logits, tokens, print_tokens=False)\n",
    "            losses.mean().backward()\n",
    "            optimizer.step()\n",
    "            optimizer.zero_grad()\n",
    "            epoch_losses.extend(losses.detach())\n",
    "\n",
    "        train_losses.append(np.mean(epoch_losses))\n",
    "        if epoch % 10 == 0:\n",
    "            print(f\"Epoch {epoch}, train loss: {train_losses[-1]}\")\n",
    "\n",
    "    model.eval()\n",
    "    # might want to create the training and testing set beforehand\n",
    "    logits = model(testing_data)\n",
    "    acc = accuracy(logits, testing_data, return_per_token=False)\n",
    "\n",
    "    print(f\"Test accuracy: {acc}\")\n",
    "\n",
    "    return train_losses\n",
    "                "
   ]
  },
  {
   "cell_type": "code",
   "execution_count": 20,
   "metadata": {},
   "outputs": [],
   "source": [
    "def cross_val(model, n_epochs, batch_size, batches_per, sequence_length=2):\n",
    "    lr = 1e-3\n",
    "    betas = (0.9, 0.999)\n",
    "    optimizer = torch.optim.Adam(model.parameters(), lr=lr, betas=betas)\n",
    "\n",
    "    train_losses = []\n",
    "    all_data = raw_generate()\n",
    "\n",
    "    for epoch in range(n_epochs):\n",
    "        tokens, test = cross_val_generate(all_data, epoch, n_epochs - 1)\n",
    "        epoch_losses = []\n",
    "        for _ in range(batches_per):\n",
    "            logits = model(tokens)\n",
    "            # print(tokens.shape)\n",
    "            # print(logits.shape)\n",
    "            losses = loss_function(logits, tokens, print_tokens=False)\n",
    "            losses.mean().backward()\n",
    "            optimizer.step()\n",
    "            optimizer.zero_grad()\n",
    "            epoch_losses.extend(losses.detach())\n",
    "\n",
    "        train_losses.append(np.mean(epoch_losses))\n",
    "\n",
    "        model.eval()\n",
    "        logits = model(test)\n",
    "        acc = accuracy(logits, test, return_per_token=False)\n",
    "        if epoch % 10 == 0:\n",
    "            print(f\"Epoch {epoch}, train loss: {train_losses[-1]}\")\n",
    "            print(f\"Test accuracy: {acc}\")\n",
    "\n",
    "    return train_losses\n",
    "                "
   ]
  },
  {
   "cell_type": "code",
   "execution_count": 21,
   "metadata": {},
   "outputs": [
    {
     "name": "stdout",
     "output_type": "stream",
     "text": [
      "Epoch 0, train loss: 4.1202392578125\n",
      "Epoch 10, train loss: 0.9903205037117004\n",
      "Epoch 20, train loss: 0.2248077094554901\n",
      "Epoch 30, train loss: 0.08770783990621567\n",
      "Epoch 40, train loss: 0.045312389731407166\n",
      "Epoch 50, train loss: 0.027901560068130493\n",
      "Epoch 60, train loss: 0.019090991467237473\n",
      "Epoch 70, train loss: 0.013963868841528893\n",
      "Epoch 80, train loss: 0.010690105147659779\n",
      "Epoch 90, train loss: 0.008459190838038921\n",
      "Epoch 100, train loss: 0.006864064838737249\n",
      "Epoch 110, train loss: 0.005680583883076906\n",
      "Epoch 120, train loss: 0.00477637629956007\n",
      "Epoch 130, train loss: 0.004068854730576277\n",
      "Epoch 140, train loss: 0.003504190593957901\n",
      "Epoch 150, train loss: 0.0030459598638117313\n",
      "Epoch 160, train loss: 0.0026687586214393377\n",
      "Epoch 170, train loss: 0.002354439813643694\n",
      "Epoch 180, train loss: 0.0020896729547530413\n",
      "Epoch 190, train loss: 0.0018645531963557005\n",
      "Mismatches found:\n",
      "Index: tensor([41, 43]), Predicted: 41, Actual: 43\n",
      "Index: tensor([17, 16]), Predicted: 16, Actual: 17\n",
      "Index: tensor([30, 29]), Predicted: 29, Actual: 30\n",
      "Index: tensor([57, 61]), Predicted: 57, Actual: 61\n",
      "Index: tensor([45, 47]), Predicted: 45, Actual: 47\n",
      "Index: tensor([55, 58]), Predicted: 55, Actual: 58\n",
      "Index: tensor([55, 57]), Predicted: 55, Actual: 57\n",
      "Index: tensor([17, 14]), Predicted: 14, Actual: 17\n",
      "Index: tensor([60, 57]), Predicted: 57, Actual: 60\n",
      "Index: tensor([58, 55]), Predicted: 55, Actual: 58\n",
      "Index: tensor([7, 9]), Predicted: 7, Actual: 9\n",
      "Index: tensor([25, 23]), Predicted: 23, Actual: 25\n",
      "Index: tensor([50, 58]), Predicted: 50, Actual: 58\n",
      "Index: tensor([37, 31]), Predicted: 31, Actual: 37\n",
      "Index: tensor([38, 41]), Predicted: 38, Actual: 41\n",
      "Index: tensor([19, 20]), Predicted: 19, Actual: 20\n",
      "Index: tensor([55, 56]), Predicted: 55, Actual: 56\n",
      "Index: tensor([59, 57]), Predicted: 57, Actual: 59\n",
      "Index: tensor([60, 56]), Predicted: 56, Actual: 60\n",
      "Index: tensor([48, 49]), Predicted: 48, Actual: 49\n",
      "Index: tensor([45, 46]), Predicted: 45, Actual: 46\n",
      "Index: tensor([22, 27]), Predicted: 22, Actual: 27\n",
      "Index: tensor([61, 55]), Predicted: 55, Actual: 61\n",
      "Index: tensor([50, 52]), Predicted: 50, Actual: 52\n",
      "Index: tensor([28, 30]), Predicted: 28, Actual: 30\n",
      "Index: tensor([30, 28]), Predicted: 28, Actual: 30\n",
      "Index: tensor([14, 13]), Predicted: 13, Actual: 14\n",
      "Index: tensor([46, 49]), Predicted: 46, Actual: 49\n",
      "Index: tensor([26, 24]), Predicted: 24, Actual: 26\n",
      "Index: tensor([31, 36]), Predicted: 31, Actual: 36\n",
      "Index: tensor([40, 42]), Predicted: 40, Actual: 42\n",
      "Index: tensor([17, 15]), Predicted: 15, Actual: 17\n",
      "Index: tensor([59, 56]), Predicted: 56, Actual: 59\n",
      "Index: tensor([27, 25]), Predicted: 25, Actual: 27\n",
      "Index: tensor([61, 59]), Predicted: 59, Actual: 61\n",
      "Index: tensor([53, 52]), Predicted: 52, Actual: 53\n",
      "Index: tensor([50, 51]), Predicted: 50, Actual: 51\n",
      "Index: tensor([53, 50]), Predicted: 50, Actual: 53\n",
      "Index: tensor([59, 55]), Predicted: 55, Actual: 59\n",
      "Index: tensor([46, 48]), Predicted: 46, Actual: 48\n",
      "Index: tensor([31, 32]), Predicted: 31, Actual: 32\n",
      "Index: tensor([35, 31]), Predicted: 31, Actual: 35\n",
      "Index: tensor([25, 30]), Predicted: 25, Actual: 30\n",
      "Index: tensor([42, 49]), Predicted: 42, Actual: 49\n",
      "Index: tensor([40, 41]), Predicted: 40, Actual: 41\n",
      "Index: tensor([1, 2]), Predicted: 1, Actual: 2\n",
      "Index: tensor([42, 44]), Predicted: 42, Actual: 44\n",
      "Index: tensor([57, 60]), Predicted: 57, Actual: 60\n",
      "Index: tensor([57, 62]), Predicted: 57, Actual: 62\n",
      "Test accuracy: 0.9601302146911621\n"
     ]
    }
   ],
   "source": [
    "losses = train_model2(model, 200, 128, 10, 2)"
   ]
  },
  {
   "cell_type": "code",
   "execution_count": 22,
   "metadata": {},
   "outputs": [
    {
     "data": {
      "application/vnd.plotly.v1+json": {
       "config": {
        "plotlyServerURL": "https://plot.ly"
       },
       "data": [
        {
         "hovertemplate": "Epoch=%{x}<br>Loss=%{y}<extra></extra>",
         "legendgroup": "",
         "line": {
          "color": "#636efa",
          "dash": "solid"
         },
         "marker": {
          "symbol": "circle"
         },
         "mode": "lines",
         "name": "",
         "orientation": "v",
         "showlegend": false,
         "type": "scatter",
         "x": [
          0,
          1,
          2,
          3,
          4,
          5,
          6,
          7,
          8,
          9,
          10,
          11,
          12,
          13,
          14,
          15,
          16,
          17,
          18,
          19,
          20,
          21,
          22,
          23,
          24,
          25,
          26,
          27,
          28,
          29,
          30,
          31,
          32,
          33,
          34,
          35,
          36,
          37,
          38,
          39,
          40,
          41,
          42,
          43,
          44,
          45,
          46,
          47,
          48,
          49,
          50,
          51,
          52,
          53,
          54,
          55,
          56,
          57,
          58,
          59,
          60,
          61,
          62,
          63,
          64,
          65,
          66,
          67,
          68,
          69,
          70,
          71,
          72,
          73,
          74,
          75,
          76,
          77,
          78,
          79,
          80,
          81,
          82,
          83,
          84,
          85,
          86,
          87,
          88,
          89,
          90,
          91,
          92,
          93,
          94,
          95,
          96,
          97,
          98,
          99,
          100,
          101,
          102,
          103,
          104,
          105,
          106,
          107,
          108,
          109,
          110,
          111,
          112,
          113,
          114,
          115,
          116,
          117,
          118,
          119,
          120,
          121,
          122,
          123,
          124,
          125,
          126,
          127,
          128,
          129,
          130,
          131,
          132,
          133,
          134,
          135,
          136,
          137,
          138,
          139,
          140,
          141,
          142,
          143,
          144,
          145,
          146,
          147,
          148,
          149,
          150,
          151,
          152,
          153,
          154,
          155,
          156,
          157,
          158,
          159,
          160,
          161,
          162,
          163,
          164,
          165,
          166,
          167,
          168,
          169,
          170,
          171,
          172,
          173,
          174,
          175,
          176,
          177,
          178,
          179,
          180,
          181,
          182,
          183,
          184,
          185,
          186,
          187,
          188,
          189,
          190,
          191,
          192,
          193,
          194,
          195,
          196,
          197,
          198,
          199
         ],
         "xaxis": "x",
         "y": [
          4.1202392578125,
          3.7354896068573,
          3.4005751609802246,
          3.017599582672119,
          2.6303200721740723,
          2.2612948417663574,
          1.9297046661376953,
          1.6422958374023438,
          1.392006754875183,
          1.1756813526153564,
          0.9903205037117004,
          0.834713339805603,
          0.7052382826805115,
          0.5976160764694214,
          0.5081630349159241,
          0.4352467954158783,
          0.37606602907180786,
          0.32721346616744995,
          0.28667885065078735,
          0.25300508737564087,
          0.2248077094554901,
          0.2009536772966385,
          0.18056049942970276,
          0.162976935505867,
          0.1477028876543045,
          0.13435128331184387,
          0.12261774390935898,
          0.1122627854347229,
          0.10309483855962753,
          0.09495512396097183,
          0.08770783990621567,
          0.0812363475561142,
          0.075440913438797,
          0.07023629546165466,
          0.06554943323135376,
          0.06131739541888237,
          0.05748584866523743,
          0.05400775000452995,
          0.05084233358502388,
          0.04795415699481964,
          0.045312389731407166,
          0.04289015382528305,
          0.040663979947566986,
          0.03861331194639206,
          0.0367201492190361,
          0.03496863692998886,
          0.033344876021146774,
          0.03183653950691223,
          0.030432794243097305,
          0.029123980551958084,
          0.027901560068130493,
          0.026757914572954178,
          0.025686252862215042,
          0.02468050643801689,
          0.023735228925943375,
          0.022845536470413208,
          0.022007033228874207,
          0.021215733140707016,
          0.020468082278966904,
          0.019760817289352417,
          0.019090991467237473,
          0.018455933779478073,
          0.01785319484770298,
          0.017280569300055504,
          0.01673601008951664,
          0.016217656433582306,
          0.015723800286650658,
          0.01525288075208664,
          0.014803451485931873,
          0.01437418907880783,
          0.013963868841528893,
          0.01357136107981205,
          0.013195609673857689,
          0.012835653498768806,
          0.012490583583712578,
          0.012159579433500767,
          0.011841857805848122,
          0.011536707170307636,
          0.011243436485528946,
          0.01096142828464508,
          0.010690105147659779,
          0.010428900830447674,
          0.01017732359468937,
          0.009934881702065468,
          0.009701129049062729,
          0.009475642815232277,
          0.00925802905112505,
          0.00904791709035635,
          0.008844956755638123,
          0.008648814633488655,
          0.008459190838038921,
          0.008275780826807022,
          0.008098305203020573,
          0.007926521822810173,
          0.007760173175483942,
          0.007599029690027237,
          0.007442866452038288,
          0.007291481830179691,
          0.007144676987081766,
          0.007002263329923153,
          0.006864064838737249,
          0.006729903165251017,
          0.006599637679755688,
          0.006473097018897533,
          0.0063501521944999695,
          0.006230655591934919,
          0.006114480085670948,
          0.0060015032067894936,
          0.0058915987610816956,
          0.005784664303064346,
          0.005680583883076906,
          0.005579253192991018,
          0.005480584688484669,
          0.005384474527090788,
          0.005290833301842213,
          0.005199580453336239,
          0.0051106358878314495,
          0.005023914389312267,
          0.004939342848956585,
          0.00485685421153903,
          0.00477637629956007,
          0.0046978360041975975,
          0.0046211788430809975,
          0.004546343348920345,
          0.004473268054425716,
          0.004401900805532932,
          0.004332185722887516,
          0.004264074377715588,
          0.004197516478598118,
          0.004132457543164492,
          0.004068854730576277,
          0.004006675444543362,
          0.0039458610117435455,
          0.0038863844238221645,
          0.003828196320682764,
          0.003771258983761072,
          0.003715540748089552,
          0.003661015536636114,
          0.003607629332691431,
          0.0035553656052798033,
          0.003504190593957901,
          0.0034540644846856594,
          0.003404969349503517,
          0.003356870263814926,
          0.003309738589450717,
          0.0032635561656206846,
          0.0032182943541556597,
          0.0031739245168864727,
          0.0031304266303777695,
          0.0030877806711941957,
          0.0030459598638117313,
          0.003004934173077345,
          0.0029647010378539562,
          0.002925229724496603,
          0.002886500209569931,
          0.0028484943322837353,
          0.002811205107718706,
          0.002774598076939583,
          0.0027386671863496304,
          0.00270339148119092,
          0.0026687586214393377,
          0.0026347513776272535,
          0.002601352520287037,
          0.0025685434229671955,
          0.0025363194290548563,
          0.0025046607479453087,
          0.002473561791703105,
          0.002443003235384822,
          0.0024129673838615417,
          0.0023834449239075184,
          0.002354439813643694,
          0.002325918525457382,
          0.002297884551808238,
          0.0022703062277287245,
          0.0022432073019444942,
          0.00221654842607677,
          0.0021903293672949076,
          0.0021645440720021725,
          0.00213917950168252,
          0.002114227507263422,
          0.0020896729547530413,
          0.0020655158441513777,
          0.002041745698079467,
          0.0020183592569082975,
          0.0019953325390815735,
          0.0019726750906556845,
          0.0019503723597154021,
          0.0019284153822809458,
          0.001906796358525753,
          0.001885505742393434,
          0.0018645531963557005,
          0.0018439122941344976,
          0.0018235829193145037,
          0.001803566119633615,
          0.0017838474595919251,
          0.0017644260078668594,
          0.0017452960601076484,
          0.001726441434584558,
          0.0017078656237572432,
          0.0016895653679966927
         ],
         "yaxis": "y"
        }
       ],
       "layout": {
        "legend": {
         "tracegroupgap": 0
        },
        "margin": {
         "t": 60
        },
        "template": {
         "data": {
          "bar": [
           {
            "error_x": {
             "color": "#2a3f5f"
            },
            "error_y": {
             "color": "#2a3f5f"
            },
            "marker": {
             "line": {
              "color": "#E5ECF6",
              "width": 0.5
             },
             "pattern": {
              "fillmode": "overlay",
              "size": 10,
              "solidity": 0.2
             }
            },
            "type": "bar"
           }
          ],
          "barpolar": [
           {
            "marker": {
             "line": {
              "color": "#E5ECF6",
              "width": 0.5
             },
             "pattern": {
              "fillmode": "overlay",
              "size": 10,
              "solidity": 0.2
             }
            },
            "type": "barpolar"
           }
          ],
          "carpet": [
           {
            "aaxis": {
             "endlinecolor": "#2a3f5f",
             "gridcolor": "white",
             "linecolor": "white",
             "minorgridcolor": "white",
             "startlinecolor": "#2a3f5f"
            },
            "baxis": {
             "endlinecolor": "#2a3f5f",
             "gridcolor": "white",
             "linecolor": "white",
             "minorgridcolor": "white",
             "startlinecolor": "#2a3f5f"
            },
            "type": "carpet"
           }
          ],
          "choropleth": [
           {
            "colorbar": {
             "outlinewidth": 0,
             "ticks": ""
            },
            "type": "choropleth"
           }
          ],
          "contour": [
           {
            "colorbar": {
             "outlinewidth": 0,
             "ticks": ""
            },
            "colorscale": [
             [
              0,
              "#0d0887"
             ],
             [
              0.1111111111111111,
              "#46039f"
             ],
             [
              0.2222222222222222,
              "#7201a8"
             ],
             [
              0.3333333333333333,
              "#9c179e"
             ],
             [
              0.4444444444444444,
              "#bd3786"
             ],
             [
              0.5555555555555556,
              "#d8576b"
             ],
             [
              0.6666666666666666,
              "#ed7953"
             ],
             [
              0.7777777777777778,
              "#fb9f3a"
             ],
             [
              0.8888888888888888,
              "#fdca26"
             ],
             [
              1,
              "#f0f921"
             ]
            ],
            "type": "contour"
           }
          ],
          "contourcarpet": [
           {
            "colorbar": {
             "outlinewidth": 0,
             "ticks": ""
            },
            "type": "contourcarpet"
           }
          ],
          "heatmap": [
           {
            "colorbar": {
             "outlinewidth": 0,
             "ticks": ""
            },
            "colorscale": [
             [
              0,
              "#0d0887"
             ],
             [
              0.1111111111111111,
              "#46039f"
             ],
             [
              0.2222222222222222,
              "#7201a8"
             ],
             [
              0.3333333333333333,
              "#9c179e"
             ],
             [
              0.4444444444444444,
              "#bd3786"
             ],
             [
              0.5555555555555556,
              "#d8576b"
             ],
             [
              0.6666666666666666,
              "#ed7953"
             ],
             [
              0.7777777777777778,
              "#fb9f3a"
             ],
             [
              0.8888888888888888,
              "#fdca26"
             ],
             [
              1,
              "#f0f921"
             ]
            ],
            "type": "heatmap"
           }
          ],
          "heatmapgl": [
           {
            "colorbar": {
             "outlinewidth": 0,
             "ticks": ""
            },
            "colorscale": [
             [
              0,
              "#0d0887"
             ],
             [
              0.1111111111111111,
              "#46039f"
             ],
             [
              0.2222222222222222,
              "#7201a8"
             ],
             [
              0.3333333333333333,
              "#9c179e"
             ],
             [
              0.4444444444444444,
              "#bd3786"
             ],
             [
              0.5555555555555556,
              "#d8576b"
             ],
             [
              0.6666666666666666,
              "#ed7953"
             ],
             [
              0.7777777777777778,
              "#fb9f3a"
             ],
             [
              0.8888888888888888,
              "#fdca26"
             ],
             [
              1,
              "#f0f921"
             ]
            ],
            "type": "heatmapgl"
           }
          ],
          "histogram": [
           {
            "marker": {
             "pattern": {
              "fillmode": "overlay",
              "size": 10,
              "solidity": 0.2
             }
            },
            "type": "histogram"
           }
          ],
          "histogram2d": [
           {
            "colorbar": {
             "outlinewidth": 0,
             "ticks": ""
            },
            "colorscale": [
             [
              0,
              "#0d0887"
             ],
             [
              0.1111111111111111,
              "#46039f"
             ],
             [
              0.2222222222222222,
              "#7201a8"
             ],
             [
              0.3333333333333333,
              "#9c179e"
             ],
             [
              0.4444444444444444,
              "#bd3786"
             ],
             [
              0.5555555555555556,
              "#d8576b"
             ],
             [
              0.6666666666666666,
              "#ed7953"
             ],
             [
              0.7777777777777778,
              "#fb9f3a"
             ],
             [
              0.8888888888888888,
              "#fdca26"
             ],
             [
              1,
              "#f0f921"
             ]
            ],
            "type": "histogram2d"
           }
          ],
          "histogram2dcontour": [
           {
            "colorbar": {
             "outlinewidth": 0,
             "ticks": ""
            },
            "colorscale": [
             [
              0,
              "#0d0887"
             ],
             [
              0.1111111111111111,
              "#46039f"
             ],
             [
              0.2222222222222222,
              "#7201a8"
             ],
             [
              0.3333333333333333,
              "#9c179e"
             ],
             [
              0.4444444444444444,
              "#bd3786"
             ],
             [
              0.5555555555555556,
              "#d8576b"
             ],
             [
              0.6666666666666666,
              "#ed7953"
             ],
             [
              0.7777777777777778,
              "#fb9f3a"
             ],
             [
              0.8888888888888888,
              "#fdca26"
             ],
             [
              1,
              "#f0f921"
             ]
            ],
            "type": "histogram2dcontour"
           }
          ],
          "mesh3d": [
           {
            "colorbar": {
             "outlinewidth": 0,
             "ticks": ""
            },
            "type": "mesh3d"
           }
          ],
          "parcoords": [
           {
            "line": {
             "colorbar": {
              "outlinewidth": 0,
              "ticks": ""
             }
            },
            "type": "parcoords"
           }
          ],
          "pie": [
           {
            "automargin": true,
            "type": "pie"
           }
          ],
          "scatter": [
           {
            "fillpattern": {
             "fillmode": "overlay",
             "size": 10,
             "solidity": 0.2
            },
            "type": "scatter"
           }
          ],
          "scatter3d": [
           {
            "line": {
             "colorbar": {
              "outlinewidth": 0,
              "ticks": ""
             }
            },
            "marker": {
             "colorbar": {
              "outlinewidth": 0,
              "ticks": ""
             }
            },
            "type": "scatter3d"
           }
          ],
          "scattercarpet": [
           {
            "marker": {
             "colorbar": {
              "outlinewidth": 0,
              "ticks": ""
             }
            },
            "type": "scattercarpet"
           }
          ],
          "scattergeo": [
           {
            "marker": {
             "colorbar": {
              "outlinewidth": 0,
              "ticks": ""
             }
            },
            "type": "scattergeo"
           }
          ],
          "scattergl": [
           {
            "marker": {
             "colorbar": {
              "outlinewidth": 0,
              "ticks": ""
             }
            },
            "type": "scattergl"
           }
          ],
          "scattermapbox": [
           {
            "marker": {
             "colorbar": {
              "outlinewidth": 0,
              "ticks": ""
             }
            },
            "type": "scattermapbox"
           }
          ],
          "scatterpolar": [
           {
            "marker": {
             "colorbar": {
              "outlinewidth": 0,
              "ticks": ""
             }
            },
            "type": "scatterpolar"
           }
          ],
          "scatterpolargl": [
           {
            "marker": {
             "colorbar": {
              "outlinewidth": 0,
              "ticks": ""
             }
            },
            "type": "scatterpolargl"
           }
          ],
          "scatterternary": [
           {
            "marker": {
             "colorbar": {
              "outlinewidth": 0,
              "ticks": ""
             }
            },
            "type": "scatterternary"
           }
          ],
          "surface": [
           {
            "colorbar": {
             "outlinewidth": 0,
             "ticks": ""
            },
            "colorscale": [
             [
              0,
              "#0d0887"
             ],
             [
              0.1111111111111111,
              "#46039f"
             ],
             [
              0.2222222222222222,
              "#7201a8"
             ],
             [
              0.3333333333333333,
              "#9c179e"
             ],
             [
              0.4444444444444444,
              "#bd3786"
             ],
             [
              0.5555555555555556,
              "#d8576b"
             ],
             [
              0.6666666666666666,
              "#ed7953"
             ],
             [
              0.7777777777777778,
              "#fb9f3a"
             ],
             [
              0.8888888888888888,
              "#fdca26"
             ],
             [
              1,
              "#f0f921"
             ]
            ],
            "type": "surface"
           }
          ],
          "table": [
           {
            "cells": {
             "fill": {
              "color": "#EBF0F8"
             },
             "line": {
              "color": "white"
             }
            },
            "header": {
             "fill": {
              "color": "#C8D4E3"
             },
             "line": {
              "color": "white"
             }
            },
            "type": "table"
           }
          ]
         },
         "layout": {
          "annotationdefaults": {
           "arrowcolor": "#2a3f5f",
           "arrowhead": 0,
           "arrowwidth": 1
          },
          "autotypenumbers": "strict",
          "coloraxis": {
           "colorbar": {
            "outlinewidth": 0,
            "ticks": ""
           }
          },
          "colorscale": {
           "diverging": [
            [
             0,
             "#8e0152"
            ],
            [
             0.1,
             "#c51b7d"
            ],
            [
             0.2,
             "#de77ae"
            ],
            [
             0.3,
             "#f1b6da"
            ],
            [
             0.4,
             "#fde0ef"
            ],
            [
             0.5,
             "#f7f7f7"
            ],
            [
             0.6,
             "#e6f5d0"
            ],
            [
             0.7,
             "#b8e186"
            ],
            [
             0.8,
             "#7fbc41"
            ],
            [
             0.9,
             "#4d9221"
            ],
            [
             1,
             "#276419"
            ]
           ],
           "sequential": [
            [
             0,
             "#0d0887"
            ],
            [
             0.1111111111111111,
             "#46039f"
            ],
            [
             0.2222222222222222,
             "#7201a8"
            ],
            [
             0.3333333333333333,
             "#9c179e"
            ],
            [
             0.4444444444444444,
             "#bd3786"
            ],
            [
             0.5555555555555556,
             "#d8576b"
            ],
            [
             0.6666666666666666,
             "#ed7953"
            ],
            [
             0.7777777777777778,
             "#fb9f3a"
            ],
            [
             0.8888888888888888,
             "#fdca26"
            ],
            [
             1,
             "#f0f921"
            ]
           ],
           "sequentialminus": [
            [
             0,
             "#0d0887"
            ],
            [
             0.1111111111111111,
             "#46039f"
            ],
            [
             0.2222222222222222,
             "#7201a8"
            ],
            [
             0.3333333333333333,
             "#9c179e"
            ],
            [
             0.4444444444444444,
             "#bd3786"
            ],
            [
             0.5555555555555556,
             "#d8576b"
            ],
            [
             0.6666666666666666,
             "#ed7953"
            ],
            [
             0.7777777777777778,
             "#fb9f3a"
            ],
            [
             0.8888888888888888,
             "#fdca26"
            ],
            [
             1,
             "#f0f921"
            ]
           ]
          },
          "colorway": [
           "#636efa",
           "#EF553B",
           "#00cc96",
           "#ab63fa",
           "#FFA15A",
           "#19d3f3",
           "#FF6692",
           "#B6E880",
           "#FF97FF",
           "#FECB52"
          ],
          "font": {
           "color": "#2a3f5f"
          },
          "geo": {
           "bgcolor": "white",
           "lakecolor": "white",
           "landcolor": "#E5ECF6",
           "showlakes": true,
           "showland": true,
           "subunitcolor": "white"
          },
          "hoverlabel": {
           "align": "left"
          },
          "hovermode": "closest",
          "mapbox": {
           "style": "light"
          },
          "paper_bgcolor": "white",
          "plot_bgcolor": "#E5ECF6",
          "polar": {
           "angularaxis": {
            "gridcolor": "white",
            "linecolor": "white",
            "ticks": ""
           },
           "bgcolor": "#E5ECF6",
           "radialaxis": {
            "gridcolor": "white",
            "linecolor": "white",
            "ticks": ""
           }
          },
          "scene": {
           "xaxis": {
            "backgroundcolor": "#E5ECF6",
            "gridcolor": "white",
            "gridwidth": 2,
            "linecolor": "white",
            "showbackground": true,
            "ticks": "",
            "zerolinecolor": "white"
           },
           "yaxis": {
            "backgroundcolor": "#E5ECF6",
            "gridcolor": "white",
            "gridwidth": 2,
            "linecolor": "white",
            "showbackground": true,
            "ticks": "",
            "zerolinecolor": "white"
           },
           "zaxis": {
            "backgroundcolor": "#E5ECF6",
            "gridcolor": "white",
            "gridwidth": 2,
            "linecolor": "white",
            "showbackground": true,
            "ticks": "",
            "zerolinecolor": "white"
           }
          },
          "shapedefaults": {
           "line": {
            "color": "#2a3f5f"
           }
          },
          "ternary": {
           "aaxis": {
            "gridcolor": "white",
            "linecolor": "white",
            "ticks": ""
           },
           "baxis": {
            "gridcolor": "white",
            "linecolor": "white",
            "ticks": ""
           },
           "bgcolor": "#E5ECF6",
           "caxis": {
            "gridcolor": "white",
            "linecolor": "white",
            "ticks": ""
           }
          },
          "title": {
           "x": 0.05
          },
          "xaxis": {
           "automargin": true,
           "gridcolor": "white",
           "linecolor": "white",
           "ticks": "",
           "title": {
            "standoff": 15
           },
           "zerolinecolor": "white",
           "zerolinewidth": 2
          },
          "yaxis": {
           "automargin": true,
           "gridcolor": "white",
           "linecolor": "white",
           "ticks": "",
           "title": {
            "standoff": 15
           },
           "zerolinecolor": "white",
           "zerolinewidth": 2
          }
         }
        },
        "xaxis": {
         "anchor": "y",
         "domain": [
          0,
          1
         ],
         "title": {
          "text": "Epoch"
         }
        },
        "yaxis": {
         "anchor": "x",
         "domain": [
          0,
          1
         ],
         "title": {
          "text": "Loss"
         }
        }
       }
      }
     },
     "metadata": {},
     "output_type": "display_data"
    }
   ],
   "source": [
    "line(losses, xaxis=\"Epoch\", yaxis=\"Loss\")"
   ]
  },
  {
   "cell_type": "code",
   "execution_count": 23,
   "metadata": {},
   "outputs": [],
   "source": [
    "training_data, testing_data = separate_data(128)\n",
    "train_data_gen = output_data(training_data)\n",
    "tokens = next(train_data_gen)\n",
    "\n",
    "inserted = torch.tensor([[43, 44]])\n",
    "tokens = torch.cat((inserted, tokens), dim=0)\n",
    "logits, cache = model.run_with_cache(tokens)"
   ]
  },
  {
   "cell_type": "code",
   "execution_count": 24,
   "metadata": {},
   "outputs": [
    {
     "name": "stdout",
     "output_type": "stream",
     "text": [
      "tensor([44, 40, 50, 47, 39, 57, 60, 55, 51, 54, 31, 51, 52, 46, 49, 30, 34, 57,\n",
      "        57, 54, 63, 59, 43, 45, 28, 46, 54, 40, 42, 63, 31, 58, 36, 31, 38, 57,\n",
      "        18, 35, 60, 34, 37, 29, 11, 29, 39, 44, 11, 61, 39, 59, 63, 61, 55, 28,\n",
      "        55, 60, 10, 62, 36, 21, 42, 21, 42, 51, 55, 44, 48, 44, 18, 57, 48, 39,\n",
      "         8, 54, 51, 11, 48, 60, 48, 45, 58, 51, 32, 63, 19, 49, 21, 58, 60, 60,\n",
      "        63, 49, 14, 26, 40, 39, 36, 59, 62, 21, 10, 39, 40, 47, 57, 62,  7, 48,\n",
      "        29, 42,  9, 45, 54, 52, 35, 54, 58, 61, 30, 55, 49, 44, 11, 49, 43, 33,\n",
      "        22, 50, 15])\n"
     ]
    }
   ],
   "source": [
    "attention_pattern = cache[\"pattern\", 0, \"attn\"]\n",
    "\n",
    "print(torch.argmax(logits[:, -1, :], dim=-1))"
   ]
  },
  {
   "cell_type": "code",
   "execution_count": 25,
   "metadata": {},
   "outputs": [
    {
     "data": {
      "text/html": [
       "<div id=\"circuits-vis-9f935463-634e\" style=\"margin: 15px 0;\"/>\n",
       "    <script crossorigin type=\"module\">\n",
       "    import { render, AttentionHeads } from \"https://unpkg.com/circuitsvis@1.43.2/dist/cdn/esm.js\";\n",
       "    render(\n",
       "      \"circuits-vis-9f935463-634e\",\n",
       "      AttentionHeads,\n",
       "      {\"attention\": [[[1.0, 0.0], [0.30914467573165894, 0.6908552646636963]]], \"tokens\": [\"43\", \"44\"]}\n",
       "    )\n",
       "    </script>"
      ],
      "text/plain": [
       "<circuitsvis.utils.render.RenderedHTML at 0x177306590>"
      ]
     },
     "execution_count": 25,
     "metadata": {},
     "output_type": "execute_result"
    }
   ],
   "source": [
    "cv.attention.attention_heads(tokens=list(map(lambda t: str(t.item()), tokens[0])), attention=attention_pattern[0])"
   ]
  },
  {
   "cell_type": "code",
   "execution_count": 26,
   "metadata": {},
   "outputs": [
    {
     "data": {
      "text/html": [
       "<div id=\"circuits-vis-33234754-76e8\" style=\"margin: 15px 0;\"/>\n",
       "    <script crossorigin type=\"module\">\n",
       "    import { render, AttentionPatterns } from \"https://unpkg.com/circuitsvis@1.43.2/dist/cdn/esm.js\";\n",
       "    render(\n",
       "      \"circuits-vis-33234754-76e8\",\n",
       "      AttentionPatterns,\n",
       "      {\"tokens\": [\"43\", \"44\"], \"attention\": [[[1.0, 0.0], [0.30914467573165894, 0.6908552646636963]]]}\n",
       "    )\n",
       "    </script>"
      ],
      "text/plain": [
       "<circuitsvis.utils.render.RenderedHTML at 0x36cf5dcd0>"
      ]
     },
     "execution_count": 26,
     "metadata": {},
     "output_type": "execute_result"
    }
   ],
   "source": [
    "cv.attention.attention_patterns(tokens=list(map(lambda t: str(t.item()), tokens[0])), attention=attention_pattern[0])"
   ]
  },
  {
   "cell_type": "code",
   "execution_count": 27,
   "metadata": {},
   "outputs": [
    {
     "data": {
      "text/html": [
       "<div id=\"circuits-vis-fe537242-9ec7\" style=\"margin: 15px 0;\"/>\n",
       "    <script crossorigin type=\"module\">\n",
       "    import { render, AttentionPatterns } from \"https://unpkg.com/circuitsvis@1.43.2/dist/cdn/esm.js\";\n",
       "    render(\n",
       "      \"circuits-vis-fe537242-9ec7\",\n",
       "      AttentionPatterns,\n",
       "      {\"tokens\": [\"2\", \"40\"], \"attention\": [[[1.0, 0.0], [1.0937030481272814e-07, 0.9999998807907104]]]}\n",
       "    )\n",
       "    </script>"
      ],
      "text/plain": [
       "<circuitsvis.utils.render.RenderedHTML at 0x36cf5e690>"
      ]
     },
     "execution_count": 27,
     "metadata": {},
     "output_type": "execute_result"
    }
   ],
   "source": [
    "cv.attention.attention_patterns(tokens=list(map(lambda t: str(t.item()), tokens[1])), attention=attention_pattern[1])"
   ]
  },
  {
   "cell_type": "code",
   "execution_count": 28,
   "metadata": {},
   "outputs": [
    {
     "data": {
      "text/html": [
       "<div id=\"circuits-vis-a9d2e492-119f\" style=\"margin: 15px 0;\"/>\n",
       "    <script crossorigin type=\"module\">\n",
       "    import { render, AttentionPatterns } from \"https://unpkg.com/circuitsvis@1.43.2/dist/cdn/esm.js\";\n",
       "    render(\n",
       "      \"circuits-vis-a9d2e492-119f\",\n",
       "      AttentionPatterns,\n",
       "      {\"tokens\": [\"50\", \"42\"], \"attention\": [[[1.0, 0.0], [0.9923507571220398, 0.007649225182831287]]]}\n",
       "    )\n",
       "    </script>"
      ],
      "text/plain": [
       "<circuitsvis.utils.render.RenderedHTML at 0x36cf5f310>"
      ]
     },
     "execution_count": 28,
     "metadata": {},
     "output_type": "execute_result"
    }
   ],
   "source": [
    "cv.attention.attention_patterns(tokens=list(map(lambda t: str(t.item()), tokens[2])), attention=attention_pattern[2])"
   ]
  },
  {
   "cell_type": "code",
   "execution_count": 29,
   "metadata": {},
   "outputs": [
    {
     "data": {
      "text/html": [
       "<div id=\"circuits-vis-33483eca-819e\" style=\"margin: 15px 0;\"/>\n",
       "    <script crossorigin type=\"module\">\n",
       "    import { render, AttentionPatterns } from \"https://unpkg.com/circuitsvis@1.43.2/dist/cdn/esm.js\";\n",
       "    render(\n",
       "      \"circuits-vis-33483eca-819e\",\n",
       "      AttentionPatterns,\n",
       "      {\"tokens\": [\"47\", \"20\"], \"attention\": [[[1.0, 0.0], [0.9999611377716064, 3.884573743562214e-05]]]}\n",
       "    )\n",
       "    </script>"
      ],
      "text/plain": [
       "<circuitsvis.utils.render.RenderedHTML at 0x36da24a90>"
      ]
     },
     "execution_count": 29,
     "metadata": {},
     "output_type": "execute_result"
    }
   ],
   "source": [
    "cv.attention.attention_patterns(tokens=list(map(lambda t: str(t.item()), tokens[3])), attention=attention_pattern[3])"
   ]
  },
  {
   "cell_type": "code",
   "execution_count": 30,
   "metadata": {},
   "outputs": [
    {
     "data": {
      "text/html": [
       "<div id=\"circuits-vis-a572cd66-2a09\" style=\"margin: 15px 0;\"/>\n",
       "    <script crossorigin type=\"module\">\n",
       "    import { render, AttentionPatterns } from \"https://unpkg.com/circuitsvis@1.43.2/dist/cdn/esm.js\";\n",
       "    render(\n",
       "      \"circuits-vis-a572cd66-2a09\",\n",
       "      AttentionPatterns,\n",
       "      {\"tokens\": [\"16\", \"39\"], \"attention\": [[[1.0, 0.0], [0.0001710866781650111, 0.9998289346694946]]]}\n",
       "    )\n",
       "    </script>"
      ],
      "text/plain": [
       "<circuitsvis.utils.render.RenderedHTML at 0x36cece9d0>"
      ]
     },
     "execution_count": 30,
     "metadata": {},
     "output_type": "execute_result"
    }
   ],
   "source": [
    "cv.attention.attention_patterns(tokens=list(map(lambda t: str(t.item()), tokens[4])), attention=attention_pattern[4])"
   ]
  },
  {
   "cell_type": "code",
   "execution_count": 31,
   "metadata": {},
   "outputs": [
    {
     "data": {
      "text/html": [
       "<div id=\"circuits-vis-f1b207ae-0710\" style=\"margin: 15px 0;\"/>\n",
       "    <script crossorigin type=\"module\">\n",
       "    import { render, AttentionPatterns } from \"https://unpkg.com/circuitsvis@1.43.2/dist/cdn/esm.js\";\n",
       "    render(\n",
       "      \"circuits-vis-f1b207ae-0710\",\n",
       "      AttentionPatterns,\n",
       "      {\"tokens\": [\"7\", \"57\"], \"attention\": [[[1.0, 0.0], [1.1165472102447893e-07, 0.9999998807907104]]]}\n",
       "    )\n",
       "    </script>"
      ],
      "text/plain": [
       "<circuitsvis.utils.render.RenderedHTML at 0x1777254d0>"
      ]
     },
     "execution_count": 31,
     "metadata": {},
     "output_type": "execute_result"
    }
   ],
   "source": [
    "cv.attention.attention_patterns(tokens=list(map(lambda t: str(t.item()), tokens[5])), attention=attention_pattern[5])"
   ]
  }
 ],
 "metadata": {
  "kernelspec": {
   "display_name": "ml",
   "language": "python",
   "name": "python3"
  },
  "language_info": {
   "codemirror_mode": {
    "name": "ipython",
    "version": 3
   },
   "file_extension": ".py",
   "mimetype": "text/x-python",
   "name": "python",
   "nbconvert_exporter": "python",
   "pygments_lexer": "ipython3",
   "version": "3.11.7"
  }
 },
 "nbformat": 4,
 "nbformat_minor": 2
}
