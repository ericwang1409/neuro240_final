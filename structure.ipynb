{
 "cells": [
  {
   "cell_type": "code",
   "execution_count": 1,
   "metadata": {},
   "outputs": [],
   "source": [
    "import torch\n",
    "import numpy as np\n",
    "import matplotlib.pyplot as plt\n",
    "from transformer_lens import HookedTransformer, HookedTransformerConfig, utils\n",
    "import circuitsvis as cv\n",
    "import plotly.express as px\n",
    "import pandas as pd\n",
    "from fancy_einsum import einsum"
   ]
  },
  {
   "cell_type": "code",
   "execution_count": 2,
   "metadata": {},
   "outputs": [],
   "source": [
    "# model parameter constants\n",
    "N_LAYERS = 1\n",
    "N_HEADS = 1\n",
    "D_MODEL = 32\n",
    "D_HEAD = 32\n",
    "D_MLP = None\n",
    "D_VOCAB = 64\n",
    "SEED = 123\n",
    "DEVICE = \"cuda\" if torch.cuda.is_available() else \"cpu\""
   ]
  },
  {
   "cell_type": "code",
   "execution_count": 3,
   "metadata": {},
   "outputs": [],
   "source": [
    "\n",
    "def line(tensor, line_labels=None, yaxis=\"\", xaxis=\"\", **kwargs):\n",
    "    if isinstance(tensor, torch.Tensor):\n",
    "        tensor = tensor.detach().numpy()\n",
    "    \n",
    "    df = pd.DataFrame({\n",
    "        xaxis: np.arange(len(tensor)),\n",
    "        yaxis: tensor\n",
    "    })\n",
    "    \n",
    "    fig = px.line(df, x=xaxis, y=yaxis, labels={xaxis: xaxis, yaxis: yaxis}, **kwargs)\n",
    "    \n",
    "    if line_labels:\n",
    "        for c, label in enumerate(line_labels):\n",
    "            fig.data[c].name = label\n",
    "\n",
    "    fig.show()"
   ]
  },
  {
   "cell_type": "markdown",
   "metadata": {},
   "source": [
    "Generating lists of a fixed length parameter"
   ]
  },
  {
   "cell_type": "code",
   "execution_count": 4,
   "metadata": {},
   "outputs": [],
   "source": [
    "# data generation\n",
    "import random\n",
    "\n",
    "FIXED_LENGTH = 10\n",
    "\n",
    "def generateLists(n, training=True):\n",
    "    output = []\n",
    "    for _ in range(n):\n",
    "        curr = []\n",
    "        for _ in range(FIXED_LENGTH):\n",
    "            if training:\n",
    "                curr.append(random.randint(0, D_VOCAB - 1))\n",
    "            else:\n",
    "                curr.append(random.randint(D_VOCAB // 2, D_VOCAB - 1))\n",
    "            # curr.append(random.randint(0, 100))\n",
    "\n",
    "        # maximum = max(curr)\n",
    "        # output.append((curr, maximum))\n",
    "        output.append(curr)\n",
    "\n",
    "    output = torch.tensor(output)\n",
    "    return output"
   ]
  },
  {
   "cell_type": "code",
   "execution_count": 5,
   "metadata": {},
   "outputs": [],
   "source": [
    "# def generateRandomLists():\n",
    "#     data = list(itertools.product(range(D_VOCAB), repeat=FIXED_LENGTH))\n",
    "#     data = torch.tensor(data)\n",
    "#     return data\n",
    "\n",
    "# generateRandomLists()"
   ]
  },
  {
   "cell_type": "markdown",
   "metadata": {},
   "source": [
    "Generating data function with separate training and testing data so it doesn't see what\n",
    "it's being tested on. Data generator"
   ]
  },
  {
   "cell_type": "code",
   "execution_count": 6,
   "metadata": {},
   "outputs": [],
   "source": [
    "def separate_data(n, split=0.7):\n",
    "    output = []\n",
    "    for i in range(D_VOCAB):\n",
    "        for j in range(D_VOCAB):\n",
    "            curr = [i, j]\n",
    "            output.append(curr)\n",
    "\n",
    "    random.shuffle(output)\n",
    "\n",
    "    split_index = int(len(output) * split)\n",
    "    # return training, testing\n",
    "    return torch.tensor(output[:split_index]), torch.tensor(output[split_index:])"
   ]
  },
  {
   "cell_type": "code",
   "execution_count": 7,
   "metadata": {},
   "outputs": [],
   "source": [
    "def output_data(data, batch_size=128):\n",
    "    for i in range(0, len(data), batch_size):\n",
    "        yield data[i:i + batch_size]"
   ]
  },
  {
   "cell_type": "markdown",
   "metadata": {},
   "source": [
    "Attempt at cross-validation"
   ]
  },
  {
   "cell_type": "code",
   "execution_count": 8,
   "metadata": {},
   "outputs": [],
   "source": [
    "def raw_generate():\n",
    "    output = []\n",
    "    for i in range(D_VOCAB):\n",
    "        for j in range(D_VOCAB):\n",
    "            curr = [i, j]\n",
    "            output.append(curr)\n",
    "\n",
    "    random.shuffle(output)\n",
    "    return output\n",
    "\n",
    "def cross_val_generate(output, epoch, total_epoch):\n",
    "    testing_size = int(len(output) / total_epoch)\n",
    "    split_index = testing_size * epoch\n",
    "    # return training, testing\n",
    "    testing = torch.tensor(output[split_index:split_index + testing_size])\n",
    "    training = torch.tensor(output[:split_index] + output[split_index + testing_size:])\n",
    "    return training, testing"
   ]
  },
  {
   "cell_type": "markdown",
   "metadata": {},
   "source": [
    "Generating variable length lists without separation"
   ]
  },
  {
   "cell_type": "code",
   "execution_count": 43,
   "metadata": {},
   "outputs": [
    {
     "data": {
      "text/plain": [
       "tensor([[ 5,  0,  0,  0,  0,  0,  0,  0,  0,  0],\n",
       "        [ 5, 25,  0,  0,  0,  0,  0,  0,  0,  0],\n",
       "        [45, 52, 50, 32, 48, 19, 63, 46, 29, 57],\n",
       "        [13, 29, 45, 48, 58,  0,  0,  0,  0,  0],\n",
       "        [21, 15, 26, 51, 56, 55, 51,  0,  0,  0],\n",
       "        [42, 48, 35, 48, 26,  0,  0,  0,  0,  0],\n",
       "        [53,  3,  7,  2, 46, 56, 56, 48,  0,  0],\n",
       "        [63, 15, 25, 41, 25,  1,  9, 44,  0,  0],\n",
       "        [ 4, 28, 52, 59, 30, 31, 39, 17, 37, 41],\n",
       "        [ 0,  0,  0,  0,  0,  0,  0,  0,  0,  0]])"
      ]
     },
     "execution_count": 43,
     "metadata": {},
     "output_type": "execute_result"
    }
   ],
   "source": [
    "def generateVariableLists(n, seen, training=True):\n",
    "    output = []\n",
    "    index = 0\n",
    "\n",
    "    while index < n:\n",
    "        i = 0\n",
    "        j = random.randint(0, FIXED_LENGTH)\n",
    "        curr = []\n",
    "        while i < j:\n",
    "            curr.append(random.randint(0, D_VOCAB - 1))\n",
    "            i += 1\n",
    "        while i < FIXED_LENGTH:\n",
    "            curr.append(0)\n",
    "            i += 1\n",
    "\n",
    "        if training:\n",
    "            seen.add(tuple(curr))\n",
    "            output.append(curr)\n",
    "            index += 1\n",
    "        else:\n",
    "            if tuple(curr) not in seen:\n",
    "                output.append(curr)\n",
    "                index += 1\n",
    "    \n",
    "    output = torch.tensor(output)\n",
    "    return output\n",
    "\n",
    "generateVariableLists(10, set())"
   ]
  },
  {
   "cell_type": "markdown",
   "metadata": {},
   "source": [
    "Model paramters. We are using one layer, one attention head (which pays to the \n",
    "tokens in contex to another), the dimensions of the model, dimension of the head,\n",
    "vocab is the size of the logits"
   ]
  },
  {
   "cell_type": "code",
   "execution_count": 10,
   "metadata": {},
   "outputs": [],
   "source": [
    "# model setup\n",
    "cfg = HookedTransformerConfig(\n",
    "    d_model=D_MODEL,\n",
    "    n_layers=N_LAYERS,\n",
    "    n_heads=N_HEADS,\n",
    "    d_head=D_HEAD,\n",
    "    n_ctx=FIXED_LENGTH,\n",
    "    d_vocab=D_VOCAB,\n",
    "    act_fn=\"relu\",\n",
    "    seed=SEED,\n",
    "    device=DEVICE,\n",
    "    attn_only=True\n",
    ")\n",
    "\n",
    "# hooked transformer used for interpretation later\n",
    "model = HookedTransformer(cfg, move_to_device=True)"
   ]
  },
  {
   "cell_type": "code",
   "execution_count": 11,
   "metadata": {},
   "outputs": [],
   "source": [
    "def loss_function(logits, tokens, return_per_token=True, print_tokens=False):\n",
    "    # we take the last element of the logits to make the next prediction\n",
    "    logits = logits[:, -1, :]\n",
    "    answer = torch.max(tokens, dim=1)[0]\n",
    "    log_prob = logits.log_softmax(-1)\n",
    "    if print_tokens:\n",
    "        print(\"tokens\", tokens)\n",
    "        print(\"predicted\", torch.argmax(logits, dim=-1))\n",
    "    # shape is (batch_size, 1) which represents probabilities \n",
    "    # of the correct answer\n",
    "    output_prob = log_prob.gather(-1, answer.unsqueeze(-1))\n",
    "    if return_per_token:\n",
    "        return -1 * output_prob.squeeze()\n",
    "    return -1 * output_prob.mean()"
   ]
  },
  {
   "cell_type": "code",
   "execution_count": 12,
   "metadata": {},
   "outputs": [],
   "source": [
    "def accuracy(logits, tokens, return_per_token=False):\n",
    "    logits = logits[:, -1, :]\n",
    "    predicted = torch.argmax(logits, dim=1)\n",
    "    answer = torch.max(tokens, dim=1)[0]\n",
    "    if return_per_token:\n",
    "        return (predicted == answer).float()\n",
    "    return (predicted == answer).float().mean().item()"
   ]
  },
  {
   "cell_type": "code",
   "execution_count": 13,
   "metadata": {},
   "outputs": [],
   "source": [
    "x = torch.tensor([[1], [2], [3], [4]])"
   ]
  },
  {
   "cell_type": "code",
   "execution_count": 14,
   "metadata": {},
   "outputs": [],
   "source": [
    "def train_model(model, n_epochs, batch_size, batches_per, sequence_length=2):\n",
    "    lr = 1e-3\n",
    "    betas = (0.9, 0.999)\n",
    "    optimizer = torch.optim.Adam(model.parameters(), lr=lr, betas=betas)\n",
    "\n",
    "    seen = set()\n",
    "    train_losses = []\n",
    "    for epoch in range(n_epochs):\n",
    "        epoch_losses = []\n",
    "        for _ in range(batches_per):\n",
    "            tokens = generateVariableLists(batch_size, seen, training=True)\n",
    "            logits = model(tokens)\n",
    "            # print(tokens.shape)\n",
    "            # print(logits.shape)\n",
    "            losses = loss_function(logits, tokens, print_tokens=False)\n",
    "            losses.mean().backward()\n",
    "            optimizer.step()\n",
    "            optimizer.zero_grad()\n",
    "            epoch_losses.extend(losses.detach())\n",
    "\n",
    "        train_losses.append(np.mean(epoch_losses))\n",
    "        if epoch % 10 == 0:\n",
    "            print(f\"Epoch {epoch}, train loss: {train_losses[-1]}\")\n",
    "\n",
    "    model.eval()\n",
    "    # might want to create the training and testing set beforehand\n",
    "    test_data = generateVariableLists(1280, seen, training=False)\n",
    "    logits = model(test_data)\n",
    "    acc = accuracy(logits, test_data, return_per_token=False)\n",
    "\n",
    "    print(f\"Test accuracy: {acc}\")\n",
    "\n",
    "    return train_losses, seen\n",
    "                "
   ]
  },
  {
   "cell_type": "markdown",
   "metadata": {},
   "source": [
    "Separate training and testing"
   ]
  },
  {
   "cell_type": "code",
   "execution_count": 15,
   "metadata": {},
   "outputs": [],
   "source": [
    "def train_model2(model, n_epochs, batch_size, batches_per, sequence_length=2):\n",
    "    lr = 1e-3\n",
    "    betas = (0.9, 0.999)\n",
    "    optimizer = torch.optim.Adam(model.parameters(), lr=lr, betas=betas)\n",
    "\n",
    "    train_losses = []\n",
    "    training_data, testing_data = separate_data(batch_size)\n",
    "\n",
    "    for epoch in range(n_epochs):\n",
    "        data_generator = output_data(training_data, batch_size)\n",
    "        epoch_losses = []\n",
    "        for _ in range(batches_per):\n",
    "            tokens = next(data_generator)\n",
    "            logits = model(tokens)\n",
    "            # print(tokens.shape)\n",
    "            # print(logits.shape)\n",
    "            losses = loss_function(logits, tokens, print_tokens=False)\n",
    "            losses.mean().backward()\n",
    "            optimizer.step()\n",
    "            optimizer.zero_grad()\n",
    "            epoch_losses.extend(losses.detach())\n",
    "\n",
    "        train_losses.append(np.mean(epoch_losses))\n",
    "        if epoch % 10 == 0:\n",
    "            print(f\"Epoch {epoch}, train loss: {train_losses[-1]}\")\n",
    "\n",
    "    model.eval()\n",
    "    # might want to create the training and testing set beforehand\n",
    "    logits = model(testing_data)\n",
    "    acc = accuracy(logits, testing_data, return_per_token=False)\n",
    "\n",
    "    print(f\"Test accuracy: {acc}\")\n",
    "\n",
    "    return train_losses\n",
    "                "
   ]
  },
  {
   "cell_type": "markdown",
   "metadata": {},
   "source": [
    "Cross validation"
   ]
  },
  {
   "cell_type": "code",
   "execution_count": 16,
   "metadata": {},
   "outputs": [],
   "source": [
    "def cross_val(model, n_epochs, batch_size, batches_per, sequence_length=2):\n",
    "    lr = 1e-3\n",
    "    betas = (0.9, 0.999)\n",
    "    optimizer = torch.optim.Adam(model.parameters(), lr=lr, betas=betas)\n",
    "\n",
    "    train_losses = []\n",
    "    all_data = raw_generate()\n",
    "\n",
    "    for epoch in range(n_epochs):\n",
    "        tokens, test = cross_val_generate(all_data, epoch, n_epochs - 1)\n",
    "        epoch_losses = []\n",
    "        for _ in range(batches_per):\n",
    "            logits = model(tokens)\n",
    "            # print(tokens.shape)\n",
    "            # print(logits.shape)\n",
    "            losses = loss_function(logits, tokens, print_tokens=False)\n",
    "            losses.mean().backward()\n",
    "            optimizer.step()\n",
    "            optimizer.zero_grad()\n",
    "            epoch_losses.extend(losses.detach())\n",
    "\n",
    "        train_losses.append(np.mean(epoch_losses))\n",
    "\n",
    "        model.eval()\n",
    "        logits = model(test)\n",
    "        acc = accuracy(logits, test, return_per_token=False)\n",
    "        if epoch % 10 == 0:\n",
    "            print(f\"Epoch {epoch}, train loss: {train_losses[-1]}\")\n",
    "            print(f\"Test accuracy: {acc}\")\n",
    "\n",
    "    return train_losses\n",
    "                "
   ]
  },
  {
   "cell_type": "code",
   "execution_count": 63,
   "metadata": {},
   "outputs": [
    {
     "name": "stdout",
     "output_type": "stream",
     "text": [
      "Epoch 0, train loss: 0.047225527465343475\n",
      "Epoch 10, train loss: 0.025252658873796463\n",
      "Epoch 20, train loss: 0.0349581353366375\n",
      "Epoch 30, train loss: 0.017877962440252304\n",
      "Epoch 40, train loss: 0.012119730934500694\n",
      "Epoch 50, train loss: 0.012458376586437225\n",
      "Epoch 60, train loss: 0.013950640335679054\n",
      "Epoch 70, train loss: 0.009471715427935123\n",
      "Epoch 80, train loss: 0.017646411433815956\n",
      "Epoch 90, train loss: 0.0024585756473243237\n",
      "Test accuracy: 1.0\n"
     ]
    }
   ],
   "source": [
    "losses, seen = train_model(model, 100, 128, 10, 3)"
   ]
  },
  {
   "cell_type": "code",
   "execution_count": 64,
   "metadata": {},
   "outputs": [
    {
     "data": {
      "application/vnd.plotly.v1+json": {
       "config": {
        "plotlyServerURL": "https://plot.ly"
       },
       "data": [
        {
         "hovertemplate": "Epoch=%{x}<br>Loss=%{y}<extra></extra>",
         "legendgroup": "",
         "line": {
          "color": "#636efa",
          "dash": "solid"
         },
         "marker": {
          "symbol": "circle"
         },
         "mode": "lines",
         "name": "",
         "orientation": "v",
         "showlegend": false,
         "type": "scatter",
         "x": [
          0,
          1,
          2,
          3,
          4,
          5,
          6,
          7,
          8,
          9,
          10,
          11,
          12,
          13,
          14,
          15,
          16,
          17,
          18,
          19,
          20,
          21,
          22,
          23,
          24,
          25,
          26,
          27,
          28,
          29,
          30,
          31,
          32,
          33,
          34,
          35,
          36,
          37,
          38,
          39,
          40,
          41,
          42,
          43,
          44,
          45,
          46,
          47,
          48,
          49,
          50,
          51,
          52,
          53,
          54,
          55,
          56,
          57,
          58,
          59,
          60,
          61,
          62,
          63,
          64,
          65,
          66,
          67,
          68,
          69,
          70,
          71,
          72,
          73,
          74,
          75,
          76,
          77,
          78,
          79,
          80,
          81,
          82,
          83,
          84,
          85,
          86,
          87,
          88,
          89,
          90,
          91,
          92,
          93,
          94,
          95,
          96,
          97,
          98,
          99
         ],
         "xaxis": "x",
         "y": [
          0.047225527465343475,
          0.03810830041766167,
          0.021215040236711502,
          0.020686324685811996,
          0.02289099618792534,
          0.031323932111263275,
          0.02994239702820778,
          0.03103472664952278,
          0.026738902553915977,
          0.01993720605969429,
          0.025252658873796463,
          0.03075474128127098,
          0.025772178545594215,
          0.01652488112449646,
          0.016719553619623184,
          0.01732328161597252,
          0.017067788168787956,
          0.029669856652617455,
          0.026046622544527054,
          0.024495158344507217,
          0.0349581353366375,
          0.04095745086669922,
          0.05299825221300125,
          0.020000478252768517,
          0.029346859082579613,
          0.015101355500519276,
          0.02078351005911827,
          0.026584094390273094,
          0.013141495175659657,
          0.014612828381359577,
          0.017877962440252304,
          0.0197540782392025,
          0.023713260889053345,
          0.018798168748617172,
          0.021255752071738243,
          0.01650112308561802,
          0.021141627803444862,
          0.019776945933699608,
          0.017170650884509087,
          0.013276368379592896,
          0.012119730934500694,
          0.0065833209082484245,
          0.009231001138687134,
          0.011555525474250317,
          0.005808529909700155,
          0.021290814504027367,
          0.020168766379356384,
          0.014072300866246223,
          0.007782035507261753,
          0.017072882503271103,
          0.012458376586437225,
          0.009297115728259087,
          0.018505487591028214,
          0.010432862676680088,
          0.0091409832239151,
          0.012571853585541248,
          0.013180814683437347,
          0.013355815783143044,
          0.024135246872901917,
          0.01971045322716236,
          0.013950640335679054,
          0.017200535163283348,
          0.012237116694450378,
          0.008835827931761742,
          0.010057085193693638,
          0.007413986138999462,
          0.006666640285402536,
          0.006883471272885799,
          0.01151130348443985,
          0.007688300218433142,
          0.009471715427935123,
          0.019736256450414658,
          0.013270696625113487,
          0.019926611334085464,
          0.015771258622407913,
          0.01929956115782261,
          0.01667175069451332,
          0.013606023974716663,
          0.02189198136329651,
          0.009584183804690838,
          0.017646411433815956,
          0.008982452563941479,
          0.01735839433968067,
          0.004858499858528376,
          0.007202149834483862,
          0.011417558416724205,
          0.008283445611596107,
          0.007574793882668018,
          0.009083953686058521,
          0.006006306037306786,
          0.0024585756473243237,
          0.0042351046577095985,
          0.004877403378486633,
          0.0055754175409674644,
          0.010897993110120296,
          0.010722347535192966,
          0.006796254310756922,
          0.004178849048912525,
          0.0088872779160738,
          0.009617018513381481
         ],
         "yaxis": "y"
        }
       ],
       "layout": {
        "legend": {
         "tracegroupgap": 0
        },
        "margin": {
         "t": 60
        },
        "template": {
         "data": {
          "bar": [
           {
            "error_x": {
             "color": "#2a3f5f"
            },
            "error_y": {
             "color": "#2a3f5f"
            },
            "marker": {
             "line": {
              "color": "#E5ECF6",
              "width": 0.5
             },
             "pattern": {
              "fillmode": "overlay",
              "size": 10,
              "solidity": 0.2
             }
            },
            "type": "bar"
           }
          ],
          "barpolar": [
           {
            "marker": {
             "line": {
              "color": "#E5ECF6",
              "width": 0.5
             },
             "pattern": {
              "fillmode": "overlay",
              "size": 10,
              "solidity": 0.2
             }
            },
            "type": "barpolar"
           }
          ],
          "carpet": [
           {
            "aaxis": {
             "endlinecolor": "#2a3f5f",
             "gridcolor": "white",
             "linecolor": "white",
             "minorgridcolor": "white",
             "startlinecolor": "#2a3f5f"
            },
            "baxis": {
             "endlinecolor": "#2a3f5f",
             "gridcolor": "white",
             "linecolor": "white",
             "minorgridcolor": "white",
             "startlinecolor": "#2a3f5f"
            },
            "type": "carpet"
           }
          ],
          "choropleth": [
           {
            "colorbar": {
             "outlinewidth": 0,
             "ticks": ""
            },
            "type": "choropleth"
           }
          ],
          "contour": [
           {
            "colorbar": {
             "outlinewidth": 0,
             "ticks": ""
            },
            "colorscale": [
             [
              0,
              "#0d0887"
             ],
             [
              0.1111111111111111,
              "#46039f"
             ],
             [
              0.2222222222222222,
              "#7201a8"
             ],
             [
              0.3333333333333333,
              "#9c179e"
             ],
             [
              0.4444444444444444,
              "#bd3786"
             ],
             [
              0.5555555555555556,
              "#d8576b"
             ],
             [
              0.6666666666666666,
              "#ed7953"
             ],
             [
              0.7777777777777778,
              "#fb9f3a"
             ],
             [
              0.8888888888888888,
              "#fdca26"
             ],
             [
              1,
              "#f0f921"
             ]
            ],
            "type": "contour"
           }
          ],
          "contourcarpet": [
           {
            "colorbar": {
             "outlinewidth": 0,
             "ticks": ""
            },
            "type": "contourcarpet"
           }
          ],
          "heatmap": [
           {
            "colorbar": {
             "outlinewidth": 0,
             "ticks": ""
            },
            "colorscale": [
             [
              0,
              "#0d0887"
             ],
             [
              0.1111111111111111,
              "#46039f"
             ],
             [
              0.2222222222222222,
              "#7201a8"
             ],
             [
              0.3333333333333333,
              "#9c179e"
             ],
             [
              0.4444444444444444,
              "#bd3786"
             ],
             [
              0.5555555555555556,
              "#d8576b"
             ],
             [
              0.6666666666666666,
              "#ed7953"
             ],
             [
              0.7777777777777778,
              "#fb9f3a"
             ],
             [
              0.8888888888888888,
              "#fdca26"
             ],
             [
              1,
              "#f0f921"
             ]
            ],
            "type": "heatmap"
           }
          ],
          "heatmapgl": [
           {
            "colorbar": {
             "outlinewidth": 0,
             "ticks": ""
            },
            "colorscale": [
             [
              0,
              "#0d0887"
             ],
             [
              0.1111111111111111,
              "#46039f"
             ],
             [
              0.2222222222222222,
              "#7201a8"
             ],
             [
              0.3333333333333333,
              "#9c179e"
             ],
             [
              0.4444444444444444,
              "#bd3786"
             ],
             [
              0.5555555555555556,
              "#d8576b"
             ],
             [
              0.6666666666666666,
              "#ed7953"
             ],
             [
              0.7777777777777778,
              "#fb9f3a"
             ],
             [
              0.8888888888888888,
              "#fdca26"
             ],
             [
              1,
              "#f0f921"
             ]
            ],
            "type": "heatmapgl"
           }
          ],
          "histogram": [
           {
            "marker": {
             "pattern": {
              "fillmode": "overlay",
              "size": 10,
              "solidity": 0.2
             }
            },
            "type": "histogram"
           }
          ],
          "histogram2d": [
           {
            "colorbar": {
             "outlinewidth": 0,
             "ticks": ""
            },
            "colorscale": [
             [
              0,
              "#0d0887"
             ],
             [
              0.1111111111111111,
              "#46039f"
             ],
             [
              0.2222222222222222,
              "#7201a8"
             ],
             [
              0.3333333333333333,
              "#9c179e"
             ],
             [
              0.4444444444444444,
              "#bd3786"
             ],
             [
              0.5555555555555556,
              "#d8576b"
             ],
             [
              0.6666666666666666,
              "#ed7953"
             ],
             [
              0.7777777777777778,
              "#fb9f3a"
             ],
             [
              0.8888888888888888,
              "#fdca26"
             ],
             [
              1,
              "#f0f921"
             ]
            ],
            "type": "histogram2d"
           }
          ],
          "histogram2dcontour": [
           {
            "colorbar": {
             "outlinewidth": 0,
             "ticks": ""
            },
            "colorscale": [
             [
              0,
              "#0d0887"
             ],
             [
              0.1111111111111111,
              "#46039f"
             ],
             [
              0.2222222222222222,
              "#7201a8"
             ],
             [
              0.3333333333333333,
              "#9c179e"
             ],
             [
              0.4444444444444444,
              "#bd3786"
             ],
             [
              0.5555555555555556,
              "#d8576b"
             ],
             [
              0.6666666666666666,
              "#ed7953"
             ],
             [
              0.7777777777777778,
              "#fb9f3a"
             ],
             [
              0.8888888888888888,
              "#fdca26"
             ],
             [
              1,
              "#f0f921"
             ]
            ],
            "type": "histogram2dcontour"
           }
          ],
          "mesh3d": [
           {
            "colorbar": {
             "outlinewidth": 0,
             "ticks": ""
            },
            "type": "mesh3d"
           }
          ],
          "parcoords": [
           {
            "line": {
             "colorbar": {
              "outlinewidth": 0,
              "ticks": ""
             }
            },
            "type": "parcoords"
           }
          ],
          "pie": [
           {
            "automargin": true,
            "type": "pie"
           }
          ],
          "scatter": [
           {
            "fillpattern": {
             "fillmode": "overlay",
             "size": 10,
             "solidity": 0.2
            },
            "type": "scatter"
           }
          ],
          "scatter3d": [
           {
            "line": {
             "colorbar": {
              "outlinewidth": 0,
              "ticks": ""
             }
            },
            "marker": {
             "colorbar": {
              "outlinewidth": 0,
              "ticks": ""
             }
            },
            "type": "scatter3d"
           }
          ],
          "scattercarpet": [
           {
            "marker": {
             "colorbar": {
              "outlinewidth": 0,
              "ticks": ""
             }
            },
            "type": "scattercarpet"
           }
          ],
          "scattergeo": [
           {
            "marker": {
             "colorbar": {
              "outlinewidth": 0,
              "ticks": ""
             }
            },
            "type": "scattergeo"
           }
          ],
          "scattergl": [
           {
            "marker": {
             "colorbar": {
              "outlinewidth": 0,
              "ticks": ""
             }
            },
            "type": "scattergl"
           }
          ],
          "scattermapbox": [
           {
            "marker": {
             "colorbar": {
              "outlinewidth": 0,
              "ticks": ""
             }
            },
            "type": "scattermapbox"
           }
          ],
          "scatterpolar": [
           {
            "marker": {
             "colorbar": {
              "outlinewidth": 0,
              "ticks": ""
             }
            },
            "type": "scatterpolar"
           }
          ],
          "scatterpolargl": [
           {
            "marker": {
             "colorbar": {
              "outlinewidth": 0,
              "ticks": ""
             }
            },
            "type": "scatterpolargl"
           }
          ],
          "scatterternary": [
           {
            "marker": {
             "colorbar": {
              "outlinewidth": 0,
              "ticks": ""
             }
            },
            "type": "scatterternary"
           }
          ],
          "surface": [
           {
            "colorbar": {
             "outlinewidth": 0,
             "ticks": ""
            },
            "colorscale": [
             [
              0,
              "#0d0887"
             ],
             [
              0.1111111111111111,
              "#46039f"
             ],
             [
              0.2222222222222222,
              "#7201a8"
             ],
             [
              0.3333333333333333,
              "#9c179e"
             ],
             [
              0.4444444444444444,
              "#bd3786"
             ],
             [
              0.5555555555555556,
              "#d8576b"
             ],
             [
              0.6666666666666666,
              "#ed7953"
             ],
             [
              0.7777777777777778,
              "#fb9f3a"
             ],
             [
              0.8888888888888888,
              "#fdca26"
             ],
             [
              1,
              "#f0f921"
             ]
            ],
            "type": "surface"
           }
          ],
          "table": [
           {
            "cells": {
             "fill": {
              "color": "#EBF0F8"
             },
             "line": {
              "color": "white"
             }
            },
            "header": {
             "fill": {
              "color": "#C8D4E3"
             },
             "line": {
              "color": "white"
             }
            },
            "type": "table"
           }
          ]
         },
         "layout": {
          "annotationdefaults": {
           "arrowcolor": "#2a3f5f",
           "arrowhead": 0,
           "arrowwidth": 1
          },
          "autotypenumbers": "strict",
          "coloraxis": {
           "colorbar": {
            "outlinewidth": 0,
            "ticks": ""
           }
          },
          "colorscale": {
           "diverging": [
            [
             0,
             "#8e0152"
            ],
            [
             0.1,
             "#c51b7d"
            ],
            [
             0.2,
             "#de77ae"
            ],
            [
             0.3,
             "#f1b6da"
            ],
            [
             0.4,
             "#fde0ef"
            ],
            [
             0.5,
             "#f7f7f7"
            ],
            [
             0.6,
             "#e6f5d0"
            ],
            [
             0.7,
             "#b8e186"
            ],
            [
             0.8,
             "#7fbc41"
            ],
            [
             0.9,
             "#4d9221"
            ],
            [
             1,
             "#276419"
            ]
           ],
           "sequential": [
            [
             0,
             "#0d0887"
            ],
            [
             0.1111111111111111,
             "#46039f"
            ],
            [
             0.2222222222222222,
             "#7201a8"
            ],
            [
             0.3333333333333333,
             "#9c179e"
            ],
            [
             0.4444444444444444,
             "#bd3786"
            ],
            [
             0.5555555555555556,
             "#d8576b"
            ],
            [
             0.6666666666666666,
             "#ed7953"
            ],
            [
             0.7777777777777778,
             "#fb9f3a"
            ],
            [
             0.8888888888888888,
             "#fdca26"
            ],
            [
             1,
             "#f0f921"
            ]
           ],
           "sequentialminus": [
            [
             0,
             "#0d0887"
            ],
            [
             0.1111111111111111,
             "#46039f"
            ],
            [
             0.2222222222222222,
             "#7201a8"
            ],
            [
             0.3333333333333333,
             "#9c179e"
            ],
            [
             0.4444444444444444,
             "#bd3786"
            ],
            [
             0.5555555555555556,
             "#d8576b"
            ],
            [
             0.6666666666666666,
             "#ed7953"
            ],
            [
             0.7777777777777778,
             "#fb9f3a"
            ],
            [
             0.8888888888888888,
             "#fdca26"
            ],
            [
             1,
             "#f0f921"
            ]
           ]
          },
          "colorway": [
           "#636efa",
           "#EF553B",
           "#00cc96",
           "#ab63fa",
           "#FFA15A",
           "#19d3f3",
           "#FF6692",
           "#B6E880",
           "#FF97FF",
           "#FECB52"
          ],
          "font": {
           "color": "#2a3f5f"
          },
          "geo": {
           "bgcolor": "white",
           "lakecolor": "white",
           "landcolor": "#E5ECF6",
           "showlakes": true,
           "showland": true,
           "subunitcolor": "white"
          },
          "hoverlabel": {
           "align": "left"
          },
          "hovermode": "closest",
          "mapbox": {
           "style": "light"
          },
          "paper_bgcolor": "white",
          "plot_bgcolor": "#E5ECF6",
          "polar": {
           "angularaxis": {
            "gridcolor": "white",
            "linecolor": "white",
            "ticks": ""
           },
           "bgcolor": "#E5ECF6",
           "radialaxis": {
            "gridcolor": "white",
            "linecolor": "white",
            "ticks": ""
           }
          },
          "scene": {
           "xaxis": {
            "backgroundcolor": "#E5ECF6",
            "gridcolor": "white",
            "gridwidth": 2,
            "linecolor": "white",
            "showbackground": true,
            "ticks": "",
            "zerolinecolor": "white"
           },
           "yaxis": {
            "backgroundcolor": "#E5ECF6",
            "gridcolor": "white",
            "gridwidth": 2,
            "linecolor": "white",
            "showbackground": true,
            "ticks": "",
            "zerolinecolor": "white"
           },
           "zaxis": {
            "backgroundcolor": "#E5ECF6",
            "gridcolor": "white",
            "gridwidth": 2,
            "linecolor": "white",
            "showbackground": true,
            "ticks": "",
            "zerolinecolor": "white"
           }
          },
          "shapedefaults": {
           "line": {
            "color": "#2a3f5f"
           }
          },
          "ternary": {
           "aaxis": {
            "gridcolor": "white",
            "linecolor": "white",
            "ticks": ""
           },
           "baxis": {
            "gridcolor": "white",
            "linecolor": "white",
            "ticks": ""
           },
           "bgcolor": "#E5ECF6",
           "caxis": {
            "gridcolor": "white",
            "linecolor": "white",
            "ticks": ""
           }
          },
          "title": {
           "x": 0.05
          },
          "xaxis": {
           "automargin": true,
           "gridcolor": "white",
           "linecolor": "white",
           "ticks": "",
           "title": {
            "standoff": 15
           },
           "zerolinecolor": "white",
           "zerolinewidth": 2
          },
          "yaxis": {
           "automargin": true,
           "gridcolor": "white",
           "linecolor": "white",
           "ticks": "",
           "title": {
            "standoff": 15
           },
           "zerolinecolor": "white",
           "zerolinewidth": 2
          }
         }
        },
        "xaxis": {
         "anchor": "y",
         "domain": [
          0,
          1
         ],
         "title": {
          "text": "Epoch"
         }
        },
        "yaxis": {
         "anchor": "x",
         "domain": [
          0,
          1
         ],
         "title": {
          "text": "Loss"
         }
        }
       }
      }
     },
     "metadata": {},
     "output_type": "display_data"
    }
   ],
   "source": [
    "line(losses, xaxis=\"Epoch\", yaxis=\"Loss\")"
   ]
  },
  {
   "cell_type": "markdown",
   "metadata": {},
   "source": [
    "Visualizing Attention"
   ]
  },
  {
   "cell_type": "code",
   "execution_count": 88,
   "metadata": {},
   "outputs": [],
   "source": [
    "# training_data, testing_data = separate_data(128)\n",
    "# train_data_gen = output_data(training_data)\n",
    "# tokens = next(train_data_gen)\n",
    "# logits, cache = model.run_with_cache(tokens)\n",
    "\n",
    "tokens = generateVariableLists(128, seen, training=False)\n",
    "special_token = [15, 10, 9, 8, 7, 6, 5, 4, 3, 2]\n",
    "tokens = torch.cat([torch.tensor([special_token]), tokens], dim=0)\n",
    "\n",
    "logits, cache = model.run_with_cache(tokens)"
   ]
  },
  {
   "cell_type": "code",
   "execution_count": 89,
   "metadata": {},
   "outputs": [
    {
     "name": "stdout",
     "output_type": "stream",
     "text": [
      "tensor([ 8, 59, 52, 63, 61, 59, 63, 55, 48, 62, 47, 44, 55, 58, 51, 48, 58, 43,\n",
      "        60, 46, 62, 61, 58, 57, 56, 24, 57, 51, 60, 58, 60, 60, 35, 55, 49, 60,\n",
      "        56, 48, 25, 61, 43, 63, 59, 59, 58, 61, 21, 52, 53, 49, 57, 60, 61, 62,\n",
      "        61, 34, 57, 53, 55, 52, 52, 33, 54, 57, 51, 59, 63, 36, 58, 55,  7, 57,\n",
      "        61, 60, 38, 53, 55, 59, 60, 48, 33, 48, 60, 49, 21, 54, 54, 63, 51, 59,\n",
      "        50, 55, 47, 58, 47, 49, 55, 60, 63, 63, 46, 59, 50, 54, 62, 55, 54, 61,\n",
      "        45, 41, 41, 39, 37, 54, 58, 29, 49, 54, 58, 62, 33, 59, 42, 46, 49, 61,\n",
      "        37, 61, 63])\n"
     ]
    }
   ],
   "source": [
    "attention_pattern = cache[\"pattern\", 0, \"attn\"]\n",
    "\n",
    "# print the first answer predicted by logits\n",
    "print(torch.argmax(logits[:, -1, :], dim=-1))"
   ]
  },
  {
   "cell_type": "code",
   "execution_count": 67,
   "metadata": {},
   "outputs": [
    {
     "data": {
      "text/html": [
       "<div id=\"circuits-vis-ab1176bc-553a\" style=\"margin: 15px 0;\"/>\n",
       "    <script crossorigin type=\"module\">\n",
       "    import { render, AttentionHeads } from \"https://unpkg.com/circuitsvis@1.43.2/dist/cdn/esm.js\";\n",
       "    render(\n",
       "      \"circuits-vis-ab1176bc-553a\",\n",
       "      AttentionHeads,\n",
       "      {\"attention\": [[[1.0, 0.0, 0.0, 0.0, 0.0, 0.0, 0.0, 0.0, 0.0, 0.0], [0.7509874701499939, 0.2490125298500061, 0.0, 0.0, 0.0, 0.0, 0.0, 0.0, 0.0, 0.0], [0.3124658167362213, 0.21072494983673096, 0.47680917382240295, 0.0, 0.0, 0.0, 0.0, 0.0, 0.0, 0.0], [0.2631077766418457, 0.1422601342201233, 0.41773998737335205, 0.17689219117164612, 0.0, 0.0, 0.0, 0.0, 0.0, 0.0], [0.298697829246521, 0.18447257578372955, 0.2217485010623932, 0.12094049155712128, 0.17414069175720215, 0.0, 0.0, 0.0, 0.0, 0.0], [0.22086776793003082, 0.22138305008411407, 0.2593991458415985, 0.19750605523586273, 0.09097021818161011, 0.009873748756945133, 0.0, 0.0, 0.0, 0.0], [0.20747755467891693, 0.16649387776851654, 0.19981570541858673, 0.16369150578975677, 0.1464409977197647, 0.03587481379508972, 0.08020559698343277, 0.0, 0.0, 0.0], [0.23770393431186676, 0.2132575660943985, 0.17414100468158722, 0.15929697453975677, 0.1402907371520996, 0.020416241139173508, 0.03621411323547363, 0.018679477274417877, 0.0, 0.0], [0.055671658366918564, 0.05974491685628891, 0.05597584694623947, 0.08959133923053741, 0.175638347864151, 0.06887934356927872, 0.14198917150497437, 0.15609724819660187, 0.1964121162891388, 0.0], [0.19232964515686035, 0.12021744251251221, 0.35309818387031555, 0.24567942321300507, 0.04361538216471672, 0.0052203889936208725, 0.006352385971695185, 0.003747961251065135, 0.010226622223854065, 0.019512519240379333]]], \"tokens\": [\"10\", \"9\", \"8\", \"7\", \"6\", \"5\", \"4\", \"3\", \"2\", \"1\"]}\n",
       "    )\n",
       "    </script>"
      ],
      "text/plain": [
       "<circuitsvis.utils.render.RenderedHTML at 0x17f6408d0>"
      ]
     },
     "execution_count": 67,
     "metadata": {},
     "output_type": "execute_result"
    }
   ],
   "source": [
    "cv.attention.attention_heads(tokens=list(map(lambda t: str(t.item()), tokens[0])), attention=attention_pattern[0])"
   ]
  },
  {
   "cell_type": "code",
   "execution_count": 80,
   "metadata": {},
   "outputs": [
    {
     "data": {
      "text/html": [
       "<div id=\"circuits-vis-5101bbb3-7840\" style=\"margin: 15px 0;\"/>\n",
       "    <script crossorigin type=\"module\">\n",
       "    import { render, AttentionPatterns } from \"https://unpkg.com/circuitsvis@1.43.2/dist/cdn/esm.js\";\n",
       "    render(\n",
       "      \"circuits-vis-5101bbb3-7840\",\n",
       "      AttentionPatterns,\n",
       "      {\"tokens\": [\"15\", \"10\", \"9\", \"8\", \"7\", \"6\", \"5\", \"4\", \"3\", \"2\"], \"attention\": [[[1.0, 0.0, 0.0, 0.0, 0.0, 0.0, 0.0, 0.0, 0.0, 0.0], [0.5877380967140198, 0.4122619330883026, 0.0, 0.0, 0.0, 0.0, 0.0, 0.0, 0.0, 0.0], [0.34944280982017517, 0.5067037343978882, 0.14385344088077545, 0.0, 0.0, 0.0, 0.0, 0.0, 0.0, 0.0], [0.313901424407959, 0.13139042258262634, 0.2042255848646164, 0.3504825532436371, 0.0, 0.0, 0.0, 0.0, 0.0, 0.0], [0.2717053294181824, 0.29516711831092834, 0.15956860780715942, 0.21278934180736542, 0.06076964735984802, 0.0, 0.0, 0.0, 0.0, 0.0], [0.20819233357906342, 0.20685984194278717, 0.15165828168392181, 0.198470339179039, 0.17364005744457245, 0.06117916852235794, 0.0, 0.0, 0.0, 0.0], [0.3190743029117584, 0.2820354700088501, 0.14272178709506989, 0.09235943853855133, 0.07220730185508728, 0.05300052836537361, 0.038601215928792953, 0.0, 0.0, 0.0], [0.19746306538581848, 0.11408643424510956, 0.15032605826854706, 0.2237653136253357, 0.16334424912929535, 0.07006184756755829, 0.046573881059885025, 0.0343792550265789, 0.0, 0.0], [0.43799257278442383, 0.16552823781967163, 0.10321435332298279, 0.08891615271568298, 0.0959325060248375, 0.046641986817121506, 0.03426691144704819, 0.011077813804149628, 0.016429491341114044, 0.0], [0.3185449540615082, 0.12869715690612793, 0.097893625497818, 0.33438345789909363, 0.09085597842931747, 0.011065726168453693, 0.007598395459353924, 0.0016627052100375295, 0.0020380925852805376, 0.007259939331561327]]]}\n",
       "    )\n",
       "    </script>"
      ],
      "text/plain": [
       "<circuitsvis.utils.render.RenderedHTML at 0x30b3a6b10>"
      ]
     },
     "execution_count": 80,
     "metadata": {},
     "output_type": "execute_result"
    }
   ],
   "source": [
    "cv.attention.attention_patterns(tokens=list(map(lambda t: str(t.item()), tokens[0])), attention=attention_pattern[0])"
   ]
  },
  {
   "cell_type": "code",
   "execution_count": 23,
   "metadata": {},
   "outputs": [
    {
     "data": {
      "text/html": [
       "<div id=\"circuits-vis-dd72c99e-40eb\" style=\"margin: 15px 0;\"/>\n",
       "    <script crossorigin type=\"module\">\n",
       "    import { render, AttentionHeads } from \"https://unpkg.com/circuitsvis@1.43.2/dist/cdn/esm.js\";\n",
       "    render(\n",
       "      \"circuits-vis-dd72c99e-40eb\",\n",
       "      AttentionHeads,\n",
       "      {\"attention\": [[[1.0, 0.0, 0.0, 0.0, 0.0, 0.0, 0.0, 0.0, 0.0, 0.0], [0.968835175037384, 0.031164852902293205, 0.0, 0.0, 0.0, 0.0, 0.0, 0.0, 0.0, 0.0], [1.0213985888185562e-06, 0.9995943903923035, 0.0004044960660394281, 0.0, 0.0, 0.0, 0.0, 0.0, 0.0, 0.0], [0.0779583752155304, 0.5756720304489136, 0.11248888820409775, 0.23388071358203888, 0.0, 0.0, 0.0, 0.0, 0.0, 0.0], [0.2261771559715271, 0.049689292907714844, 0.07913927733898163, 0.5596463084220886, 0.08534792065620422, 0.0, 0.0, 0.0, 0.0, 0.0], [0.0008978817495517433, 0.8868014812469482, 0.01960592158138752, 0.01734548807144165, 0.05219542235136032, 0.02315390296280384, 0.0, 0.0, 0.0, 0.0], [0.008245890028774738, 0.5735188722610474, 0.07887328416109085, 0.04169933497905731, 0.1620650291442871, 0.10822031646966934, 0.027377262711524963, 0.0, 0.0, 0.0], [0.0006672963500022888, 0.8999828696250916, 0.01875314675271511, 0.010021207854151726, 0.0433962307870388, 0.017114881426095963, 0.00993026327341795, 0.00013406749349087477, 0.0, 0.0], [0.04271768033504486, 0.36126822233200073, 0.1009165346622467, 0.09741710126399994, 0.20650961995124817, 0.07107160985469818, 0.08461586385965347, 0.020423000678420067, 0.015060355886816978, 0.0], [7.829799981455749e-16, 0.9999998807907104, 2.0275589207585654e-08, 1.012105288467069e-09, 1.39462358106357e-07, 1.556992756945874e-08, 2.2780841657521478e-09, 6.701086095243133e-18, 1.3742492285668905e-18, 7.070174911744907e-18]]], \"tokens\": [\"3\", \"62\", \"46\", \"40\", \"50\", \"46\", \"41\", \"0\", \"0\", \"0\"]}\n",
       "    )\n",
       "    </script>"
      ],
      "text/plain": [
       "<circuitsvis.utils.render.RenderedHTML at 0x30c60a250>"
      ]
     },
     "execution_count": 23,
     "metadata": {},
     "output_type": "execute_result"
    }
   ],
   "source": [
    "cv.attention.attention_heads(tokens=list(map(lambda t: str(t.item()), tokens[1])), attention=attention_pattern[1])"
   ]
  },
  {
   "cell_type": "code",
   "execution_count": 69,
   "metadata": {},
   "outputs": [
    {
     "data": {
      "text/html": [
       "<div id=\"circuits-vis-61fbcaf8-2f26\" style=\"margin: 15px 0;\"/>\n",
       "    <script crossorigin type=\"module\">\n",
       "    import { render, AttentionPatterns } from \"https://unpkg.com/circuitsvis@1.43.2/dist/cdn/esm.js\";\n",
       "    render(\n",
       "      \"circuits-vis-61fbcaf8-2f26\",\n",
       "      AttentionPatterns,\n",
       "      {\"tokens\": [\"6\", \"35\", \"28\", \"45\", \"0\", \"0\", \"0\", \"0\", \"0\", \"0\"], \"attention\": [[[1.0, 0.0, 0.0, 0.0, 0.0, 0.0, 0.0, 0.0, 0.0, 0.0], [0.058142900466918945, 0.941857099533081, 0.0, 0.0, 0.0, 0.0, 0.0, 0.0, 0.0, 0.0], [0.0003861195291392505, 0.8933390378952026, 0.10627485066652298, 0.0, 0.0, 0.0, 0.0, 0.0, 0.0, 0.0], [0.0014250661479309201, 0.16964824497699738, 0.0994003415107727, 0.7295264005661011, 0.0, 0.0, 0.0, 0.0, 0.0, 0.0], [0.14912386238574982, 0.3487987220287323, 0.1539815366268158, 0.26455774903297424, 0.08353810757398605, 0.0, 0.0, 0.0, 0.0, 0.0], [0.040293268859386444, 0.23742829263210297, 0.14559291303157806, 0.5494822263717651, 0.01766548492014408, 0.00953785702586174, 0.0, 0.0, 0.0, 0.0], [0.0632849782705307, 0.3232037127017975, 0.15900306403636932, 0.36086326837539673, 0.03634237125515938, 0.026457078754901886, 0.03084559179842472, 0.0, 0.0, 0.0], [0.11002187430858612, 0.2415565699338913, 0.12807898223400116, 0.2829659879207611, 0.06791426986455917, 0.05093620717525482, 0.06590553373098373, 0.05262058228254318, 0.0, 0.0], [0.1455404907464981, 0.09901640564203262, 0.06046205386519432, 0.06510128825902939, 0.15693631768226624, 0.10749105364084244, 0.10988204926252365, 0.12561602890491486, 0.12995433807373047, 0.0], [5.932722046964045e-07, 0.014516228809952736, 0.001907781115733087, 0.9835754632949829, 4.1848733367544355e-09, 9.828826641467003e-10, 6.053058498878272e-09, 2.295317935718799e-09, 5.638410294217522e-10, 1.6873397123973177e-09]]]}\n",
       "    )\n",
       "    </script>"
      ],
      "text/plain": [
       "<circuitsvis.utils.render.RenderedHTML at 0x30c60b950>"
      ]
     },
     "execution_count": 69,
     "metadata": {},
     "output_type": "execute_result"
    }
   ],
   "source": [
    "cv.attention.attention_patterns(tokens=list(map(lambda t: str(t.item()), tokens[1])), attention=attention_pattern[1])"
   ]
  },
  {
   "cell_type": "markdown",
   "metadata": {},
   "source": [
    "Given [x, y] when x is greater than y, then attention pattern of the second one looks at the first one. If y is greater than x, then the second\n",
    "attention pattern looks at the second one. The second position's attention is always focused on the one with the higher token value which makes\n",
    "sense. "
   ]
  },
  {
   "cell_type": "code",
   "execution_count": 25,
   "metadata": {},
   "outputs": [
    {
     "data": {
      "image/png": "[encoded data removed]",
      "text/plain": [
       "<Figure size 800x800 with 2 Axes>"
      ]
     },
     "metadata": {},
     "output_type": "display_data"
    }
   ],
   "source": [
    "attn = model.blocks[0].attn\n",
    "all_token_embeddings = model.embed(range(D_VOCAB))\n",
    "\n",
    "embeddings_key = einsum(\"d_vocab d_model, n_heads d_model d_head -> n_heads d_vocab d_head\", \n",
    "                        all_token_embeddings, attn.W_K) \n",
    "embeddings_query = einsum(\"d_vocab d_model, n_heads d_model d_head -> n_heads d_vocab d_head\", \n",
    "                          all_token_embeddings, attn.W_Q) \n",
    "                          \n",
    "plt.rcParams['figure.figsize'] = [20, 10]\n",
    "qk_circuit_attn_heatmap = einsum(\n",
    "    \"n_heads d_vocab_q d_head, n_heads d_vocab_k d_head -> ... d_vocab_q d_vocab_k\", \n",
    "    embeddings_query, embeddings_key\n",
    "    ).detach().cpu().numpy()\n",
    "fig, ax = plt.subplots(figsize=(8, 8))\n",
    "graph = ax.imshow(qk_circuit_attn_heatmap, cmap=\"hot\", interpolation=\"nearest\")\n",
    "plt.colorbar(graph)\n",
    "plt.tight_layout()"
   ]
  }
 ],
 "metadata": {
  "kernelspec": {
   "display_name": "ml",
   "language": "python",
   "name": "python3"
  },
  "language_info": {
   "codemirror_mode": {
    "name": "ipython",
    "version": 3
   },
   "file_extension": ".py",
   "mimetype": "text/x-python",
   "name": "python",
   "nbconvert_exporter": "python",
   "pygments_lexer": "ipython3",
   "version": "3.11.7"
  }
 },
 "nbformat": 4,
 "nbformat_minor": 2
}
