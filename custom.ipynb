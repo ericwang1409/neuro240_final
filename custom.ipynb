{
 "cells": [
  {
   "cell_type": "code",
   "execution_count": 1,
   "metadata": {},
   "outputs": [],
   "source": [
    "import torch\n",
    "import numpy as np\n",
    "import matplotlib.pyplot as plt\n",
    "from transformer_lens import HookedTransformer, HookedTransformerConfig, utils\n",
    "import random\n",
    "import circuitsvis as cv\n",
    "from fancy_einsum import einsum"
   ]
  },
  {
   "cell_type": "code",
   "execution_count": 2,
   "metadata": {},
   "outputs": [],
   "source": [
    "# model parameter constants\n",
    "N_LAYERS = 1\n",
    "N_HEADS = 1\n",
    "D_MODEL = 32\n",
    "D_HEAD = 32\n",
    "D_MLP = None\n",
    "D_VOCAB = 12\n",
    "SEED = 123\n",
    "DEVICE = \"cuda\" if torch.cuda.is_available() else \"cpu\"\n",
    "# DEVICE = torch.device(\"mps\")"
   ]
  },
  {
   "cell_type": "code",
   "execution_count": 3,
   "metadata": {},
   "outputs": [],
   "source": [
    "MAX_DIGITS = 5\n",
    "NUM_DIGITS = 2\n",
    "# 10 is between numbers, 11 for filler space\n",
    "CTX_LEN = NUM_DIGITS * MAX_DIGITS + 1"
   ]
  },
  {
   "cell_type": "code",
   "execution_count": 4,
   "metadata": {},
   "outputs": [
    {
     "data": {
      "text/plain": [
       "(tensor([[ 1,  3,  7, 11, 11, 10,  7,  9,  5, 11, 11],\n",
       "         [ 7,  0, 11, 11, 11, 10,  1,  4,  5,  2, 11],\n",
       "         [ 7,  8, 11, 11, 11, 10,  4, 11, 11, 11, 11],\n",
       "         [ 9,  2,  1,  5, 11, 10,  7,  2,  4,  0,  7],\n",
       "         [ 3,  5,  8, 11, 11, 10,  1,  1,  8, 11, 11],\n",
       "         [ 1,  3,  1,  2, 11, 10,  4, 11, 11, 11, 11],\n",
       "         [ 8,  5,  0, 11, 11, 10,  8, 11, 11, 11, 11],\n",
       "         [ 6,  9,  9,  5,  7, 10,  5,  7,  4,  3, 11],\n",
       "         [ 4,  0, 11, 11, 11, 10,  3,  3,  9,  4,  1],\n",
       "         [ 4,  0,  8,  7, 11, 10,  5,  0,  1, 11, 11]]),\n",
       " tensor([[ 7,  9,  5, 11, 11],\n",
       "         [ 1,  4,  5,  2, 11],\n",
       "         [ 7,  8, 11, 11, 11],\n",
       "         [ 7,  2,  4,  0,  7],\n",
       "         [ 3,  5,  8, 11, 11],\n",
       "         [ 1,  3,  1,  2, 11],\n",
       "         [ 8,  5,  0, 11, 11],\n",
       "         [ 6,  9,  9,  5,  7],\n",
       "         [ 3,  3,  9,  4,  1],\n",
       "         [ 4,  0,  8,  7, 11]]))"
      ]
     },
     "execution_count": 4,
     "metadata": {},
     "output_type": "execute_result"
    }
   ],
   "source": [
    "def generate_number_with_variable_length(max_digits):\n",
    "    num_digits = random.randint(1, max_digits)\n",
    "    if num_digits == 1:\n",
    "        return random.randint(0, 9)  # For a single digit, range is 0-9\n",
    "    else:\n",
    "        return random.randint(10**(num_digits-1), 10**num_digits - 1)\n",
    "\n",
    "def generate_data(n, training=True):\n",
    "    tokens = []\n",
    "    target = []\n",
    "\n",
    "    for _ in range(n):\n",
    "        curr = []\n",
    "        answer = \"\"\n",
    "        \n",
    "        a = (generate_number_with_variable_length(MAX_DIGITS))\n",
    "        b = (generate_number_with_variable_length(MAX_DIGITS))\n",
    "\n",
    "        if a > b:\n",
    "            answer = \"a\"\n",
    "        else:\n",
    "            answer = \"b\"\n",
    "\n",
    "        i = 0\n",
    "        for digit in str(a):\n",
    "            curr.append(int(digit))\n",
    "            i += 1\n",
    "        while i < MAX_DIGITS:\n",
    "            curr.append(11)\n",
    "            i += 1\n",
    "        \n",
    "        curr.append(10)\n",
    "        \n",
    "        i = 0\n",
    "        for digit in str(b):\n",
    "            curr.append(int(digit))\n",
    "            i += 1\n",
    "        while i < MAX_DIGITS:\n",
    "            curr.append(11)\n",
    "            i += 1\n",
    "        \n",
    "        if answer == \"a\":\n",
    "            answer_list = curr[:MAX_DIGITS]\n",
    "        else:\n",
    "            answer_list = curr[MAX_DIGITS+1:]\n",
    "\n",
    "        # answer_list = curr[MAX_DIGITS + 1:]\n",
    "\n",
    "        # while len(answer_list) < CTX_LEN:\n",
    "        #     answer_list.append(11)\n",
    "            \n",
    "        tokens.append(curr)\n",
    "        target.append(answer_list)\n",
    "\n",
    "    return torch.tensor(tokens), torch.tensor(target)\n",
    "\n",
    "generate_data(10)"
   ]
  },
  {
   "cell_type": "code",
   "execution_count": 5,
   "metadata": {},
   "outputs": [],
   "source": [
    "# model setup\n",
    "\n",
    "# MIGHT HAVE TO CHANGE CONTEXT OR VOCAB\n",
    "cfg = HookedTransformerConfig(\n",
    "    d_model=D_MODEL,\n",
    "    n_layers=N_LAYERS,\n",
    "    n_heads=N_HEADS,\n",
    "    d_head=D_HEAD,\n",
    "    n_ctx=CTX_LEN,\n",
    "    d_vocab=D_VOCAB,\n",
    "    act_fn=\"relu\",\n",
    "    seed=SEED,\n",
    "    device=DEVICE,\n",
    "    attn_only=True\n",
    ")\n",
    "\n",
    "# hooked transformer used for interpretation later\n",
    "model = HookedTransformer(cfg, move_to_device=True)\n",
    "# model.to(DEVICE)"
   ]
  },
  {
   "cell_type": "code",
   "execution_count": 20,
   "metadata": {},
   "outputs": [],
   "source": [
    "def loss_function(logits, target, return_per_token=True, print_tokens=False):\n",
    "    answer = target\n",
    "    print(logits.shape)\n",
    "    logits = logits[:, MAX_DIGITS + 1 : , :]\n",
    "    print(logits.shape)\n",
    "    log_prob = logits.log_softmax(-1)\n",
    "    output_prob = log_prob.gather(-1, answer[..., None])[..., 0]\n",
    "\n",
    "    # mask = (target != 11).float()\n",
    "    # masked_output_prob = output_prob * mask\n",
    "\n",
    "    if print_tokens:\n",
    "        print(\"target\", target)\n",
    "        print(\"predicted\", torch.argmax(logits, dim=-1))\n",
    "        # print(answer.unsqueeze(-1))\n",
    "        # print(output_prob)\n",
    "        \n",
    "    if return_per_token:\n",
    "        # return -(masked_output_prob / mask.sum(dim=1, keepdim=True).clamp(min=1))\n",
    "        return -output_prob\n",
    "    # return -(masked_output_prob.sum() / mask.sum())\n",
    "    return -output_prob.mean()"
   ]
  },
  {
   "cell_type": "code",
   "execution_count": 7,
   "metadata": {},
   "outputs": [],
   "source": [
    "def accuracy(logits, target, return_per_token=False):\n",
    "    logits = logits[:, MAX_DIGITS + 1:, :]\n",
    "    predicted = torch.argmax(logits, dim=-1)\n",
    "    answer = target\n",
    "    # print(predicted, answer)\n",
    "    if return_per_token:\n",
    "        return (predicted == answer).float()\n",
    "    return (predicted == answer).float().mean().item()"
   ]
  },
  {
   "cell_type": "code",
   "execution_count": 8,
   "metadata": {},
   "outputs": [],
   "source": [
    "import torch\n",
    "import torch.nn as nn\n",
    "import numpy as np\n",
    "\n",
    "def train_model(model, n_epochs, batch_size, batches_per, sequence_length=2):\n",
    "    lr = 1e-3\n",
    "    betas = (0.9, 0.999)\n",
    "    optimizer = torch.optim.Adam(model.parameters(), lr=lr, betas=betas)\n",
    "    \n",
    "    # Assuming you've defined your model's vocabulary size somewhere\n",
    "    vocab_size = 12 # Adjust this based on your actual vocab size\n",
    "    train_losses = []\n",
    "    # model.train()\n",
    "    for epoch in range(n_epochs):\n",
    "        epoch_losses = []\n",
    "        for _ in range(batches_per):\n",
    "            tokens, targets = generate_data(batch_size, training=True)  # Adjusted to expect tokens and targets\n",
    "            logits = model(tokens)\n",
    "            \n",
    "            # print(tokens)\n",
    "            losses = loss_function(logits, targets, print_tokens=False)\n",
    "            \n",
    "            losses.mean().backward()\n",
    "            optimizer.step()\n",
    "            optimizer.zero_grad()\n",
    "            \n",
    "            epoch_losses.extend(losses.detach())\n",
    "\n",
    "        # epoch_losses_cpu = [loss.cpu().numpy() for loss in epoch_losses]\n",
    "        train_losses.append(np.mean(epoch_losses))\n",
    "        if epoch % 10 == 0:\n",
    "            print(f\"Epoch {epoch}, train loss: {train_losses[-1]}\")\n",
    "\n",
    "    model.eval()\n",
    "\n",
    "    test_data, targets = generate_data(1280, training=True)\n",
    "    logits = model(test_data)\n",
    "\n",
    "    acc = accuracy(logits, targets, return_per_token=False)\n",
    "\n",
    "    print(f\"Validation accuracy: {acc}\")\n",
    "\n",
    "    return train_losses\n"
   ]
  },
  {
   "cell_type": "code",
   "execution_count": 21,
   "metadata": {},
   "outputs": [
    {
     "name": "stdout",
     "output_type": "stream",
     "text": [
      "torch.Size([128, 11, 12])\n",
      "torch.Size([128, 5, 12])\n",
      "torch.Size([128, 11, 12])\n",
      "torch.Size([128, 5, 12])\n",
      "torch.Size([128, 11, 12])\n",
      "torch.Size([128, 5, 12])\n",
      "torch.Size([128, 11, 12])\n",
      "torch.Size([128, 5, 12])\n",
      "torch.Size([128, 11, 12])\n",
      "torch.Size([128, 5, 12])\n",
      "torch.Size([128, 11, 12])\n",
      "torch.Size([128, 5, 12])\n",
      "torch.Size([128, 11, 12])\n",
      "torch.Size([128, 5, 12])\n",
      "torch.Size([128, 11, 12])\n",
      "torch.Size([128, 5, 12])\n",
      "torch.Size([128, 11, 12])\n",
      "torch.Size([128, 5, 12])\n",
      "torch.Size([128, 11, 12])\n",
      "torch.Size([128, 5, 12])\n",
      "Epoch 0, train loss: 0.2521994113922119\n",
      "Validation accuracy: 0.8518750071525574\n"
     ]
    }
   ],
   "source": [
    "torch.set_printoptions(threshold=10000)\n",
    "losses = train_model(model, 1, 128, 10)"
   ]
  },
  {
   "cell_type": "code",
   "execution_count": 10,
   "metadata": {},
   "outputs": [],
   "source": [
    "tokens, targets = generate_data(128, training=True)\n",
    "logits, cache = model.run_with_cache(tokens)\n",
    "attention_pattern = cache[\"pattern\", 0, \"attn\"]"
   ]
  },
  {
   "cell_type": "code",
   "execution_count": 11,
   "metadata": {},
   "outputs": [
    {
     "data": {
      "text/html": [
       "<div id=\"circuits-vis-90f894a8-e010\" style=\"margin: 15px 0;\"/>\n",
       "    <script crossorigin type=\"module\">\n",
       "    import { render, AttentionHeads } from \"https://unpkg.com/circuitsvis@1.43.2/dist/cdn/esm.js\";\n",
       "    render(\n",
       "      \"circuits-vis-90f894a8-e010\",\n",
       "      AttentionHeads,\n",
       "      {\"attention\": [[[1.0, 0.0, 0.0, 0.0, 0.0, 0.0, 0.0, 0.0, 0.0, 0.0, 0.0], [0.35100215673446655, 0.6489977836608887, 0.0, 0.0, 0.0, 0.0, 0.0, 0.0, 0.0, 0.0, 0.0], [0.12748906016349792, 0.0334710031747818, 0.8390399217605591, 0.0, 0.0, 0.0, 0.0, 0.0, 0.0, 0.0, 0.0], [0.2970788776874542, 0.07019202411174774, 0.17686212062835693, 0.4558670222759247, 0.0, 0.0, 0.0, 0.0, 0.0, 0.0, 0.0], [0.20845696330070496, 0.06953781843185425, 0.11156846582889557, 0.37434256076812744, 0.2360941469669342, 0.0, 0.0, 0.0, 0.0, 0.0, 0.0], [0.24888139963150024, 0.060785938054323196, 0.1111113578081131, 0.15109214186668396, 0.1483878791332245, 0.2797412574291229, 0.0, 0.0, 0.0, 0.0, 0.0], [0.22260145843029022, 0.011904828250408173, 0.21974407136440277, 0.2315717339515686, 0.2090790718793869, 0.0056747873313724995, 0.09942404180765152, 0.0, 0.0, 0.0, 0.0], [0.01560161728411913, 0.5677737593650818, 0.0025047766976058483, 0.0020480360835790634, 0.002508481964468956, 0.0034655302297323942, 0.020566554740071297, 0.3855311870574951, 0.0, 0.0, 0.0], [0.0035594147630035877, 0.023488499224185944, 0.15191639959812164, 0.003528863424435258, 0.00255572609603405, 0.04521855339407921, 0.019624808803200722, 0.016554970294237137, 0.7335526943206787, 0.0, 0.0], [0.014055063016712666, 0.0020099335815757513, 0.004204107448458672, 0.723929226398468, 0.06965120136737823, 0.09594595432281494, 0.0037103507202118635, 0.0007301565492525697, 0.0011365626705810428, 0.0846274197101593, 0.0], [0.016107745468616486, 0.0024481413420289755, 0.006034005433320999, 0.026586607098579407, 0.851260781288147, 0.04464750736951828, 0.003289739601314068, 0.0022692179773002863, 0.002524027368053794, 0.002961628371849656, 0.041870664805173874]]], \"tokens\": [\"9\", \"8\", \"11\", \"11\", \"11\", \"10\", \"9\", \"9\", \"2\", \"11\", \"11\"]}\n",
       "    )\n",
       "    </script>"
      ],
      "text/plain": [
       "<circuitsvis.utils.render.RenderedHTML at 0x175af7c10>"
      ]
     },
     "execution_count": 11,
     "metadata": {},
     "output_type": "execute_result"
    }
   ],
   "source": [
    "cv.attention.attention_heads(tokens=list(map(lambda t: str(t.item()), tokens[0])), attention=attention_pattern[0])"
   ]
  },
  {
   "cell_type": "code",
   "execution_count": 12,
   "metadata": {},
   "outputs": [
    {
     "data": {
      "text/html": [
       "<div id=\"circuits-vis-71c6c35e-3523\" style=\"margin: 15px 0;\"/>\n",
       "    <script crossorigin type=\"module\">\n",
       "    import { render, AttentionPatterns } from \"https://unpkg.com/circuitsvis@1.43.2/dist/cdn/esm.js\";\n",
       "    render(\n",
       "      \"circuits-vis-71c6c35e-3523\",\n",
       "      AttentionPatterns,\n",
       "      {\"tokens\": [\"9\", \"8\", \"11\", \"11\", \"11\", \"10\", \"9\", \"9\", \"2\", \"11\", \"11\"], \"attention\": [[[1.0, 0.0, 0.0, 0.0, 0.0, 0.0, 0.0, 0.0, 0.0, 0.0, 0.0], [0.35100215673446655, 0.6489977836608887, 0.0, 0.0, 0.0, 0.0, 0.0, 0.0, 0.0, 0.0, 0.0], [0.12748906016349792, 0.0334710031747818, 0.8390399217605591, 0.0, 0.0, 0.0, 0.0, 0.0, 0.0, 0.0, 0.0], [0.2970788776874542, 0.07019202411174774, 0.17686212062835693, 0.4558670222759247, 0.0, 0.0, 0.0, 0.0, 0.0, 0.0, 0.0], [0.20845696330070496, 0.06953781843185425, 0.11156846582889557, 0.37434256076812744, 0.2360941469669342, 0.0, 0.0, 0.0, 0.0, 0.0, 0.0], [0.24888139963150024, 0.060785938054323196, 0.1111113578081131, 0.15109214186668396, 0.1483878791332245, 0.2797412574291229, 0.0, 0.0, 0.0, 0.0, 0.0], [0.22260145843029022, 0.011904828250408173, 0.21974407136440277, 0.2315717339515686, 0.2090790718793869, 0.0056747873313724995, 0.09942404180765152, 0.0, 0.0, 0.0, 0.0], [0.01560161728411913, 0.5677737593650818, 0.0025047766976058483, 0.0020480360835790634, 0.002508481964468956, 0.0034655302297323942, 0.020566554740071297, 0.3855311870574951, 0.0, 0.0, 0.0], [0.0035594147630035877, 0.023488499224185944, 0.15191639959812164, 0.003528863424435258, 0.00255572609603405, 0.04521855339407921, 0.019624808803200722, 0.016554970294237137, 0.7335526943206787, 0.0, 0.0], [0.014055063016712666, 0.0020099335815757513, 0.004204107448458672, 0.723929226398468, 0.06965120136737823, 0.09594595432281494, 0.0037103507202118635, 0.0007301565492525697, 0.0011365626705810428, 0.0846274197101593, 0.0], [0.016107745468616486, 0.0024481413420289755, 0.006034005433320999, 0.026586607098579407, 0.851260781288147, 0.04464750736951828, 0.003289739601314068, 0.0022692179773002863, 0.002524027368053794, 0.002961628371849656, 0.041870664805173874]]]}\n",
       "    )\n",
       "    </script>"
      ],
      "text/plain": [
       "<circuitsvis.utils.render.RenderedHTML at 0x175af6fd0>"
      ]
     },
     "execution_count": 12,
     "metadata": {},
     "output_type": "execute_result"
    }
   ],
   "source": [
    "cv.attention.attention_patterns(tokens=list(map(lambda t: str(t.item()), tokens[0])), attention=attention_pattern[0])"
   ]
  },
  {
   "cell_type": "code",
   "execution_count": 13,
   "metadata": {},
   "outputs": [
    {
     "data": {
      "text/html": [
       "<div id=\"circuits-vis-469253d4-6def\" style=\"margin: 15px 0;\"/>\n",
       "    <script crossorigin type=\"module\">\n",
       "    import { render, AttentionPatterns } from \"https://unpkg.com/circuitsvis@1.43.2/dist/cdn/esm.js\";\n",
       "    render(\n",
       "      \"circuits-vis-469253d4-6def\",\n",
       "      AttentionPatterns,\n",
       "      {\"tokens\": [\"1\", \"5\", \"9\", \"11\", \"11\", \"10\", \"5\", \"11\", \"11\", \"11\", \"11\"], \"attention\": [[[1.0, 0.0, 0.0, 0.0, 0.0, 0.0, 0.0, 0.0, 0.0, 0.0, 0.0], [0.22233662009239197, 0.7776633501052856, 0.0, 0.0, 0.0, 0.0, 0.0, 0.0, 0.0, 0.0, 0.0], [0.18063051998615265, 0.0809687077999115, 0.7384007573127747, 0.0, 0.0, 0.0, 0.0, 0.0, 0.0, 0.0, 0.0], [0.3724847137928009, 0.06545978784561157, 0.12958350777626038, 0.4324719309806824, 0.0, 0.0, 0.0, 0.0, 0.0, 0.0, 0.0], [0.21270397305488586, 0.032345931977033615, 0.11714375019073486, 0.3911266028881073, 0.24667967855930328, 0.0, 0.0, 0.0, 0.0, 0.0, 0.0], [0.4024367928504944, 0.06407611817121506, 0.04748488962650299, 0.1267756074666977, 0.12450655549764633, 0.2347201257944107, 0.0, 0.0, 0.0, 0.0, 0.0], [0.32118263840675354, 0.013326676562428474, 0.004536793567240238, 0.22314532101154327, 0.279654860496521, 0.009961978532373905, 0.14819180965423584, 0.0, 0.0, 0.0, 0.0], [0.029729308560490608, 0.7028002142906189, 0.005537802819162607, 0.0033529920037835836, 0.014254380948841572, 0.012897985056042671, 0.008652817457914352, 0.22277449071407318, 0.0, 0.0, 0.0], [0.002911405870690942, 0.013230793178081512, 0.8491275906562805, 0.0019354780670255423, 0.006146740633994341, 0.07823406159877777, 0.005669678095728159, 0.0005656908033415675, 0.04217853769659996, 0.0, 0.0], [0.015671558678150177, 0.001224943669512868, 0.002193298889324069, 0.7237362861633301, 0.0696326419711113, 0.0959203839302063, 0.0038859047926962376, 0.0013538914499804378, 0.0017761833732947707, 0.08460486680269241, 0.0], [0.021818863227963448, 0.002472693333402276, 0.003914065193384886, 0.026385396718978882, 0.8448183536529541, 0.04430960863828659, 0.00483180396258831, 0.003674603532999754, 0.003281655488535762, 0.002939214464277029, 0.04155378043651581]]]}\n",
       "    )\n",
       "    </script>"
      ],
      "text/plain": [
       "<circuitsvis.utils.render.RenderedHTML at 0x1053f33d0>"
      ]
     },
     "execution_count": 13,
     "metadata": {},
     "output_type": "execute_result"
    }
   ],
   "source": [
    "cv.attention.attention_patterns(tokens=list(map(lambda t: str(t.item()), tokens[1])), attention=attention_pattern[1])"
   ]
  },
  {
   "cell_type": "code",
   "execution_count": 14,
   "metadata": {},
   "outputs": [
    {
     "data": {
      "text/html": [
       "<div id=\"circuits-vis-0ed9f390-abf1\" style=\"margin: 15px 0;\"/>\n",
       "    <script crossorigin type=\"module\">\n",
       "    import { render, AttentionPatterns } from \"https://unpkg.com/circuitsvis@1.43.2/dist/cdn/esm.js\";\n",
       "    render(\n",
       "      \"circuits-vis-0ed9f390-abf1\",\n",
       "      AttentionPatterns,\n",
       "      {\"tokens\": [\"9\", \"1\", \"0\", \"9\", \"11\", \"10\", \"2\", \"0\", \"2\", \"8\", \"11\"], \"attention\": [[[1.0, 0.0, 0.0, 0.0, 0.0, 0.0, 0.0, 0.0, 0.0, 0.0, 0.0], [0.3938736021518707, 0.6061264276504517, 0.0, 0.0, 0.0, 0.0, 0.0, 0.0, 0.0, 0.0, 0.0], [0.08913016319274902, 0.05429404601454735, 0.8565757870674133, 0.0, 0.0, 0.0, 0.0, 0.0, 0.0, 0.0, 0.0], [0.20596995949745178, 0.142837256193161, 0.38257646560668945, 0.26861637830734253, 0.0, 0.0, 0.0, 0.0, 0.0, 0.0, 0.0], [0.20167192816734314, 0.04693306237459183, 0.1215972751379013, 0.4013881981372833, 0.2284095287322998, 0.0, 0.0, 0.0, 0.0, 0.0, 0.0], [0.2560569941997528, 0.11648160219192505, 0.10906662791967392, 0.077922023832798, 0.1526661217212677, 0.28780660033226013, 0.0, 0.0, 0.0, 0.0, 0.0], [0.4388673007488251, 0.012619618326425552, 0.0023208018392324448, 0.008673022501170635, 0.35869452357292175, 0.015138788148760796, 0.16368591785430908, 0.0, 0.0, 0.0, 0.0], [0.01851595938205719, 0.5605677962303162, 0.0065393950790166855, 0.005507329013198614, 0.00319271394982934, 0.003402918577194214, 0.012503476813435555, 0.38977038860321045, 0.0, 0.0, 0.0], [0.0015719549264758825, 0.008472907356917858, 0.6167470216751099, 0.01088507380336523, 0.001128692994825542, 0.01996999979019165, 0.007475966587662697, 0.009787465445697308, 0.3239610195159912, 0.0, 0.0], [0.027636203914880753, 0.005812378134578466, 0.015681875869631767, 0.5495209097862244, 0.03487320616841316, 0.038882166147232056, 0.03035418502986431, 0.0064138430170714855, 0.008534285239875317, 0.2822909355163574, 0.0], [0.016248082742094994, 0.0024001123383641243, 0.0064234258607029915, 0.01619846560060978, 0.8586772680282593, 0.04503649100661278, 0.0037751381751149893, 0.003772645490244031, 0.002546017523854971, 0.0026869040448218584, 0.04223545640707016]]]}\n",
       "    )\n",
       "    </script>"
      ],
      "text/plain": [
       "<circuitsvis.utils.render.RenderedHTML at 0x175ae1310>"
      ]
     },
     "execution_count": 14,
     "metadata": {},
     "output_type": "execute_result"
    }
   ],
   "source": [
    "cv.attention.attention_patterns(tokens=list(map(lambda t: str(t.item()), tokens[2])), attention=attention_pattern[2])"
   ]
  },
  {
   "cell_type": "code",
   "execution_count": 15,
   "metadata": {},
   "outputs": [
    {
     "data": {
      "image/png": "[encoded data removed]",
      "text/plain": [
       "<Figure size 800x800 with 2 Axes>"
      ]
     },
     "metadata": {},
     "output_type": "display_data"
    }
   ],
   "source": [
    "attn = model.blocks[0].attn\n",
    "all_token_embeddings = model.embed(range(D_VOCAB))\n",
    "\n",
    "embeddings_key = einsum(\"d_vocab d_model, n_heads d_model d_head -> n_heads d_vocab d_head\", \n",
    "                        all_token_embeddings, attn.W_K) \n",
    "embeddings_query = einsum(\"d_vocab d_model, n_heads d_model d_head -> n_heads d_vocab d_head\", \n",
    "                          all_token_embeddings, attn.W_Q) \n",
    "                          \n",
    "plt.rcParams['figure.figsize'] = [20, 10]\n",
    "qk_circuit_attn_heatmap = einsum(\n",
    "    \"n_heads d_vocab_q d_head, n_heads d_vocab_k d_head -> ... d_vocab_q d_vocab_k\", \n",
    "    embeddings_query, embeddings_key\n",
    "    ).detach().cpu().numpy()\n",
    "fig, ax = plt.subplots(figsize=(8, 8))\n",
    "graph = ax.imshow(qk_circuit_attn_heatmap, cmap=\"hot\", interpolation=\"nearest\")\n",
    "plt.colorbar(graph)\n",
    "plt.tight_layout()"
   ]
  }
 ],
 "metadata": {
  "kernelspec": {
   "display_name": "ml",
   "language": "python",
   "name": "python3"
  },
  "language_info": {
   "codemirror_mode": {
    "name": "ipython",
    "version": 3
   },
   "file_extension": ".py",
   "mimetype": "text/x-python",
   "name": "python",
   "nbconvert_exporter": "python",
   "pygments_lexer": "ipython3",
   "version": "3.11.7"
  }
 },
 "nbformat": 4,
 "nbformat_minor": 2
}
