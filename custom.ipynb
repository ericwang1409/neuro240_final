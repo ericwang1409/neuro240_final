{
 "cells": [
  {
   "cell_type": "code",
   "execution_count": 187,
   "metadata": {},
   "outputs": [],
   "source": [
    "import torch\n",
    "import numpy as np\n",
    "import matplotlib.pyplot as plt\n",
    "from transformer_lens import HookedTransformer, HookedTransformerConfig, utils\n",
    "import random\n",
    "import circuitsvis as cv\n",
    "from fancy_einsum import einsum"
   ]
  },
  {
   "cell_type": "code",
   "execution_count": 174,
   "metadata": {},
   "outputs": [],
   "source": [
    "# model parameter constants\n",
    "N_LAYERS = 1\n",
    "N_HEADS = 1\n",
    "D_MODEL = 32\n",
    "D_HEAD = 32\n",
    "D_MLP = None\n",
    "D_VOCAB = 12\n",
    "SEED = 123\n",
    "DEVICE = \"cuda\" if torch.cuda.is_available() else \"cpu\"\n",
    "# DEVICE = torch.device(\"mps\")"
   ]
  },
  {
   "cell_type": "code",
   "execution_count": 175,
   "metadata": {},
   "outputs": [],
   "source": [
    "MAX_DIGITS = 5\n",
    "NUM_DIGITS = 2\n",
    "# 10 is between numbers, 11 for filler space\n",
    "CTX_LEN = NUM_DIGITS * MAX_DIGITS + 1"
   ]
  },
  {
   "cell_type": "code",
   "execution_count": 176,
   "metadata": {},
   "outputs": [
    {
     "data": {
      "text/plain": [
       "(tensor([[ 6,  7,  1, 11, 11, 10,  5,  3,  4,  1,  6],\n",
       "         [ 3, 11, 11, 11, 11, 10,  4,  6, 11, 11, 11],\n",
       "         [ 5,  9, 11, 11, 11, 10,  1,  6,  5,  7,  1],\n",
       "         [ 7,  7,  8,  3,  0, 10,  8,  5,  1,  3,  7],\n",
       "         [ 4,  8,  5, 11, 11, 10,  7,  5,  8,  3,  4],\n",
       "         [ 2, 11, 11, 11, 11, 10,  5,  3, 11, 11, 11],\n",
       "         [ 6,  6,  6, 11, 11, 10,  1,  7,  9, 11, 11],\n",
       "         [ 5,  8, 11, 11, 11, 10,  8,  1,  6,  0, 11],\n",
       "         [ 8,  2,  6, 11, 11, 10,  7,  0,  2,  5, 11],\n",
       "         [ 1,  9,  1,  8, 11, 10,  2,  3,  6,  6, 11]]),\n",
       " tensor([[ 5,  3,  4,  1,  6],\n",
       "         [ 4,  6, 11, 11, 11],\n",
       "         [ 1,  6,  5,  7,  1],\n",
       "         [ 8,  5,  1,  3,  7],\n",
       "         [ 7,  5,  8,  3,  4],\n",
       "         [ 5,  3, 11, 11, 11],\n",
       "         [ 6,  6,  6, 11, 11],\n",
       "         [ 8,  1,  6,  0, 11],\n",
       "         [ 7,  0,  2,  5, 11],\n",
       "         [ 2,  3,  6,  6, 11]]))"
      ]
     },
     "execution_count": 176,
     "metadata": {},
     "output_type": "execute_result"
    }
   ],
   "source": [
    "def generate_number_with_variable_length(max_digits):\n",
    "    num_digits = random.randint(1, max_digits)\n",
    "    if num_digits == 1:\n",
    "        return random.randint(0, 9)  # For a single digit, range is 0-9\n",
    "    else:\n",
    "        return random.randint(10**(num_digits-1), 10**num_digits - 1)\n",
    "\n",
    "def generate_data(n, training=True):\n",
    "    tokens = []\n",
    "    target = []\n",
    "\n",
    "    for _ in range(n):\n",
    "        curr = []\n",
    "        answer = \"\"\n",
    "        \n",
    "        a = (generate_number_with_variable_length(MAX_DIGITS))\n",
    "        b = (generate_number_with_variable_length(MAX_DIGITS))\n",
    "\n",
    "        if a > b:\n",
    "            answer = \"a\"\n",
    "        else:\n",
    "            answer = \"b\"\n",
    "\n",
    "        i = 0\n",
    "        for digit in str(a):\n",
    "            curr.append(int(digit))\n",
    "            i += 1\n",
    "        while i < MAX_DIGITS:\n",
    "            curr.append(11)\n",
    "            i += 1\n",
    "        \n",
    "        curr.append(10)\n",
    "        \n",
    "        i = 0\n",
    "        for digit in str(b):\n",
    "            curr.append(int(digit))\n",
    "            i += 1\n",
    "        while i < MAX_DIGITS:\n",
    "            curr.append(11)\n",
    "            i += 1\n",
    "        \n",
    "        if answer == \"a\":\n",
    "            answer_list = curr[:MAX_DIGITS]\n",
    "        else:\n",
    "            answer_list = curr[MAX_DIGITS+1:]\n",
    "\n",
    "        # answer_list = curr[MAX_DIGITS + 1:]\n",
    "\n",
    "        # while len(answer_list) < CTX_LEN:\n",
    "        #     answer_list.append(11)\n",
    "            \n",
    "        tokens.append(curr)\n",
    "        target.append(answer_list)\n",
    "\n",
    "    return torch.tensor(tokens), torch.tensor(target)\n",
    "\n",
    "generate_data(10)"
   ]
  },
  {
   "cell_type": "code",
   "execution_count": 177,
   "metadata": {},
   "outputs": [],
   "source": [
    "# model setup\n",
    "\n",
    "# MIGHT HAVE TO CHANGE CONTEXT OR VOCAB\n",
    "cfg = HookedTransformerConfig(\n",
    "    d_model=D_MODEL,\n",
    "    n_layers=N_LAYERS,\n",
    "    n_heads=N_HEADS,\n",
    "    d_head=D_HEAD,\n",
    "    n_ctx=CTX_LEN,\n",
    "    d_vocab=D_VOCAB,\n",
    "    act_fn=\"relu\",\n",
    "    seed=SEED,\n",
    "    device=DEVICE,\n",
    "    attn_only=True\n",
    ")\n",
    "\n",
    "# hooked transformer used for interpretation later\n",
    "model = HookedTransformer(cfg, move_to_device=True)\n",
    "# model.to(DEVICE)"
   ]
  },
  {
   "cell_type": "code",
   "execution_count": 178,
   "metadata": {},
   "outputs": [],
   "source": [
    "def loss_function(logits, target, return_per_token=True, print_tokens=False):\n",
    "    answer = target\n",
    "    logits = logits[:, MAX_DIGITS + 1 : , :]\n",
    "    log_prob = logits.log_softmax(-1)\n",
    "    output_prob = log_prob.gather(-1, answer[..., None])[..., 0]\n",
    "\n",
    "    # mask = (target != 11).float()\n",
    "    # masked_output_prob = output_prob * mask\n",
    "\n",
    "    if print_tokens:\n",
    "        print(\"target\", target)\n",
    "        print(\"predicted\", torch.argmax(logits, dim=-1))\n",
    "        # print(answer.unsqueeze(-1))\n",
    "        # print(output_prob)\n",
    "        \n",
    "    if return_per_token:\n",
    "        # return -(masked_output_prob / mask.sum(dim=1, keepdim=True).clamp(min=1))\n",
    "        return -output_prob\n",
    "    # return -(masked_output_prob.sum() / mask.sum())\n",
    "    return -output_prob.mean()"
   ]
  },
  {
   "cell_type": "code",
   "execution_count": 179,
   "metadata": {},
   "outputs": [],
   "source": [
    "def accuracy(logits, target, return_per_token=False):\n",
    "    logits = logits[:, MAX_DIGITS + 1:, :]\n",
    "    predicted = torch.argmax(logits, dim=-1)\n",
    "    answer = target\n",
    "    # print(predicted, answer)\n",
    "    if return_per_token:\n",
    "        return (predicted == answer).float()\n",
    "    return (predicted == answer).float().mean().item()"
   ]
  },
  {
   "cell_type": "code",
   "execution_count": 180,
   "metadata": {},
   "outputs": [],
   "source": [
    "import torch\n",
    "import torch.nn as nn\n",
    "import numpy as np\n",
    "\n",
    "def train_model(model, n_epochs, batch_size, batches_per, sequence_length=2):\n",
    "    lr = 1e-3\n",
    "    betas = (0.9, 0.999)\n",
    "    optimizer = torch.optim.Adam(model.parameters(), lr=lr, betas=betas)\n",
    "    \n",
    "    # Assuming you've defined your model's vocabulary size somewhere\n",
    "    vocab_size = 12 # Adjust this based on your actual vocab size\n",
    "    train_losses = []\n",
    "    # model.train()\n",
    "    for epoch in range(n_epochs):\n",
    "        epoch_losses = []\n",
    "        for _ in range(batches_per):\n",
    "            tokens, targets = generate_data(batch_size, training=True)  # Adjusted to expect tokens and targets\n",
    "            logits = model(tokens)\n",
    "            \n",
    "            # print(tokens)\n",
    "            losses = loss_function(logits, targets, print_tokens=False)\n",
    "            \n",
    "            losses.mean().backward()\n",
    "            optimizer.step()\n",
    "            optimizer.zero_grad()\n",
    "            \n",
    "            epoch_losses.extend(losses.detach())\n",
    "\n",
    "        # epoch_losses_cpu = [loss.cpu().numpy() for loss in epoch_losses]\n",
    "        train_losses.append(np.mean(epoch_losses))\n",
    "        if epoch % 10 == 0:\n",
    "            print(f\"Epoch {epoch}, train loss: {train_losses[-1]}\")\n",
    "\n",
    "    model.eval()\n",
    "\n",
    "    test_data, targets = generate_data(1280, training=True)\n",
    "    logits = model(test_data)\n",
    "\n",
    "    acc = accuracy(logits, targets, return_per_token=False)\n",
    "\n",
    "    print(f\"Validation accuracy: {acc}\")\n",
    "\n",
    "    return train_losses\n"
   ]
  },
  {
   "cell_type": "code",
   "execution_count": 181,
   "metadata": {},
   "outputs": [
    {
     "name": "stdout",
     "output_type": "stream",
     "text": [
      "Epoch 0, train loss: 2.2213776111602783\n",
      "Epoch 10, train loss: 0.4503398835659027\n",
      "Epoch 20, train loss: 0.3361239731311798\n",
      "Epoch 30, train loss: 0.30249735713005066\n",
      "Epoch 40, train loss: 0.2920592427253723\n",
      "Epoch 50, train loss: 0.2780539393424988\n",
      "Epoch 60, train loss: 0.28201010823249817\n",
      "Epoch 70, train loss: 0.2729364335536957\n",
      "Epoch 80, train loss: 0.26289260387420654\n",
      "Epoch 90, train loss: 0.2572329342365265\n",
      "Epoch 100, train loss: 0.26881974935531616\n",
      "Epoch 110, train loss: 0.26019027829170227\n",
      "Epoch 120, train loss: 0.24818964302539825\n",
      "Epoch 130, train loss: 0.2536875903606415\n",
      "Epoch 140, train loss: 0.24656520783901215\n",
      "Epoch 150, train loss: 0.24911728501319885\n",
      "Epoch 160, train loss: 0.24543923139572144\n",
      "Epoch 170, train loss: 0.24649688601493835\n",
      "Epoch 180, train loss: 0.24754108488559723\n",
      "Epoch 190, train loss: 0.2517950236797333\n",
      "Epoch 200, train loss: 0.2511204183101654\n",
      "Epoch 210, train loss: 0.2570186257362366\n",
      "Epoch 220, train loss: 0.23972007632255554\n",
      "Epoch 230, train loss: 0.2415914386510849\n",
      "Epoch 240, train loss: 0.24683982133865356\n",
      "Epoch 250, train loss: 0.23941963911056519\n",
      "Epoch 260, train loss: 0.2474304437637329\n",
      "Epoch 270, train loss: 0.24783073365688324\n",
      "Epoch 280, train loss: 0.23649469017982483\n",
      "Epoch 290, train loss: 0.23898029327392578\n",
      "Validation accuracy: 0.8479687571525574\n"
     ]
    }
   ],
   "source": [
    "torch.set_printoptions(threshold=10000)\n",
    "losses = train_model(model, 300, 128, 10)"
   ]
  },
  {
   "cell_type": "code",
   "execution_count": 182,
   "metadata": {},
   "outputs": [],
   "source": [
    "tokens, targets = generate_data(128, training=True)\n",
    "logits, cache = model.run_with_cache(tokens)\n",
    "attention_pattern = cache[\"pattern\", 0, \"attn\"]"
   ]
  },
  {
   "cell_type": "code",
   "execution_count": 183,
   "metadata": {},
   "outputs": [
    {
     "data": {
      "text/html": [
       "<div id=\"circuits-vis-9dc7cd34-4f4f\" style=\"margin: 15px 0;\"/>\n",
       "    <script crossorigin type=\"module\">\n",
       "    import { render, AttentionHeads } from \"https://unpkg.com/circuitsvis@1.43.2/dist/cdn/esm.js\";\n",
       "    render(\n",
       "      \"circuits-vis-9dc7cd34-4f4f\",\n",
       "      AttentionHeads,\n",
       "      {\"attention\": [[[1.0, 0.0, 0.0, 0.0, 0.0, 0.0, 0.0, 0.0, 0.0, 0.0, 0.0], [0.3510023057460785, 0.6489976644515991, 0.0, 0.0, 0.0, 0.0, 0.0, 0.0, 0.0, 0.0, 0.0], [0.12748923897743225, 0.03347103297710419, 0.83903968334198, 0.0, 0.0, 0.0, 0.0, 0.0, 0.0, 0.0, 0.0], [0.297078937292099, 0.07019194215536118, 0.17686212062835693, 0.4558669328689575, 0.0, 0.0, 0.0, 0.0, 0.0, 0.0, 0.0], [0.208456888794899, 0.0695376843214035, 0.1115684062242508, 0.37434273958206177, 0.23609435558319092, 0.0, 0.0, 0.0, 0.0, 0.0, 0.0], [0.24888139963150024, 0.060785870999097824, 0.1111113503575325, 0.15109233558177948, 0.1483881175518036, 0.27974098920822144, 0.0, 0.0, 0.0, 0.0, 0.0], [0.22260142862796783, 0.011904818937182426, 0.21974410116672516, 0.23157170414924622, 0.2090791016817093, 0.0056747919879853725, 0.09942411631345749, 0.0, 0.0, 0.0, 0.0], [0.01560161728411913, 0.5677737593650818, 0.00250477553345263, 0.002048034220933914, 0.002508478472009301, 0.0034655318595469, 0.020566536113619804, 0.3855311870574951, 0.0, 0.0, 0.0], [0.0035594161599874496, 0.023488502949476242, 0.15191614627838135, 0.0035288615617901087, 0.002555722137913108, 0.0452185720205307, 0.019624801352620125, 0.016554974019527435, 0.7335529923439026, 0.0, 0.0], [0.01405506581068039, 0.002009929856285453, 0.004204107448458672, 0.723929226398468, 0.0696512833237648, 0.09594577550888062, 0.0037103474605828524, 0.0007301555015146732, 0.0011365578975528479, 0.08462752401828766, 0.0], [0.016107745468616486, 0.0024481413420289755, 0.006034002639353275, 0.026586618274450302, 0.851260781288147, 0.04464741051197052, 0.0032897412311285734, 0.0022692156489938498, 0.0025240201503038406, 0.002961632562801242, 0.04187074303627014]]], \"tokens\": [\"9\", \"8\", \"11\", \"11\", \"11\", \"10\", \"9\", \"9\", \"2\", \"11\", \"11\"]}\n",
       "    )\n",
       "    </script>"
      ],
      "text/plain": [
       "<circuitsvis.utils.render.RenderedHTML at 0x29d78efd0>"
      ]
     },
     "execution_count": 183,
     "metadata": {},
     "output_type": "execute_result"
    }
   ],
   "source": [
    "cv.attention.attention_heads(tokens=list(map(lambda t: str(t.item()), tokens[0])), attention=attention_pattern[0])"
   ]
  },
  {
   "cell_type": "code",
   "execution_count": 184,
   "metadata": {},
   "outputs": [
    {
     "data": {
      "text/html": [
       "<div id=\"circuits-vis-1b90978c-c4ed\" style=\"margin: 15px 0;\"/>\n",
       "    <script crossorigin type=\"module\">\n",
       "    import { render, AttentionPatterns } from \"https://unpkg.com/circuitsvis@1.43.2/dist/cdn/esm.js\";\n",
       "    render(\n",
       "      \"circuits-vis-1b90978c-c4ed\",\n",
       "      AttentionPatterns,\n",
       "      {\"tokens\": [\"9\", \"8\", \"11\", \"11\", \"11\", \"10\", \"9\", \"9\", \"2\", \"11\", \"11\"], \"attention\": [[[1.0, 0.0, 0.0, 0.0, 0.0, 0.0, 0.0, 0.0, 0.0, 0.0, 0.0], [0.3510023057460785, 0.6489976644515991, 0.0, 0.0, 0.0, 0.0, 0.0, 0.0, 0.0, 0.0, 0.0], [0.12748923897743225, 0.03347103297710419, 0.83903968334198, 0.0, 0.0, 0.0, 0.0, 0.0, 0.0, 0.0, 0.0], [0.297078937292099, 0.07019194215536118, 0.17686212062835693, 0.4558669328689575, 0.0, 0.0, 0.0, 0.0, 0.0, 0.0, 0.0], [0.208456888794899, 0.0695376843214035, 0.1115684062242508, 0.37434273958206177, 0.23609435558319092, 0.0, 0.0, 0.0, 0.0, 0.0, 0.0], [0.24888139963150024, 0.060785870999097824, 0.1111113503575325, 0.15109233558177948, 0.1483881175518036, 0.27974098920822144, 0.0, 0.0, 0.0, 0.0, 0.0], [0.22260142862796783, 0.011904818937182426, 0.21974410116672516, 0.23157170414924622, 0.2090791016817093, 0.0056747919879853725, 0.09942411631345749, 0.0, 0.0, 0.0, 0.0], [0.01560161728411913, 0.5677737593650818, 0.00250477553345263, 0.002048034220933914, 0.002508478472009301, 0.0034655318595469, 0.020566536113619804, 0.3855311870574951, 0.0, 0.0, 0.0], [0.0035594161599874496, 0.023488502949476242, 0.15191614627838135, 0.0035288615617901087, 0.002555722137913108, 0.0452185720205307, 0.019624801352620125, 0.016554974019527435, 0.7335529923439026, 0.0, 0.0], [0.01405506581068039, 0.002009929856285453, 0.004204107448458672, 0.723929226398468, 0.0696512833237648, 0.09594577550888062, 0.0037103474605828524, 0.0007301555015146732, 0.0011365578975528479, 0.08462752401828766, 0.0], [0.016107745468616486, 0.0024481413420289755, 0.006034002639353275, 0.026586618274450302, 0.851260781288147, 0.04464741051197052, 0.0032897412311285734, 0.0022692156489938498, 0.0025240201503038406, 0.002961632562801242, 0.04187074303627014]]]}\n",
       "    )\n",
       "    </script>"
      ],
      "text/plain": [
       "<circuitsvis.utils.render.RenderedHTML at 0x10cf89390>"
      ]
     },
     "execution_count": 184,
     "metadata": {},
     "output_type": "execute_result"
    }
   ],
   "source": [
    "cv.attention.attention_patterns(tokens=list(map(lambda t: str(t.item()), tokens[0])), attention=attention_pattern[0])"
   ]
  },
  {
   "cell_type": "code",
   "execution_count": 185,
   "metadata": {},
   "outputs": [
    {
     "data": {
      "text/html": [
       "<div id=\"circuits-vis-412cedcf-9930\" style=\"margin: 15px 0;\"/>\n",
       "    <script crossorigin type=\"module\">\n",
       "    import { render, AttentionPatterns } from \"https://unpkg.com/circuitsvis@1.43.2/dist/cdn/esm.js\";\n",
       "    render(\n",
       "      \"circuits-vis-412cedcf-9930\",\n",
       "      AttentionPatterns,\n",
       "      {\"tokens\": [\"1\", \"5\", \"9\", \"11\", \"11\", \"10\", \"5\", \"11\", \"11\", \"11\", \"11\"], \"attention\": [[[1.0, 0.0, 0.0, 0.0, 0.0, 0.0, 0.0, 0.0, 0.0, 0.0, 0.0], [0.22233690321445465, 0.7776630520820618, 0.0, 0.0, 0.0, 0.0, 0.0, 0.0, 0.0, 0.0, 0.0], [0.18063071370124817, 0.08096878230571747, 0.7384005188941956, 0.0, 0.0, 0.0, 0.0, 0.0, 0.0, 0.0, 0.0], [0.37248486280441284, 0.0654597356915474, 0.12958337366580963, 0.43247202038764954, 0.0, 0.0, 0.0, 0.0, 0.0, 0.0, 0.0], [0.21270380914211273, 0.03234586492180824, 0.11714354902505875, 0.391126811504364, 0.2466799020767212, 0.0, 0.0, 0.0, 0.0, 0.0, 0.0], [0.40243667364120483, 0.0640760287642479, 0.047484833747148514, 0.12677578628063202, 0.12450677901506424, 0.23471993207931519, 0.0, 0.0, 0.0, 0.0, 0.0], [0.32118263840675354, 0.013326660729944706, 0.004536788910627365, 0.2231452763080597, 0.2796548008918762, 0.009961983188986778, 0.14819185435771942, 0.0, 0.0, 0.0, 0.0], [0.029729368165135384, 0.7027999758720398, 0.005537803750485182, 0.003352992469444871, 0.014254379086196423, 0.01289799902588129, 0.0086528230458498, 0.22277472913265228, 0.0, 0.0, 0.0], [0.0029114086646586657, 0.01323079876601696, 0.8491275906562805, 0.0019354770192876458, 0.006146728992462158, 0.07823412120342255, 0.005669678095728159, 0.0005656913272105157, 0.042178452014923096, 0.0, 0.0], [0.015671543776988983, 0.0012249413412064314, 0.0021932916715741158, 0.7237362861633301, 0.06963271647691727, 0.09592020511627197, 0.0038859047926962376, 0.0013538934290409088, 0.0017761808121576905, 0.08460497111082077, 0.0], [0.021818865090608597, 0.002472691936418414, 0.003914055414497852, 0.026385406032204628, 0.8448182940483093, 0.04430951178073883, 0.004831803496927023, 0.0036746084224432707, 0.0032816536258906126, 0.002939218422397971, 0.041553858667612076]]]}\n",
       "    )\n",
       "    </script>"
      ],
      "text/plain": [
       "<circuitsvis.utils.render.RenderedHTML at 0x28ca5f350>"
      ]
     },
     "execution_count": 185,
     "metadata": {},
     "output_type": "execute_result"
    }
   ],
   "source": [
    "cv.attention.attention_patterns(tokens=list(map(lambda t: str(t.item()), tokens[1])), attention=attention_pattern[1])"
   ]
  },
  {
   "cell_type": "code",
   "execution_count": 186,
   "metadata": {},
   "outputs": [
    {
     "data": {
      "text/html": [
       "<div id=\"circuits-vis-75c9a9d9-a780\" style=\"margin: 15px 0;\"/>\n",
       "    <script crossorigin type=\"module\">\n",
       "    import { render, AttentionPatterns } from \"https://unpkg.com/circuitsvis@1.43.2/dist/cdn/esm.js\";\n",
       "    render(\n",
       "      \"circuits-vis-75c9a9d9-a780\",\n",
       "      AttentionPatterns,\n",
       "      {\"tokens\": [\"9\", \"1\", \"0\", \"9\", \"11\", \"10\", \"2\", \"0\", \"2\", \"8\", \"11\"], \"attention\": [[[1.0, 0.0, 0.0, 0.0, 0.0, 0.0, 0.0, 0.0, 0.0, 0.0, 0.0], [0.39387378096580505, 0.6061261892318726, 0.0, 0.0, 0.0, 0.0, 0.0, 0.0, 0.0, 0.0, 0.0], [0.08913009613752365, 0.05429412052035332, 0.8565757870674133, 0.0, 0.0, 0.0, 0.0, 0.0, 0.0, 0.0, 0.0], [0.20596998929977417, 0.14283722639083862, 0.38257652521133423, 0.2686162292957306, 0.0, 0.0, 0.0, 0.0, 0.0, 0.0, 0.0], [0.20167192816734314, 0.04693295806646347, 0.12159716337919235, 0.4013880789279938, 0.22840982675552368, 0.0, 0.0, 0.0, 0.0, 0.0, 0.0], [0.25605711340904236, 0.11648143082857132, 0.10906651616096497, 0.07792207598686218, 0.15266643464565277, 0.2878064513206482, 0.0, 0.0, 0.0, 0.0, 0.0], [0.4388672113418579, 0.012619624845683575, 0.0023208013735711575, 0.008673032745718956, 0.3586946427822113, 0.015138794668018818, 0.16368600726127625, 0.0, 0.0, 0.0, 0.0], [0.018515951931476593, 0.5605676770210266, 0.006539402529597282, 0.005507324822247028, 0.0031927088275551796, 0.0034029113594442606, 0.012503467500209808, 0.3897705078125, 0.0, 0.0, 0.0], [0.0015719551593065262, 0.008472904562950134, 0.6167468428611755, 0.010885081253945827, 0.001128691015765071, 0.019970009103417397, 0.00747596425935626, 0.009787467308342457, 0.32396113872528076, 0.0, 0.0], [0.02763620764017105, 0.005812370218336582, 0.015681864693760872, 0.5495206713676453, 0.034873299300670624, 0.03888215497136116, 0.03035418502986431, 0.0064138309098780155, 0.008534274064004421, 0.2822912335395813, 0.0], [0.016248084604740143, 0.002400110475718975, 0.006423410959541798, 0.016198446974158287, 0.858677327632904, 0.045036397874355316, 0.0037751365453004837, 0.0037726443260908127, 0.0025460105389356613, 0.00268690288066864, 0.042235538363456726]]]}\n",
       "    )\n",
       "    </script>"
      ],
      "text/plain": [
       "<circuitsvis.utils.render.RenderedHTML at 0x16bed3c10>"
      ]
     },
     "execution_count": 186,
     "metadata": {},
     "output_type": "execute_result"
    }
   ],
   "source": [
    "cv.attention.attention_patterns(tokens=list(map(lambda t: str(t.item()), tokens[2])), attention=attention_pattern[2])"
   ]
  },
  {
   "cell_type": "code",
   "execution_count": 188,
   "metadata": {},
   "outputs": [
    {
     "data": {
      "image/png": "[encoded data removed]",
      "text/plain": [
       "<Figure size 800x800 with 2 Axes>"
      ]
     },
     "metadata": {},
     "output_type": "display_data"
    }
   ],
   "source": [
    "attn = model.blocks[0].attn\n",
    "all_token_embeddings = model.embed(range(D_VOCAB))\n",
    "\n",
    "embeddings_key = einsum(\"d_vocab d_model, n_heads d_model d_head -> n_heads d_vocab d_head\", \n",
    "                        all_token_embeddings, attn.W_K) \n",
    "embeddings_query = einsum(\"d_vocab d_model, n_heads d_model d_head -> n_heads d_vocab d_head\", \n",
    "                          all_token_embeddings, attn.W_Q) \n",
    "                          \n",
    "plt.rcParams['figure.figsize'] = [20, 10]\n",
    "qk_circuit_attn_heatmap = einsum(\n",
    "    \"n_heads d_vocab_q d_head, n_heads d_vocab_k d_head -> ... d_vocab_q d_vocab_k\", \n",
    "    embeddings_query, embeddings_key\n",
    "    ).detach().cpu().numpy()\n",
    "fig, ax = plt.subplots(figsize=(8, 8))\n",
    "graph = ax.imshow(qk_circuit_attn_heatmap, cmap=\"hot\", interpolation=\"nearest\")\n",
    "plt.colorbar(graph)\n",
    "plt.tight_layout()"
   ]
  }
 ],
 "metadata": {
  "kernelspec": {
   "display_name": "ml",
   "language": "python",
   "name": "python3"
  },
  "language_info": {
   "codemirror_mode": {
    "name": "ipython",
    "version": 3
   },
   "file_extension": ".py",
   "mimetype": "text/x-python",
   "name": "python",
   "nbconvert_exporter": "python",
   "pygments_lexer": "ipython3",
   "version": "3.11.7"
  }
 },
 "nbformat": 4,
 "nbformat_minor": 2
}
