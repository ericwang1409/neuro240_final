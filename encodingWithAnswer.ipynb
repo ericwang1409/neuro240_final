{
 "cells": [
  {
   "cell_type": "code",
   "execution_count": 1,
   "metadata": {},
   "outputs": [],
   "source": [
    "import torch\n",
    "import numpy as np\n",
    "import matplotlib.pyplot as plt\n",
    "from transformer_lens import HookedTransformer, HookedTransformerConfig, utils\n",
    "import random\n",
    "import circuitsvis as cv\n",
    "from fancy_einsum import einsum\n",
    "\n",
    "import pandas as pd\n",
    "import plotly.express as px"
   ]
  },
  {
   "cell_type": "code",
   "execution_count": 2,
   "metadata": {},
   "outputs": [],
   "source": [
    "# model parameter constants\n",
    "N_LAYERS = 2\n",
    "N_HEADS = 2\n",
    "D_MODEL = 32\n",
    "D_HEAD = 32\n",
    "D_MLP = None\n",
    "D_VOCAB = 66\n",
    "SEED = 123\n",
    "DEVICE = \"cuda\" if torch.cuda.is_available() else \"cpu\""
   ]
  },
  {
   "cell_type": "code",
   "execution_count": 3,
   "metadata": {},
   "outputs": [],
   "source": [
    "MAX_DIGITS = 5\n",
    "NUM_DIGITS = 2\n",
    "CTX_LEN = MAX_DIGITS * 3 + 3"
   ]
  },
  {
   "cell_type": "code",
   "execution_count": 4,
   "metadata": {},
   "outputs": [],
   "source": [
    "def line(tensor, line_labels=None, yaxis=\"\", xaxis=\"\", **kwargs):\n",
    "    if isinstance(tensor, torch.Tensor):\n",
    "        tensor = tensor.detach().numpy()\n",
    "    \n",
    "    df = pd.DataFrame({\n",
    "        xaxis: np.arange(len(tensor)),\n",
    "        yaxis: tensor\n",
    "    })\n",
    "    \n",
    "    fig = px.line(df, x=xaxis, y=yaxis, labels={xaxis: xaxis, yaxis: yaxis}, **kwargs)\n",
    "    \n",
    "    if line_labels:\n",
    "        for c, label in enumerate(line_labels):\n",
    "            fig.data[c].name = label\n",
    "\n",
    "    fig.show()"
   ]
  },
  {
   "cell_type": "code",
   "execution_count": 5,
   "metadata": {},
   "outputs": [
    {
     "data": {
      "text/plain": [
       "(tensor([[63,  4,  8,  7,  5,  2, 64,  2,  5,  6,  4,  6, 65,  4,  8,  7,  5,  2]]),\n",
       " tensor([[4, 8, 7, 5, 2]]))"
      ]
     },
     "execution_count": 5,
     "metadata": {},
     "output_type": "execute_result"
    }
   ],
   "source": [
    "def generate_number_with_variable_length(max_digits):\n",
    "    num_digits = random.randint(1, max_digits)\n",
    "    if num_digits == 1:\n",
    "        return random.randint(0, 9), num_digits \n",
    "        return random.randint(10**(num_digits-1), 10**num_digits - 1), num_digits\n",
    "\n",
    "def generate_data(n, seen, training=True):\n",
    "    # random.seed(42 if training else 100)\n",
    "    tokens = []\n",
    "    target = []\n",
    "\n",
    "    for _ in range(n):\n",
    "        curr = []\n",
    "        answer = \"\"\n",
    "        \n",
    "        # a, len_a = (generate_number_with_variable_length(MAX_DIGITS))\n",
    "        # b, len_b = (generate_number_with_variable_length(MAX_DIGITS))\n",
    "\n",
    "        # if training:\n",
    "        #     seen.add((a, b))\n",
    "        #     seen.add((b, a))\n",
    "\n",
    "        # if not training:\n",
    "        #     while (a, b) in seen or (b, a) in seen:\n",
    "        #         a, len_a = (generate_number_with_variable_length(MAX_DIGITS))\n",
    "        #         b, len_b = (generate_number_with_variable_length(MAX_DIGITS))\n",
    "        a = random.randint(0, 99999)\n",
    "        b = random.randint(0, 99999)\n",
    "        len_a = len(str(a))\n",
    "        len_b = len(str(b))\n",
    "\n",
    "        if a > b:\n",
    "            answer = \"a\"\n",
    "        else:\n",
    "            answer = \"b\"\n",
    "\n",
    "        curr.append(63)\n",
    "\n",
    "        for i in range(MAX_DIGITS - len_a):\n",
    "            curr.append(0)\n",
    "        for digit in str(a):\n",
    "            curr.append(int(digit))\n",
    "\n",
    "        curr.append(64)\n",
    "                \n",
    "        for i in range(MAX_DIGITS - len_b):\n",
    "            curr.append(0)\n",
    "        for digit in str(b):\n",
    "            curr.append(int(digit))\n",
    "        \n",
    "        if answer == \"a\":\n",
    "            answer_list = curr[1:MAX_DIGITS + 1]\n",
    "        else:\n",
    "            answer_list = curr[2 + MAX_DIGITS:]\n",
    "\n",
    "        curr.append(65)\n",
    "\n",
    "        for ans in answer_list:\n",
    "            curr.append(ans)\n",
    "        \n",
    "        tokens.append(curr)\n",
    "        target.append(answer_list)\n",
    "\n",
    "    return torch.tensor(tokens), torch.tensor(target)\n",
    "\n",
    "generate_data(1, set())"
   ]
  },
  {
   "cell_type": "code",
   "execution_count": 6,
   "metadata": {},
   "outputs": [],
   "source": [
    "# model setup\n",
    "cfg = HookedTransformerConfig(\n",
    "    d_model=D_MODEL,\n",
    "    n_layers=N_LAYERS,\n",
    "    n_heads=N_HEADS,\n",
    "    d_head=D_HEAD,\n",
    "    n_ctx=CTX_LEN,\n",
    "    d_vocab=D_VOCAB,\n",
    "    act_fn=\"relu\",\n",
    "    seed=SEED,\n",
    "    device=DEVICE,\n",
    "    attn_only=True,\n",
    ")\n",
    "\n",
    "# hooked transformer used for interpretation later\n",
    "model = HookedTransformer(cfg, move_to_device=True)"
   ]
  },
  {
   "cell_type": "code",
   "execution_count": 7,
   "metadata": {},
   "outputs": [],
   "source": [
    "def loss_function(logits, target, return_per_token=True, print_tokens=False):\n",
    "    answer = target\n",
    "    predict_start_location = MAX_DIGITS * 2 + 3\n",
    "    logits = logits[:, predict_start_location - 1 : -1]\n",
    "    log_prob = logits.log_softmax(-1)\n",
    "    output_prob = log_prob.gather(-1, answer[..., None])[..., 0]\n",
    "\n",
    "    if print_tokens:\n",
    "        print(\"target\", target)\n",
    "        print(\"predicted\", torch.argmax(logits, dim=-1))\n",
    "        \n",
    "    if return_per_token:\n",
    "        return -output_prob\n",
    "    return -output_prob.mean()"
   ]
  },
  {
   "cell_type": "code",
   "execution_count": 8,
   "metadata": {},
   "outputs": [],
   "source": [
    "def accuracy(logits, target, return_per_token=False):\n",
    "    logits = logits[:, MAX_DIGITS * 2 + 2 : -1]\n",
    "    predicted = torch.argmax(logits, dim=-1)\n",
    "    answer = target\n",
    "    if return_per_token:\n",
    "        return (predicted == answer).float()\n",
    "    return (predicted == answer).float().mean().item()"
   ]
  },
  {
   "cell_type": "code",
   "execution_count": 9,
   "metadata": {},
   "outputs": [],
   "source": [
    "import torch\n",
    "import torch.nn as nn\n",
    "import numpy as np\n",
    "\n",
    "def train_model(model, n_epochs, batch_size, batches_per, sequence_length=2):\n",
    "    lr = 1e-3\n",
    "    betas = (0.9, 0.999)\n",
    "    optimizer = torch.optim.Adam(model.parameters(), lr=lr, betas=betas)\n",
    "    \n",
    "    train_losses = []\n",
    "    val_acc = []\n",
    "    seen = set()\n",
    "    for epoch in range(n_epochs):\n",
    "        epoch_losses = []\n",
    "\n",
    "        model.train()\n",
    "        for _ in range(batches_per):\n",
    "            tokens, targets = generate_data(batch_size, seen, training=True) \n",
    "            logits = model(tokens)\n",
    "            \n",
    "            losses = loss_function(logits, targets, print_tokens=False)\n",
    "            \n",
    "            losses.mean().backward()\n",
    "            optimizer.step()\n",
    "            optimizer.zero_grad()\n",
    "            \n",
    "            epoch_losses.extend(losses.detach())\n",
    "\n",
    "        train_losses.append(np.mean(epoch_losses))\n",
    "        if epoch % 10 == 0:\n",
    "            print(f\"Epoch {epoch}, train loss: {train_losses[-1]}\")\n",
    "\n",
    "        model.eval()\n",
    "\n",
    "        test_data, targets = generate_data(1280, seen, training=False)\n",
    "        logits = model(test_data)\n",
    "\n",
    "        acc = accuracy(logits, targets, return_per_token=False)\n",
    "\n",
    "        if epoch % 10 == 0:\n",
    "            val_acc.append(acc)\n",
    "            print(f\"Validation {epoch} accuracy: {acc}\")\n",
    "\n",
    "    return val_acc, seen\n"
   ]
  },
  {
   "cell_type": "code",
   "execution_count": 10,
   "metadata": {},
   "outputs": [
    {
     "name": "stdout",
     "output_type": "stream",
     "text": [
      "Epoch 0, train loss: 3.6662850379943848\n",
      "Validation 0 accuracy: 0.09406249970197678\n",
      "Epoch 10, train loss: 2.000680685043335\n",
      "Validation 10 accuracy: 0.3412500023841858\n",
      "Epoch 20, train loss: 1.092474341392517\n",
      "Validation 20 accuracy: 0.6285937428474426\n",
      "Epoch 30, train loss: 0.7753464579582214\n",
      "Validation 30 accuracy: 0.655468761920929\n",
      "Epoch 40, train loss: 0.6348269581794739\n",
      "Validation 40 accuracy: 0.7064062356948853\n",
      "Epoch 50, train loss: 0.5906069278717041\n",
      "Validation 50 accuracy: 0.7425000071525574\n",
      "Epoch 60, train loss: 0.5145140290260315\n",
      "Validation 60 accuracy: 0.7345312237739563\n",
      "Epoch 70, train loss: 0.4832340180873871\n",
      "Validation 70 accuracy: 0.7717187404632568\n",
      "Epoch 80, train loss: 0.4021459221839905\n",
      "Validation 80 accuracy: 0.774218738079071\n",
      "Epoch 90, train loss: 0.3756835460662842\n",
      "Validation 90 accuracy: 0.8206250071525574\n",
      "Epoch 100, train loss: 0.37836363911628723\n",
      "Validation 100 accuracy: 0.8403124809265137\n",
      "Epoch 110, train loss: 0.27462542057037354\n",
      "Validation 110 accuracy: 0.8799999952316284\n",
      "Epoch 120, train loss: 0.29038915038108826\n",
      "Validation 120 accuracy: 0.8678125143051147\n",
      "Epoch 130, train loss: 0.2783830165863037\n",
      "Validation 130 accuracy: 0.9401562213897705\n",
      "Epoch 140, train loss: 0.181411474943161\n",
      "Validation 140 accuracy: 0.9373437762260437\n",
      "Epoch 150, train loss: 0.20788829028606415\n",
      "Validation 150 accuracy: 0.9504687786102295\n",
      "Epoch 160, train loss: 0.2107504904270172\n",
      "Validation 160 accuracy: 0.9546874761581421\n",
      "Epoch 170, train loss: 0.23018768429756165\n",
      "Validation 170 accuracy: 0.93359375\n",
      "Epoch 180, train loss: 0.11223633587360382\n",
      "Validation 180 accuracy: 0.9615625143051147\n",
      "Epoch 190, train loss: 0.09299994260072708\n",
      "Validation 190 accuracy: 0.949999988079071\n",
      "Epoch 200, train loss: 0.14246846735477448\n",
      "Validation 200 accuracy: 0.9474999904632568\n",
      "Epoch 210, train loss: 0.10881256312131882\n",
      "Validation 210 accuracy: 0.9540625214576721\n",
      "Epoch 220, train loss: 0.1125914603471756\n",
      "Validation 220 accuracy: 0.9559375047683716\n",
      "Epoch 230, train loss: 0.18601761758327484\n",
      "Validation 230 accuracy: 0.9574999809265137\n",
      "Epoch 240, train loss: 0.1704181730747223\n",
      "Validation 240 accuracy: 0.9653124809265137\n",
      "Epoch 250, train loss: 0.15351398289203644\n",
      "Validation 250 accuracy: 0.9596874713897705\n",
      "Epoch 260, train loss: 0.09219339489936829\n",
      "Validation 260 accuracy: 0.9637500047683716\n",
      "Epoch 270, train loss: 0.14336642622947693\n",
      "Validation 270 accuracy: 0.9592187404632568\n",
      "Epoch 280, train loss: 0.2122723013162613\n",
      "Validation 280 accuracy: 0.9593750238418579\n",
      "Epoch 290, train loss: 0.08330559730529785\n",
      "Validation 290 accuracy: 0.9645312428474426\n",
      "Epoch 300, train loss: 0.1323493868112564\n",
      "Validation 300 accuracy: 0.9706249833106995\n",
      "Epoch 310, train loss: 0.1525983363389969\n",
      "Validation 310 accuracy: 0.964062511920929\n",
      "Epoch 320, train loss: 0.06975893676280975\n",
      "Validation 320 accuracy: 0.9715625047683716\n",
      "Epoch 330, train loss: 0.12179286777973175\n",
      "Validation 330 accuracy: 0.9479687213897705\n",
      "Epoch 340, train loss: 0.102382130920887\n",
      "Validation 340 accuracy: 0.96484375\n",
      "Epoch 350, train loss: 0.10851872712373734\n",
      "Validation 350 accuracy: 0.9703124761581421\n",
      "Epoch 360, train loss: 0.10812950134277344\n",
      "Validation 360 accuracy: 0.9745312333106995\n",
      "Epoch 370, train loss: 0.06570512801408768\n",
      "Validation 370 accuracy: 0.9714062213897705\n",
      "Epoch 380, train loss: 0.09177864342927933\n",
      "Validation 380 accuracy: 0.9731249809265137\n",
      "Epoch 390, train loss: 0.07095248997211456\n",
      "Validation 390 accuracy: 0.95703125\n",
      "Epoch 400, train loss: 0.07346432656049728\n",
      "Validation 400 accuracy: 0.9798437356948853\n",
      "Epoch 410, train loss: 0.088692307472229\n",
      "Validation 410 accuracy: 0.9673437476158142\n",
      "Epoch 420, train loss: 0.09784576296806335\n",
      "Validation 420 accuracy: 0.9792187213897705\n",
      "Epoch 430, train loss: 0.08982685953378677\n",
      "Validation 430 accuracy: 0.9762499928474426\n",
      "Epoch 440, train loss: 0.08031987398862839\n",
      "Validation 440 accuracy: 0.975781261920929\n",
      "Epoch 450, train loss: 0.04583689197897911\n",
      "Validation 450 accuracy: 0.9760937690734863\n",
      "Epoch 460, train loss: 0.07430285215377808\n",
      "Validation 460 accuracy: 0.9743750095367432\n",
      "Epoch 470, train loss: 0.07920363545417786\n",
      "Validation 470 accuracy: 0.9814062714576721\n",
      "Epoch 480, train loss: 0.04491427168250084\n",
      "Validation 480 accuracy: 0.9823437333106995\n",
      "Epoch 490, train loss: 0.07091373950242996\n",
      "Validation 490 accuracy: 0.9785937666893005\n",
      "Epoch 500, train loss: 0.07287316024303436\n",
      "Validation 500 accuracy: 0.971875011920929\n",
      "Epoch 510, train loss: 0.06427156925201416\n",
      "Validation 510 accuracy: 0.9818750023841858\n",
      "Epoch 520, train loss: 0.10768867284059525\n",
      "Validation 520 accuracy: 0.9754687547683716\n",
      "Epoch 530, train loss: 0.0327586904168129\n",
      "Validation 530 accuracy: 0.9820312261581421\n",
      "Epoch 540, train loss: 0.06701556593179703\n",
      "Validation 540 accuracy: 0.9868749976158142\n",
      "Epoch 550, train loss: 0.054108548909425735\n",
      "Validation 550 accuracy: 0.9807812571525574\n",
      "Epoch 560, train loss: 0.024650050327181816\n",
      "Validation 560 accuracy: 0.9837499856948853\n",
      "Epoch 570, train loss: 0.07457765191793442\n",
      "Validation 570 accuracy: 0.9815624952316284\n",
      "Epoch 580, train loss: 0.09184981137514114\n",
      "Validation 580 accuracy: 0.9626562595367432\n",
      "Epoch 590, train loss: 0.05460583046078682\n",
      "Validation 590 accuracy: 0.9856250286102295\n",
      "Epoch 600, train loss: 0.050167251378297806\n",
      "Validation 600 accuracy: 0.9873437285423279\n",
      "Epoch 610, train loss: 0.031281162053346634\n",
      "Validation 610 accuracy: 0.9842187762260437\n",
      "Epoch 620, train loss: 0.05964571237564087\n",
      "Validation 620 accuracy: 0.9751562476158142\n",
      "Epoch 630, train loss: 0.04451591521501541\n",
      "Validation 630 accuracy: 0.9825000166893005\n",
      "Epoch 640, train loss: 0.01947793737053871\n",
      "Validation 640 accuracy: 0.9853125214576721\n",
      "Epoch 650, train loss: 0.05139826983213425\n",
      "Validation 650 accuracy: 0.9817187786102295\n",
      "Epoch 660, train loss: 0.06292444467544556\n",
      "Validation 660 accuracy: 0.9767187237739563\n",
      "Epoch 670, train loss: 0.08856707811355591\n",
      "Validation 670 accuracy: 0.9868749976158142\n",
      "Epoch 680, train loss: 0.061723221093416214\n",
      "Validation 680 accuracy: 0.9832812547683716\n",
      "Epoch 690, train loss: 0.010000724345445633\n",
      "Validation 690 accuracy: 0.9918749928474426\n",
      "Epoch 700, train loss: 0.018038570880889893\n",
      "Validation 700 accuracy: 0.9917187690734863\n",
      "Epoch 710, train loss: 0.04148935526609421\n",
      "Validation 710 accuracy: 0.9912499785423279\n",
      "Epoch 720, train loss: 0.08283381164073944\n",
      "Validation 720 accuracy: 0.984375\n",
      "Epoch 730, train loss: 0.023268254473805428\n",
      "Validation 730 accuracy: 0.9920312762260437\n",
      "Epoch 740, train loss: 0.05137238651514053\n",
      "Validation 740 accuracy: 0.9885937571525574\n",
      "Epoch 750, train loss: 0.028495747596025467\n",
      "Validation 750 accuracy: 0.9931250214576721\n",
      "Epoch 760, train loss: 0.013034746050834656\n",
      "Validation 760 accuracy: 0.9932812452316284\n",
      "Epoch 770, train loss: 0.019827796146273613\n",
      "Validation 770 accuracy: 0.9939062595367432\n",
      "Epoch 780, train loss: 0.0335601270198822\n",
      "Validation 780 accuracy: 0.9903125166893005\n",
      "Epoch 790, train loss: 0.025609783828258514\n",
      "Validation 790 accuracy: 0.9900000095367432\n",
      "Epoch 800, train loss: 0.022363966330885887\n",
      "Validation 800 accuracy: 0.9895312786102295\n",
      "Epoch 810, train loss: 0.04316972196102142\n",
      "Validation 810 accuracy: 0.9884374737739563\n",
      "Epoch 820, train loss: 0.03645054250955582\n",
      "Validation 820 accuracy: 0.9920312762260437\n",
      "Epoch 830, train loss: 0.029995713382959366\n",
      "Validation 830 accuracy: 0.9895312786102295\n",
      "Epoch 840, train loss: 0.04049425572156906\n",
      "Validation 840 accuracy: 0.9948437213897705\n",
      "Epoch 850, train loss: 0.02803696319460869\n",
      "Validation 850 accuracy: 0.9931250214576721\n",
      "Epoch 860, train loss: 0.01708138734102249\n",
      "Validation 860 accuracy: 0.9946874976158142\n",
      "Epoch 870, train loss: 0.04622350260615349\n",
      "Validation 870 accuracy: 0.9793750047683716\n",
      "Epoch 880, train loss: 0.012647083029150963\n",
      "Validation 880 accuracy: 0.9942187666893005\n",
      "Epoch 890, train loss: 0.01913026161491871\n",
      "Validation 890 accuracy: 0.9965624809265137\n",
      "Epoch 900, train loss: 0.025528201833367348\n",
      "Validation 900 accuracy: 0.9942187666893005\n",
      "Epoch 910, train loss: 0.012079418636858463\n",
      "Validation 910 accuracy: 0.992968738079071\n",
      "Epoch 920, train loss: 0.04510610178112984\n",
      "Validation 920 accuracy: 0.9917187690734863\n",
      "Epoch 930, train loss: 0.006817020010203123\n",
      "Validation 930 accuracy: 0.9934375286102295\n",
      "Epoch 940, train loss: 0.04554576054215431\n",
      "Validation 940 accuracy: 0.9932812452316284\n",
      "Epoch 950, train loss: 0.01924528181552887\n",
      "Validation 950 accuracy: 0.9895312786102295\n",
      "Epoch 960, train loss: 0.008120193146169186\n",
      "Validation 960 accuracy: 0.991406261920929\n",
      "Epoch 970, train loss: 0.00815728958696127\n",
      "Validation 970 accuracy: 0.9948437213897705\n",
      "Epoch 980, train loss: 0.029088560491800308\n",
      "Validation 980 accuracy: 0.9932812452316284\n",
      "Epoch 990, train loss: 0.0368514209985733\n",
      "Validation 990 accuracy: 0.9951562285423279\n"
     ]
    }
   ],
   "source": [
    "torch.set_printoptions(threshold=10000)\n",
    "losses, seen = train_model(model, 1000, 10, 10)"
   ]
  },
  {
   "cell_type": "code",
   "execution_count": 11,
   "metadata": {},
   "outputs": [
    {
     "data": {
      "application/vnd.plotly.v1+json": {
       "config": {
        "plotlyServerURL": "https://plot.ly"
       },
       "data": [
        {
         "hovertemplate": "Epoch=%{x}<br>Loss=%{y}<extra></extra>",
         "legendgroup": "",
         "line": {
          "color": "#636efa",
          "dash": "solid"
         },
         "marker": {
          "symbol": "circle"
         },
         "mode": "lines",
         "name": "",
         "orientation": "v",
         "showlegend": false,
         "type": "scatter",
         "x": [
          0,
          1,
          2,
          3,
          4,
          5,
          6,
          7,
          8,
          9,
          10,
          11,
          12,
          13,
          14,
          15,
          16,
          17,
          18,
          19,
          20,
          21,
          22,
          23,
          24,
          25,
          26,
          27,
          28,
          29,
          30,
          31,
          32,
          33,
          34,
          35,
          36,
          37,
          38,
          39,
          40,
          41,
          42,
          43,
          44,
          45,
          46,
          47,
          48,
          49,
          50,
          51,
          52,
          53,
          54,
          55,
          56,
          57,
          58,
          59,
          60,
          61,
          62,
          63,
          64,
          65,
          66,
          67,
          68,
          69,
          70,
          71,
          72,
          73,
          74,
          75,
          76,
          77,
          78,
          79,
          80,
          81,
          82,
          83,
          84,
          85,
          86,
          87,
          88,
          89,
          90,
          91,
          92,
          93,
          94,
          95,
          96,
          97,
          98,
          99
         ],
         "xaxis": "x",
         "y": [
          0.09406249970197678,
          0.3412500023841858,
          0.6285937428474426,
          0.655468761920929,
          0.7064062356948853,
          0.7425000071525574,
          0.7345312237739563,
          0.7717187404632568,
          0.774218738079071,
          0.8206250071525574,
          0.8403124809265137,
          0.8799999952316284,
          0.8678125143051147,
          0.9401562213897705,
          0.9373437762260437,
          0.9504687786102295,
          0.9546874761581421,
          0.93359375,
          0.9615625143051147,
          0.949999988079071,
          0.9474999904632568,
          0.9540625214576721,
          0.9559375047683716,
          0.9574999809265137,
          0.9653124809265137,
          0.9596874713897705,
          0.9637500047683716,
          0.9592187404632568,
          0.9593750238418579,
          0.9645312428474426,
          0.9706249833106995,
          0.964062511920929,
          0.9715625047683716,
          0.9479687213897705,
          0.96484375,
          0.9703124761581421,
          0.9745312333106995,
          0.9714062213897705,
          0.9731249809265137,
          0.95703125,
          0.9798437356948853,
          0.9673437476158142,
          0.9792187213897705,
          0.9762499928474426,
          0.975781261920929,
          0.9760937690734863,
          0.9743750095367432,
          0.9814062714576721,
          0.9823437333106995,
          0.9785937666893005,
          0.971875011920929,
          0.9818750023841858,
          0.9754687547683716,
          0.9820312261581421,
          0.9868749976158142,
          0.9807812571525574,
          0.9837499856948853,
          0.9815624952316284,
          0.9626562595367432,
          0.9856250286102295,
          0.9873437285423279,
          0.9842187762260437,
          0.9751562476158142,
          0.9825000166893005,
          0.9853125214576721,
          0.9817187786102295,
          0.9767187237739563,
          0.9868749976158142,
          0.9832812547683716,
          0.9918749928474426,
          0.9917187690734863,
          0.9912499785423279,
          0.984375,
          0.9920312762260437,
          0.9885937571525574,
          0.9931250214576721,
          0.9932812452316284,
          0.9939062595367432,
          0.9903125166893005,
          0.9900000095367432,
          0.9895312786102295,
          0.9884374737739563,
          0.9920312762260437,
          0.9895312786102295,
          0.9948437213897705,
          0.9931250214576721,
          0.9946874976158142,
          0.9793750047683716,
          0.9942187666893005,
          0.9965624809265137,
          0.9942187666893005,
          0.992968738079071,
          0.9917187690734863,
          0.9934375286102295,
          0.9932812452316284,
          0.9895312786102295,
          0.991406261920929,
          0.9948437213897705,
          0.9932812452316284,
          0.9951562285423279
         ],
         "yaxis": "y"
        }
       ],
       "layout": {
        "legend": {
         "tracegroupgap": 0
        },
        "margin": {
         "t": 60
        },
        "template": {
         "data": {
          "bar": [
           {
            "error_x": {
             "color": "#2a3f5f"
            },
            "error_y": {
             "color": "#2a3f5f"
            },
            "marker": {
             "line": {
              "color": "#E5ECF6",
              "width": 0.5
             },
             "pattern": {
              "fillmode": "overlay",
              "size": 10,
              "solidity": 0.2
             }
            },
            "type": "bar"
           }
          ],
          "barpolar": [
           {
            "marker": {
             "line": {
              "color": "#E5ECF6",
              "width": 0.5
             },
             "pattern": {
              "fillmode": "overlay",
              "size": 10,
              "solidity": 0.2
             }
            },
            "type": "barpolar"
           }
          ],
          "carpet": [
           {
            "aaxis": {
             "endlinecolor": "#2a3f5f",
             "gridcolor": "white",
             "linecolor": "white",
             "minorgridcolor": "white",
             "startlinecolor": "#2a3f5f"
            },
            "baxis": {
             "endlinecolor": "#2a3f5f",
             "gridcolor": "white",
             "linecolor": "white",
             "minorgridcolor": "white",
             "startlinecolor": "#2a3f5f"
            },
            "type": "carpet"
           }
          ],
          "choropleth": [
           {
            "colorbar": {
             "outlinewidth": 0,
             "ticks": ""
            },
            "type": "choropleth"
           }
          ],
          "contour": [
           {
            "colorbar": {
             "outlinewidth": 0,
             "ticks": ""
            },
            "colorscale": [
             [
              0,
              "#0d0887"
             ],
             [
              0.1111111111111111,
              "#46039f"
             ],
             [
              0.2222222222222222,
              "#7201a8"
             ],
             [
              0.3333333333333333,
              "#9c179e"
             ],
             [
              0.4444444444444444,
              "#bd3786"
             ],
             [
              0.5555555555555556,
              "#d8576b"
             ],
             [
              0.6666666666666666,
              "#ed7953"
             ],
             [
              0.7777777777777778,
              "#fb9f3a"
             ],
             [
              0.8888888888888888,
              "#fdca26"
             ],
             [
              1,
              "#f0f921"
             ]
            ],
            "type": "contour"
           }
          ],
          "contourcarpet": [
           {
            "colorbar": {
             "outlinewidth": 0,
             "ticks": ""
            },
            "type": "contourcarpet"
           }
          ],
          "heatmap": [
           {
            "colorbar": {
             "outlinewidth": 0,
             "ticks": ""
            },
            "colorscale": [
             [
              0,
              "#0d0887"
             ],
             [
              0.1111111111111111,
              "#46039f"
             ],
             [
              0.2222222222222222,
              "#7201a8"
             ],
             [
              0.3333333333333333,
              "#9c179e"
             ],
             [
              0.4444444444444444,
              "#bd3786"
             ],
             [
              0.5555555555555556,
              "#d8576b"
             ],
             [
              0.6666666666666666,
              "#ed7953"
             ],
             [
              0.7777777777777778,
              "#fb9f3a"
             ],
             [
              0.8888888888888888,
              "#fdca26"
             ],
             [
              1,
              "#f0f921"
             ]
            ],
            "type": "heatmap"
           }
          ],
          "heatmapgl": [
           {
            "colorbar": {
             "outlinewidth": 0,
             "ticks": ""
            },
            "colorscale": [
             [
              0,
              "#0d0887"
             ],
             [
              0.1111111111111111,
              "#46039f"
             ],
             [
              0.2222222222222222,
              "#7201a8"
             ],
             [
              0.3333333333333333,
              "#9c179e"
             ],
             [
              0.4444444444444444,
              "#bd3786"
             ],
             [
              0.5555555555555556,
              "#d8576b"
             ],
             [
              0.6666666666666666,
              "#ed7953"
             ],
             [
              0.7777777777777778,
              "#fb9f3a"
             ],
             [
              0.8888888888888888,
              "#fdca26"
             ],
             [
              1,
              "#f0f921"
             ]
            ],
            "type": "heatmapgl"
           }
          ],
          "histogram": [
           {
            "marker": {
             "pattern": {
              "fillmode": "overlay",
              "size": 10,
              "solidity": 0.2
             }
            },
            "type": "histogram"
           }
          ],
          "histogram2d": [
           {
            "colorbar": {
             "outlinewidth": 0,
             "ticks": ""
            },
            "colorscale": [
             [
              0,
              "#0d0887"
             ],
             [
              0.1111111111111111,
              "#46039f"
             ],
             [
              0.2222222222222222,
              "#7201a8"
             ],
             [
              0.3333333333333333,
              "#9c179e"
             ],
             [
              0.4444444444444444,
              "#bd3786"
             ],
             [
              0.5555555555555556,
              "#d8576b"
             ],
             [
              0.6666666666666666,
              "#ed7953"
             ],
             [
              0.7777777777777778,
              "#fb9f3a"
             ],
             [
              0.8888888888888888,
              "#fdca26"
             ],
             [
              1,
              "#f0f921"
             ]
            ],
            "type": "histogram2d"
           }
          ],
          "histogram2dcontour": [
           {
            "colorbar": {
             "outlinewidth": 0,
             "ticks": ""
            },
            "colorscale": [
             [
              0,
              "#0d0887"
             ],
             [
              0.1111111111111111,
              "#46039f"
             ],
             [
              0.2222222222222222,
              "#7201a8"
             ],
             [
              0.3333333333333333,
              "#9c179e"
             ],
             [
              0.4444444444444444,
              "#bd3786"
             ],
             [
              0.5555555555555556,
              "#d8576b"
             ],
             [
              0.6666666666666666,
              "#ed7953"
             ],
             [
              0.7777777777777778,
              "#fb9f3a"
             ],
             [
              0.8888888888888888,
              "#fdca26"
             ],
             [
              1,
              "#f0f921"
             ]
            ],
            "type": "histogram2dcontour"
           }
          ],
          "mesh3d": [
           {
            "colorbar": {
             "outlinewidth": 0,
             "ticks": ""
            },
            "type": "mesh3d"
           }
          ],
          "parcoords": [
           {
            "line": {
             "colorbar": {
              "outlinewidth": 0,
              "ticks": ""
             }
            },
            "type": "parcoords"
           }
          ],
          "pie": [
           {
            "automargin": true,
            "type": "pie"
           }
          ],
          "scatter": [
           {
            "fillpattern": {
             "fillmode": "overlay",
             "size": 10,
             "solidity": 0.2
            },
            "type": "scatter"
           }
          ],
          "scatter3d": [
           {
            "line": {
             "colorbar": {
              "outlinewidth": 0,
              "ticks": ""
             }
            },
            "marker": {
             "colorbar": {
              "outlinewidth": 0,
              "ticks": ""
             }
            },
            "type": "scatter3d"
           }
          ],
          "scattercarpet": [
           {
            "marker": {
             "colorbar": {
              "outlinewidth": 0,
              "ticks": ""
             }
            },
            "type": "scattercarpet"
           }
          ],
          "scattergeo": [
           {
            "marker": {
             "colorbar": {
              "outlinewidth": 0,
              "ticks": ""
             }
            },
            "type": "scattergeo"
           }
          ],
          "scattergl": [
           {
            "marker": {
             "colorbar": {
              "outlinewidth": 0,
              "ticks": ""
             }
            },
            "type": "scattergl"
           }
          ],
          "scattermapbox": [
           {
            "marker": {
             "colorbar": {
              "outlinewidth": 0,
              "ticks": ""
             }
            },
            "type": "scattermapbox"
           }
          ],
          "scatterpolar": [
           {
            "marker": {
             "colorbar": {
              "outlinewidth": 0,
              "ticks": ""
             }
            },
            "type": "scatterpolar"
           }
          ],
          "scatterpolargl": [
           {
            "marker": {
             "colorbar": {
              "outlinewidth": 0,
              "ticks": ""
             }
            },
            "type": "scatterpolargl"
           }
          ],
          "scatterternary": [
           {
            "marker": {
             "colorbar": {
              "outlinewidth": 0,
              "ticks": ""
             }
            },
            "type": "scatterternary"
           }
          ],
          "surface": [
           {
            "colorbar": {
             "outlinewidth": 0,
             "ticks": ""
            },
            "colorscale": [
             [
              0,
              "#0d0887"
             ],
             [
              0.1111111111111111,
              "#46039f"
             ],
             [
              0.2222222222222222,
              "#7201a8"
             ],
             [
              0.3333333333333333,
              "#9c179e"
             ],
             [
              0.4444444444444444,
              "#bd3786"
             ],
             [
              0.5555555555555556,
              "#d8576b"
             ],
             [
              0.6666666666666666,
              "#ed7953"
             ],
             [
              0.7777777777777778,
              "#fb9f3a"
             ],
             [
              0.8888888888888888,
              "#fdca26"
             ],
             [
              1,
              "#f0f921"
             ]
            ],
            "type": "surface"
           }
          ],
          "table": [
           {
            "cells": {
             "fill": {
              "color": "#EBF0F8"
             },
             "line": {
              "color": "white"
             }
            },
            "header": {
             "fill": {
              "color": "#C8D4E3"
             },
             "line": {
              "color": "white"
             }
            },
            "type": "table"
           }
          ]
         },
         "layout": {
          "annotationdefaults": {
           "arrowcolor": "#2a3f5f",
           "arrowhead": 0,
           "arrowwidth": 1
          },
          "autotypenumbers": "strict",
          "coloraxis": {
           "colorbar": {
            "outlinewidth": 0,
            "ticks": ""
           }
          },
          "colorscale": {
           "diverging": [
            [
             0,
             "#8e0152"
            ],
            [
             0.1,
             "#c51b7d"
            ],
            [
             0.2,
             "#de77ae"
            ],
            [
             0.3,
             "#f1b6da"
            ],
            [
             0.4,
             "#fde0ef"
            ],
            [
             0.5,
             "#f7f7f7"
            ],
            [
             0.6,
             "#e6f5d0"
            ],
            [
             0.7,
             "#b8e186"
            ],
            [
             0.8,
             "#7fbc41"
            ],
            [
             0.9,
             "#4d9221"
            ],
            [
             1,
             "#276419"
            ]
           ],
           "sequential": [
            [
             0,
             "#0d0887"
            ],
            [
             0.1111111111111111,
             "#46039f"
            ],
            [
             0.2222222222222222,
             "#7201a8"
            ],
            [
             0.3333333333333333,
             "#9c179e"
            ],
            [
             0.4444444444444444,
             "#bd3786"
            ],
            [
             0.5555555555555556,
             "#d8576b"
            ],
            [
             0.6666666666666666,
             "#ed7953"
            ],
            [
             0.7777777777777778,
             "#fb9f3a"
            ],
            [
             0.8888888888888888,
             "#fdca26"
            ],
            [
             1,
             "#f0f921"
            ]
           ],
           "sequentialminus": [
            [
             0,
             "#0d0887"
            ],
            [
             0.1111111111111111,
             "#46039f"
            ],
            [
             0.2222222222222222,
             "#7201a8"
            ],
            [
             0.3333333333333333,
             "#9c179e"
            ],
            [
             0.4444444444444444,
             "#bd3786"
            ],
            [
             0.5555555555555556,
             "#d8576b"
            ],
            [
             0.6666666666666666,
             "#ed7953"
            ],
            [
             0.7777777777777778,
             "#fb9f3a"
            ],
            [
             0.8888888888888888,
             "#fdca26"
            ],
            [
             1,
             "#f0f921"
            ]
           ]
          },
          "colorway": [
           "#636efa",
           "#EF553B",
           "#00cc96",
           "#ab63fa",
           "#FFA15A",
           "#19d3f3",
           "#FF6692",
           "#B6E880",
           "#FF97FF",
           "#FECB52"
          ],
          "font": {
           "color": "#2a3f5f"
          },
          "geo": {
           "bgcolor": "white",
           "lakecolor": "white",
           "landcolor": "#E5ECF6",
           "showlakes": true,
           "showland": true,
           "subunitcolor": "white"
          },
          "hoverlabel": {
           "align": "left"
          },
          "hovermode": "closest",
          "mapbox": {
           "style": "light"
          },
          "paper_bgcolor": "white",
          "plot_bgcolor": "#E5ECF6",
          "polar": {
           "angularaxis": {
            "gridcolor": "white",
            "linecolor": "white",
            "ticks": ""
           },
           "bgcolor": "#E5ECF6",
           "radialaxis": {
            "gridcolor": "white",
            "linecolor": "white",
            "ticks": ""
           }
          },
          "scene": {
           "xaxis": {
            "backgroundcolor": "#E5ECF6",
            "gridcolor": "white",
            "gridwidth": 2,
            "linecolor": "white",
            "showbackground": true,
            "ticks": "",
            "zerolinecolor": "white"
           },
           "yaxis": {
            "backgroundcolor": "#E5ECF6",
            "gridcolor": "white",
            "gridwidth": 2,
            "linecolor": "white",
            "showbackground": true,
            "ticks": "",
            "zerolinecolor": "white"
           },
           "zaxis": {
            "backgroundcolor": "#E5ECF6",
            "gridcolor": "white",
            "gridwidth": 2,
            "linecolor": "white",
            "showbackground": true,
            "ticks": "",
            "zerolinecolor": "white"
           }
          },
          "shapedefaults": {
           "line": {
            "color": "#2a3f5f"
           }
          },
          "ternary": {
           "aaxis": {
            "gridcolor": "white",
            "linecolor": "white",
            "ticks": ""
           },
           "baxis": {
            "gridcolor": "white",
            "linecolor": "white",
            "ticks": ""
           },
           "bgcolor": "#E5ECF6",
           "caxis": {
            "gridcolor": "white",
            "linecolor": "white",
            "ticks": ""
           }
          },
          "title": {
           "x": 0.05
          },
          "xaxis": {
           "automargin": true,
           "gridcolor": "white",
           "linecolor": "white",
           "ticks": "",
           "title": {
            "standoff": 15
           },
           "zerolinecolor": "white",
           "zerolinewidth": 2
          },
          "yaxis": {
           "automargin": true,
           "gridcolor": "white",
           "linecolor": "white",
           "ticks": "",
           "title": {
            "standoff": 15
           },
           "zerolinecolor": "white",
           "zerolinewidth": 2
          }
         }
        },
        "xaxis": {
         "anchor": "y",
         "domain": [
          0,
          1
         ],
         "title": {
          "text": "Epoch"
         }
        },
        "yaxis": {
         "anchor": "x",
         "domain": [
          0,
          1
         ],
         "title": {
          "text": "Loss"
         }
        }
       }
      }
     },
     "metadata": {},
     "output_type": "display_data"
    }
   ],
   "source": [
    "line(losses, xaxis=\"Epoch\", yaxis=\"Loss\")"
   ]
  },
  {
   "cell_type": "code",
   "execution_count": 12,
   "metadata": {},
   "outputs": [],
   "source": [
    "tokens, targets = generate_data(128, seen, training=False)\n",
    "\n",
    "logits, cache = model.run_with_cache(tokens)\n",
    "attention_pattern = cache[\"pattern\", 0, \"attn\"]"
   ]
  },
  {
   "cell_type": "code",
   "execution_count": 13,
   "metadata": {},
   "outputs": [
    {
     "name": "stdout",
     "output_type": "stream",
     "text": [
      "tensor([[63,  8,  0,  8,  2,  8, 64,  3,  1,  3,  2,  6, 65,  8,  0,  8,  2,  8],\n",
      "        [63,  7,  2,  3,  3,  5, 64,  2,  6,  1,  4,  4, 65,  7,  2,  3,  3,  5],\n",
      "        [63,  4,  1,  6,  1,  6, 64,  1,  1,  7,  5,  0, 65,  4,  1,  6,  1,  6],\n",
      "        [63,  2,  1,  3,  9,  9, 64,  1,  4,  0,  3,  2, 65,  2,  1,  3,  9,  9],\n",
      "        [63,  8,  8,  1,  0,  1, 64,  8,  9,  2,  6,  8, 65,  8,  9,  2,  6,  8],\n",
      "        [63,  3,  5,  5,  3,  9, 64,  3,  0,  5,  5,  5, 65,  3,  5,  5,  3,  9],\n",
      "        [63,  4,  6,  2,  6,  5, 64,  6,  0,  8,  7,  8, 65,  6,  0,  8,  7,  8],\n",
      "        [63,  5,  8,  0,  2,  4, 64,  3,  1,  9,  3,  1, 65,  5,  8,  0,  2,  4],\n",
      "        [63,  0,  2,  8,  5,  2, 64,  7,  6,  1,  2,  2, 65,  7,  6,  1,  2,  2],\n",
      "        [63,  8,  0,  2,  0,  0, 64,  1,  1,  7,  3,  3, 65,  8,  0,  2,  0,  0],\n",
      "        [63,  8,  3,  8,  1,  2, 64,  6,  5,  7,  1,  8, 65,  8,  3,  8,  1,  2],\n",
      "        [63,  7,  4,  2,  3,  6, 64,  7,  5,  2,  0,  8, 65,  7,  5,  2,  0,  8],\n",
      "        [63,  6,  8,  0,  1,  1, 64,  7,  3,  6,  6,  1, 65,  7,  3,  6,  6,  1],\n",
      "        [63,  4,  4,  3,  0,  0, 64,  6,  8,  2,  2,  9, 65,  6,  8,  2,  2,  9],\n",
      "        [63,  1,  0,  7,  7,  6, 64,  1,  2,  1,  7,  4, 65,  1,  2,  1,  7,  4],\n",
      "        [63,  2,  2,  7,  0,  1, 64,  0,  3,  1,  2,  1, 65,  2,  2,  7,  0,  1],\n",
      "        [63,  0,  7,  5,  6,  9, 64,  7,  9,  3,  3,  4, 65,  7,  9,  3,  3,  4],\n",
      "        [63,  3,  1,  0,  2,  6, 64,  7,  9,  3,  2,  2, 65,  7,  9,  3,  2,  2],\n",
      "        [63,  5,  6,  3,  8,  8, 64,  8,  1,  3,  7,  9, 65,  8,  1,  3,  7,  9],\n",
      "        [63,  4,  3,  2,  3,  9, 64,  3,  5,  7,  5,  3, 65,  4,  3,  2,  3,  9],\n",
      "        [63,  2,  3,  4,  6,  4, 64,  2,  6,  6,  7,  6, 65,  2,  6,  6,  7,  6],\n",
      "        [63,  9,  7,  0,  0,  0, 64,  7,  2,  8,  9,  9, 65,  9,  7,  0,  0,  0],\n",
      "        [63,  8,  2,  9,  2,  2, 64,  9,  7,  3,  8,  8, 65,  9,  7,  3,  8,  8],\n",
      "        [63,  6,  3,  8,  2,  7, 64,  5,  1,  9,  1,  1, 65,  6,  3,  8,  2,  7],\n",
      "        [63,  1,  3,  2,  2,  9, 64,  4,  7,  2,  6,  4, 65,  4,  7,  2,  6,  4],\n",
      "        [63,  6,  3,  7,  9,  4, 64,  6,  6,  5,  3,  8, 65,  6,  6,  5,  3,  8],\n",
      "        [63,  2,  3,  4,  1,  6, 64,  2,  0,  7,  7,  4, 65,  2,  3,  4,  1,  6],\n",
      "        [63,  1,  0,  5,  9,  1, 64,  1,  4,  5,  2,  6, 65,  1,  4,  5,  2,  6],\n",
      "        [63,  5,  3,  0,  3,  2, 64,  5,  8,  5,  0,  0, 65,  5,  8,  5,  0,  0],\n",
      "        [63,  5,  7,  5,  6,  0, 64,  2,  2,  1,  9,  0, 65,  5,  7,  5,  6,  0],\n",
      "        [63,  1,  3,  4,  5,  1, 64,  1,  4,  3,  4,  5, 65,  1,  4,  3,  4,  5],\n",
      "        [63,  6,  4,  2,  0,  0, 64,  5,  4,  8,  3,  8, 65,  6,  4,  2,  0,  0],\n",
      "        [63,  3,  0,  7,  7,  2, 64,  4,  0,  7,  3,  9, 65,  4,  0,  7,  3,  9],\n",
      "        [63,  3,  7,  4,  8,  4, 64,  5,  9,  3,  5,  0, 65,  5,  9,  3,  5,  0],\n",
      "        [63,  4,  0,  6,  9,  7, 64,  8,  8,  3,  8,  0, 65,  8,  8,  3,  8,  0],\n",
      "        [63,  9,  4,  4,  9,  8, 64,  3,  2,  6,  8,  6, 65,  9,  4,  4,  9,  8],\n",
      "        [63,  2,  9,  8,  9,  9, 64,  1,  5,  6,  3,  0, 65,  2,  9,  8,  9,  9],\n",
      "        [63,  5,  0,  2,  9,  3, 64,  7,  0,  1,  2,  0, 65,  7,  0,  1,  2,  0],\n",
      "        [63,  8,  8,  0,  3,  3, 64,  9,  2,  0,  9,  5, 65,  9,  2,  0,  9,  5],\n",
      "        [63,  6,  3,  4,  3,  4, 64,  8,  9,  8,  9,  0, 65,  8,  9,  8,  9,  0],\n",
      "        [63,  7,  5,  7,  8,  5, 64,  0,  5,  5,  0,  4, 65,  7,  5,  7,  8,  5],\n",
      "        [63,  5,  3,  4,  1,  4, 64,  6,  3,  2,  6,  6, 65,  6,  3,  2,  6,  6],\n",
      "        [63,  2,  3,  9,  8,  1, 64,  4,  1,  8,  0,  0, 65,  4,  1,  8,  0,  0],\n",
      "        [63,  7,  7,  4,  3,  7, 64,  9,  8,  9,  0,  3, 65,  9,  8,  9,  0,  3],\n",
      "        [63,  8,  6,  1,  7,  8, 64,  5,  9,  9,  0,  9, 65,  8,  6,  1,  7,  8],\n",
      "        [63,  1,  4,  6,  4,  3, 64,  4,  9,  8,  8,  5, 65,  4,  9,  8,  8,  5],\n",
      "        [63,  1,  6,  3,  5,  3, 64,  7,  7,  5,  1,  1, 65,  7,  7,  5,  1,  1],\n",
      "        [63,  5,  5,  6,  7,  3, 64,  9,  1,  4,  3,  8, 65,  9,  1,  4,  3,  8],\n",
      "        [63,  7,  4,  2,  6,  5, 64,  4,  1,  3,  2,  3, 65,  7,  4,  2,  6,  5],\n",
      "        [63,  3,  7,  8,  5,  3, 64,  4,  8,  8,  1,  6, 65,  4,  8,  8,  1,  6],\n",
      "        [63,  0,  3,  1,  6,  6, 64,  6,  1,  0,  5,  2, 65,  6,  1,  0,  5,  2],\n",
      "        [63,  3,  5,  0,  3,  2, 64,  1,  9,  7,  8,  2, 65,  3,  5,  0,  3,  2],\n",
      "        [63,  8,  4,  5,  9,  7, 64,  3,  0,  6,  6,  5, 65,  8,  4,  5,  9,  7],\n",
      "        [63,  5,  4,  8,  7,  2, 64,  2,  5,  4,  2,  0, 65,  5,  4,  8,  7,  2],\n",
      "        [63,  4,  0,  4,  8,  5, 64,  6,  9,  0,  8,  8, 65,  6,  9,  0,  8,  8],\n",
      "        [63,  1,  2,  4,  5,  1, 64,  4,  5,  3,  9,  0, 65,  4,  5,  3,  9,  0],\n",
      "        [63,  6,  2,  7,  1,  4, 64,  1,  5,  5,  2,  4, 65,  6,  2,  7,  1,  4],\n",
      "        [63,  6,  1,  5,  7,  0, 64,  0,  2,  9,  3,  5, 65,  6,  1,  5,  7,  0],\n",
      "        [63,  9,  6,  9,  8,  6, 64,  7,  5,  0,  6,  1, 65,  9,  6,  9,  8,  6],\n",
      "        [63,  1,  2,  8,  7,  6, 64,  2,  9,  4,  6,  7, 65,  2,  9,  4,  6,  7],\n",
      "        [63,  5,  4,  5,  4,  1, 64,  5,  8,  8,  6,  1, 65,  5,  8,  8,  6,  1],\n",
      "        [63,  4,  5,  5,  8,  4, 64,  5,  2,  8,  0,  7, 65,  5,  2,  8,  0,  7],\n",
      "        [63,  8,  8,  5,  1,  6, 64,  5,  1,  4,  6,  8, 65,  8,  8,  5,  1,  6],\n",
      "        [63,  6,  8,  3,  3,  8, 64,  4,  7,  2,  0,  0, 65,  6,  8,  3,  3,  8],\n",
      "        [63,  3,  6,  5,  7,  7, 64,  1,  8,  9,  2,  0, 65,  3,  6,  5,  7,  7],\n",
      "        [63,  3,  1,  6,  9,  4, 64,  5,  7,  1,  2,  2, 65,  5,  7,  1,  2,  2],\n",
      "        [63,  3,  3,  3,  5,  0, 64,  6,  0,  8,  6,  9, 65,  6,  0,  8,  6,  9],\n",
      "        [63,  7,  5,  4,  8,  3, 64,  9,  6,  3,  3,  2, 65,  9,  6,  3,  3,  2],\n",
      "        [63,  1,  5,  3,  5,  3, 64,  7,  9,  1,  6,  4, 65,  7,  9,  1,  6,  4],\n",
      "        [63,  7,  5,  0,  9,  6, 64,  7,  7,  1,  0,  4, 65,  7,  7,  1,  0,  4],\n",
      "        [63,  1,  5,  2,  7,  7, 64,  0,  1,  8,  7,  3, 65,  1,  5,  2,  7,  7],\n",
      "        [63,  8,  4,  6,  3,  5, 64,  2,  9,  0,  2,  6, 65,  8,  4,  6,  3,  5],\n",
      "        [63,  6,  9,  1,  8,  1, 64,  1,  1,  0,  4,  5, 65,  6,  9,  1,  8,  1],\n",
      "        [63,  3,  7,  4,  8,  3, 64,  6,  5,  6,  8,  0, 65,  6,  5,  6,  8,  0],\n",
      "        [63,  0,  5,  3,  7,  9, 64,  4,  0,  5,  5,  6, 65,  4,  0,  5,  5,  6],\n",
      "        [63,  1,  2,  3,  4,  1, 64,  9,  1,  6,  2,  8, 65,  9,  1,  6,  2,  8],\n",
      "        [63,  1,  1,  5,  9,  6, 64,  8,  2,  6,  1,  7, 65,  8,  2,  6,  1,  7],\n",
      "        [63,  3,  3,  0,  4,  2, 64,  8,  0,  2,  3,  7, 65,  8,  0,  2,  3,  7],\n",
      "        [63,  1,  9,  8,  7,  2, 64,  7,  3,  0,  9,  4, 65,  7,  3,  0,  9,  4],\n",
      "        [63,  9,  3,  4,  1,  8, 64,  0,  6,  7,  7,  1, 65,  9,  3,  4,  1,  8],\n",
      "        [63,  4,  1,  9,  2,  8, 64,  7,  6,  7,  1,  2, 65,  7,  6,  7,  1,  2],\n",
      "        [63,  0,  9,  8,  2,  5, 64,  2,  6,  8,  1,  2, 65,  2,  6,  8,  1,  2],\n",
      "        [63,  2,  6,  1,  7,  7, 64,  2,  3,  3,  6,  7, 65,  2,  6,  1,  7,  7],\n",
      "        [63,  6,  3,  5,  6,  5, 64,  7,  3,  3,  7,  9, 65,  7,  3,  3,  7,  9],\n",
      "        [63,  3,  2,  5,  5,  5, 64,  5,  4,  7,  5,  8, 65,  5,  4,  7,  5,  8],\n",
      "        [63,  0,  2,  8,  5,  6, 64,  1,  3,  2,  8,  0, 65,  1,  3,  2,  8,  0],\n",
      "        [63,  7,  8,  7,  0,  3, 64,  0,  7,  8,  2,  0, 65,  7,  8,  7,  0,  3],\n",
      "        [63,  3,  2,  1,  9,  7, 64,  6,  4,  9,  8,  3, 65,  6,  4,  9,  8,  3],\n",
      "        [63,  4,  7,  5,  2,  6, 64,  5,  1,  6,  4,  6, 65,  5,  1,  6,  4,  6],\n",
      "        [63,  9,  9,  8,  8,  5, 64,  0,  4,  9,  3,  2, 65,  9,  9,  8,  8,  5],\n",
      "        [63,  8,  5,  1,  2,  9, 64,  5,  7,  7,  7,  8, 65,  8,  5,  1,  2,  9],\n",
      "        [63,  2,  9,  6,  2,  4, 64,  2,  3,  9,  4,  6, 65,  2,  9,  6,  2,  4],\n",
      "        [63,  3,  6,  5,  1,  2, 64,  6,  8,  9,  5,  1, 65,  6,  8,  9,  5,  1],\n",
      "        [63,  1,  2,  9,  6,  1, 64,  6,  0,  8,  9,  0, 65,  6,  0,  8,  9,  0],\n",
      "        [63,  8,  2,  0,  0,  5, 64,  6,  9,  1,  9,  4, 65,  8,  2,  0,  0,  5],\n",
      "        [63,  4,  5,  4,  4,  1, 64,  4,  0,  6,  4,  6, 65,  4,  5,  4,  4,  1],\n",
      "        [63,  7,  5,  7,  2,  7, 64,  0,  1,  2,  3,  5, 65,  7,  5,  7,  2,  7],\n",
      "        [63,  8,  9,  1,  0,  6, 64,  4,  6,  7,  4,  2, 65,  8,  9,  1,  0,  6],\n",
      "        [63,  2,  7,  7,  9,  0, 64,  5,  2,  1,  7,  4, 65,  5,  2,  1,  7,  4],\n",
      "        [63,  6,  2,  7,  8,  9, 64,  7,  2,  3,  7,  7, 65,  7,  2,  3,  7,  7],\n",
      "        [63,  2,  9,  2,  0,  2, 64,  2,  3,  3,  5,  1, 65,  2,  9,  2,  0,  2],\n",
      "        [63,  0,  1,  6,  8,  6, 64,  3,  7,  2,  6,  6, 65,  3,  7,  2,  6,  6],\n",
      "        [63,  9,  6,  5,  6,  1, 64,  2,  5,  6,  4,  3, 65,  9,  6,  5,  6,  1],\n",
      "        [63,  9,  0,  4,  6,  8, 64,  8,  9,  8,  6,  0, 65,  9,  0,  4,  6,  8],\n",
      "        [63,  1,  3,  8,  1,  9, 64,  4,  7,  2,  8,  8, 65,  4,  7,  2,  8,  8],\n",
      "        [63,  4,  0,  2,  6,  0, 64,  0,  4,  4,  9,  8, 65,  4,  0,  2,  6,  0],\n",
      "        [63,  3,  1,  5,  3,  2, 64,  7,  6,  7,  1,  9, 65,  7,  6,  7,  1,  9],\n",
      "        [63,  4,  7,  9,  2,  9, 64,  5,  1,  7,  0,  8, 65,  5,  1,  7,  0,  8],\n",
      "        [63,  0,  4,  9,  5,  9, 64,  8,  0,  4,  3,  7, 65,  8,  0,  4,  3,  7],\n",
      "        [63,  9,  2,  7,  9,  3, 64,  5,  5,  9,  5,  3, 65,  9,  2,  7,  9,  3],\n",
      "        [63,  0,  4,  5,  4,  9, 64,  8,  1,  1,  6,  7, 65,  8,  1,  1,  6,  7],\n",
      "        [63,  9,  1,  0,  7,  4, 64,  6,  4,  7,  4,  2, 65,  9,  1,  0,  7,  4],\n",
      "        [63,  2,  3,  1,  0,  4, 64,  8,  3,  1,  3,  7, 65,  8,  3,  1,  3,  7],\n",
      "        [63,  6,  9,  0,  3,  8, 64,  9,  8,  2,  8,  7, 65,  9,  8,  2,  8,  7],\n",
      "        [63,  7,  3,  2,  9,  9, 64,  5,  5,  9,  1,  5, 65,  7,  3,  2,  9,  9],\n",
      "        [63,  9,  6,  3,  0,  9, 64,  6,  9,  3,  1,  7, 65,  9,  6,  3,  0,  9],\n",
      "        [63,  2,  5,  9,  1,  9, 64,  6,  1,  1,  6,  7, 65,  6,  1,  1,  6,  7],\n",
      "        [63,  5,  2,  9,  9,  2, 64,  3,  9,  8,  5,  9, 65,  5,  2,  9,  9,  2],\n",
      "        [63,  8,  7,  5,  1,  2, 64,  7,  9,  0,  6,  3, 65,  8,  7,  5,  1,  2],\n",
      "        [63,  8,  7,  2,  2,  3, 64,  5,  2,  9,  0,  7, 65,  8,  7,  2,  2,  3],\n",
      "        [63,  4,  9,  9,  3,  8, 64,  5,  3,  3,  2,  2, 65,  5,  3,  3,  2,  2],\n",
      "        [63,  8,  8,  9,  0,  7, 64,  5,  3,  2,  5,  1, 65,  8,  8,  9,  0,  7],\n",
      "        [63,  3,  3,  0,  9,  8, 64,  1,  1,  1,  6,  0, 65,  3,  3,  0,  9,  8],\n",
      "        [63,  0,  8,  0,  1,  6, 64,  2,  3,  9,  0,  3, 65,  2,  3,  9,  0,  3],\n",
      "        [63,  8,  6,  8,  8,  5, 64,  9,  7,  2,  7,  7, 65,  9,  7,  2,  7,  7],\n",
      "        [63,  9,  4,  8,  8,  4, 64,  0,  5,  5,  2,  1, 65,  9,  4,  8,  8,  4],\n",
      "        [63,  4,  5,  9,  0,  9, 64,  2,  3,  0,  9,  0, 65,  4,  5,  9,  0,  9],\n",
      "        [63,  9,  0,  4,  2,  0, 64,  2,  7,  3,  6,  5, 65,  9,  0,  4,  2,  0]])\n",
      "tensor([[8, 0, 8, 2, 8],\n",
      "        [7, 2, 3, 3, 5],\n",
      "        [4, 1, 6, 1, 6],\n",
      "        [2, 1, 3, 9, 9],\n",
      "        [8, 9, 2, 6, 8],\n",
      "        [3, 5, 5, 3, 9],\n",
      "        [6, 0, 8, 7, 8],\n",
      "        [5, 8, 0, 2, 4],\n",
      "        [7, 6, 1, 2, 2],\n",
      "        [8, 0, 2, 0, 0],\n",
      "        [8, 3, 8, 1, 2],\n",
      "        [7, 5, 2, 0, 8],\n",
      "        [7, 3, 6, 6, 1],\n",
      "        [6, 8, 2, 2, 9],\n",
      "        [1, 2, 1, 7, 6],\n",
      "        [2, 2, 7, 0, 1],\n",
      "        [7, 9, 3, 3, 4],\n",
      "        [7, 9, 3, 2, 2],\n",
      "        [8, 1, 3, 7, 9],\n",
      "        [4, 3, 2, 3, 9],\n",
      "        [2, 6, 6, 7, 6],\n",
      "        [9, 7, 0, 0, 0],\n",
      "        [9, 7, 3, 8, 8],\n",
      "        [6, 3, 8, 2, 7],\n",
      "        [4, 7, 2, 6, 4],\n",
      "        [6, 6, 5, 3, 8],\n",
      "        [2, 3, 4, 1, 6],\n",
      "        [1, 4, 5, 9, 6],\n",
      "        [5, 8, 5, 0, 0],\n",
      "        [5, 7, 5, 6, 0],\n",
      "        [1, 4, 3, 4, 5],\n",
      "        [6, 4, 2, 0, 0],\n",
      "        [4, 0, 7, 3, 9],\n",
      "        [5, 9, 3, 5, 0],\n",
      "        [8, 8, 3, 8, 0],\n",
      "        [9, 4, 4, 9, 8],\n",
      "        [2, 9, 8, 9, 9],\n",
      "        [7, 0, 1, 2, 0],\n",
      "        [9, 2, 0, 9, 5],\n",
      "        [8, 9, 8, 9, 0],\n",
      "        [7, 5, 7, 8, 5],\n",
      "        [6, 3, 2, 6, 6],\n",
      "        [4, 1, 8, 0, 0],\n",
      "        [9, 8, 9, 0, 3],\n",
      "        [8, 6, 1, 7, 8],\n",
      "        [4, 9, 8, 8, 5],\n",
      "        [7, 7, 5, 1, 1],\n",
      "        [9, 1, 4, 3, 8],\n",
      "        [7, 4, 2, 6, 5],\n",
      "        [4, 8, 8, 1, 6],\n",
      "        [6, 1, 0, 5, 2],\n",
      "        [3, 5, 0, 3, 2],\n",
      "        [8, 4, 5, 9, 7],\n",
      "        [5, 4, 8, 7, 2],\n",
      "        [6, 9, 0, 8, 8],\n",
      "        [4, 5, 3, 9, 0],\n",
      "        [6, 2, 7, 1, 4],\n",
      "        [6, 1, 5, 7, 0],\n",
      "        [9, 6, 9, 8, 6],\n",
      "        [2, 9, 4, 6, 7],\n",
      "        [5, 8, 8, 6, 1],\n",
      "        [5, 2, 8, 0, 7],\n",
      "        [8, 8, 5, 1, 6],\n",
      "        [6, 8, 3, 3, 8],\n",
      "        [3, 6, 5, 7, 7],\n",
      "        [5, 7, 1, 2, 2],\n",
      "        [6, 0, 8, 6, 9],\n",
      "        [9, 6, 3, 3, 2],\n",
      "        [7, 9, 1, 6, 4],\n",
      "        [7, 7, 1, 0, 4],\n",
      "        [1, 5, 2, 7, 7],\n",
      "        [8, 4, 6, 3, 5],\n",
      "        [6, 9, 1, 8, 1],\n",
      "        [6, 5, 6, 8, 0],\n",
      "        [4, 0, 5, 5, 6],\n",
      "        [9, 1, 6, 2, 8],\n",
      "        [8, 2, 6, 1, 7],\n",
      "        [8, 0, 2, 3, 7],\n",
      "        [7, 3, 0, 9, 4],\n",
      "        [9, 3, 4, 1, 8],\n",
      "        [7, 6, 7, 1, 2],\n",
      "        [2, 6, 8, 1, 2],\n",
      "        [2, 6, 1, 7, 7],\n",
      "        [7, 3, 3, 7, 9],\n",
      "        [5, 4, 7, 5, 8],\n",
      "        [1, 3, 2, 8, 0],\n",
      "        [7, 8, 7, 0, 3],\n",
      "        [6, 4, 9, 8, 3],\n",
      "        [5, 1, 6, 4, 6],\n",
      "        [9, 9, 8, 8, 5],\n",
      "        [8, 5, 1, 2, 9],\n",
      "        [2, 9, 6, 2, 4],\n",
      "        [6, 8, 9, 5, 1],\n",
      "        [6, 0, 8, 9, 0],\n",
      "        [8, 2, 0, 0, 5],\n",
      "        [4, 5, 4, 4, 1],\n",
      "        [7, 5, 7, 2, 7],\n",
      "        [8, 9, 1, 0, 6],\n",
      "        [5, 2, 1, 7, 4],\n",
      "        [7, 2, 3, 7, 7],\n",
      "        [2, 9, 2, 0, 2],\n",
      "        [3, 7, 2, 6, 6],\n",
      "        [9, 6, 5, 6, 1],\n",
      "        [9, 0, 4, 6, 8],\n",
      "        [4, 7, 2, 8, 8],\n",
      "        [4, 0, 2, 6, 0],\n",
      "        [7, 6, 7, 1, 9],\n",
      "        [5, 1, 7, 0, 8],\n",
      "        [8, 0, 4, 3, 7],\n",
      "        [9, 2, 7, 9, 3],\n",
      "        [8, 1, 1, 6, 7],\n",
      "        [9, 1, 0, 7, 4],\n",
      "        [8, 3, 1, 3, 7],\n",
      "        [9, 8, 2, 8, 7],\n",
      "        [7, 3, 2, 9, 9],\n",
      "        [9, 6, 3, 0, 9],\n",
      "        [6, 1, 1, 6, 7],\n",
      "        [5, 2, 9, 9, 2],\n",
      "        [8, 7, 5, 1, 2],\n",
      "        [8, 7, 2, 2, 3],\n",
      "        [5, 3, 3, 2, 2],\n",
      "        [8, 8, 9, 0, 7],\n",
      "        [3, 3, 0, 9, 8],\n",
      "        [2, 3, 9, 0, 3],\n",
      "        [9, 7, 2, 7, 7],\n",
      "        [9, 4, 8, 8, 4],\n",
      "        [4, 5, 9, 0, 9],\n",
      "        [9, 0, 4, 2, 0]])\n"
     ]
    }
   ],
   "source": [
    "print(tokens)\n",
    "print(torch.argmax(logits[:, MAX_DIGITS * 2 + 2 : -1 , :], dim=-1))"
   ]
  },
  {
   "cell_type": "code",
   "execution_count": 14,
   "metadata": {},
   "outputs": [
    {
     "data": {
      "text/html": [
       "<div id=\"circuits-vis-36da73b1-f327\" style=\"margin: 15px 0;\"/>\n",
       "    <script crossorigin type=\"module\">\n",
       "    import { render, AttentionHeads } from \"https://unpkg.com/circuitsvis@1.43.2/dist/cdn/esm.js\";\n",
       "    render(\n",
       "      \"circuits-vis-36da73b1-f327\",\n",
       "      AttentionHeads,\n",
       "      {\"attention\": [[[1.0, 0.0, 0.0, 0.0, 0.0, 0.0, 0.0, 0.0, 0.0, 0.0, 0.0, 0.0, 0.0, 0.0, 0.0, 0.0, 0.0, 0.0], [0.9279318451881409, 0.07206808030605316, 0.0, 0.0, 0.0, 0.0, 0.0, 0.0, 0.0, 0.0, 0.0, 0.0, 0.0, 0.0, 0.0, 0.0, 0.0, 0.0], [0.0012476281262934208, 0.007152149453759193, 0.9916002750396729, 0.0, 0.0, 0.0, 0.0, 0.0, 0.0, 0.0, 0.0, 0.0, 0.0, 0.0, 0.0, 0.0, 0.0, 0.0], [0.009186367504298687, 0.023082785308361053, 0.9676268696784973, 0.00010391985415481031, 0.0, 0.0, 0.0, 0.0, 0.0, 0.0, 0.0, 0.0, 0.0, 0.0, 0.0, 0.0, 0.0, 0.0], [0.7735714316368103, 0.21724386513233185, 0.004784488119184971, 0.0035186605527997017, 0.0008816093322820961, 0.0, 0.0, 0.0, 0.0, 0.0, 0.0, 0.0, 0.0, 0.0, 0.0, 0.0, 0.0, 0.0], [0.993353009223938, 0.002129050437361002, 0.00036613407428376377, 0.0005111402133479714, 0.003442203626036644, 0.00019840974709950387, 0.0, 0.0, 0.0, 0.0, 0.0, 0.0, 0.0, 0.0, 0.0, 0.0, 0.0, 0.0], [0.009799282997846603, 0.006718894466757774, 0.0006006979965604842, 0.0009887670166790485, 0.9094414710998535, 0.0672808289527893, 0.005170184187591076, 0.0, 0.0, 0.0, 0.0, 0.0, 0.0, 0.0, 0.0, 0.0, 0.0, 0.0], [6.098781886976212e-05, 2.045340988843236e-05, 0.0003287165309302509, 0.9993340373039246, 2.2442798581323586e-05, 7.033351721474901e-05, 0.00016290941857732832, 2.161975913850256e-07, 0.0, 0.0, 0.0, 0.0, 0.0, 0.0, 0.0, 0.0, 0.0, 0.0], [0.0015279597137123346, 0.0001226628228323534, 0.0073736910708248615, 0.9896530508995056, 0.00011723638453986496, 0.00033230934059247375, 0.000684731116052717, 4.677242395700887e-05, 0.00014154899690765887, 0.0, 0.0, 0.0, 0.0, 0.0, 0.0, 0.0, 0.0, 0.0], [0.01930243708193302, 0.0034892940893769264, 0.02468465082347393, 0.6801672577857971, 0.027360593900084496, 0.01022022683173418, 0.014602089300751686, 0.00047100777737796307, 0.010236687958240509, 0.20946581661701202, 0.0, 0.0, 0.0, 0.0, 0.0, 0.0, 0.0, 0.0], [0.35972827672958374, 0.30585163831710815, 0.0030332482419908047, 0.00607664417475462, 0.004392391070723534, 0.24887602031230927, 0.0037231820169836283, 0.030168980360031128, 0.012626562267541885, 0.01979220286011696, 0.005730906035751104, 0.0, 0.0, 0.0, 0.0, 0.0, 0.0, 0.0], [0.7247062921524048, 0.05407654121518135, 0.004992017988115549, 0.030431171879172325, 0.020946094766259193, 0.01071610301733017, 0.0059286681935191154, 0.02627679333090782, 0.015084007754921913, 0.05245978757739067, 0.054147109389305115, 0.00023539132962469012, 0.0, 0.0, 0.0, 0.0, 0.0, 0.0], [0.015158837661147118, 0.006964534055441618, 0.007645769510418177, 0.0028080055490136147, 0.009475686587393284, 0.0018900437280535698, 0.4187578856945038, 0.04474855586886406, 0.0449337363243103, 0.061848778277635574, 0.06285418570041656, 0.07569258660078049, 0.2472214251756668, 0.0, 0.0, 0.0, 0.0, 0.0], [0.021482588723301888, 0.007346646394580603, 0.033899515867233276, 2.9158187317079864e-05, 0.005923396907746792, 0.00018925894983112812, 0.01153315044939518, 0.847459614276886, 0.028032192960381508, 0.0037086268421262503, 0.0019988177809864283, 0.0032370348926633596, 0.03494609147310257, 0.00021391207701526582, 0.0, 0.0, 0.0, 0.0], [0.00031773376394994557, 0.0009710286976769567, 0.16078326106071472, 0.7949904203414917, 5.7338598708156496e-05, 0.00012631701247300953, 0.0007011792040430009, 0.0010866457596421242, 0.026836641132831573, 0.002558330772444606, 0.0005610332009382546, 0.0011135649401694536, 6.318510713754222e-05, 0.0019217496737837791, 0.00791153870522976, 0.0, 0.0, 0.0], [0.0019106853287667036, 9.192694960802328e-06, 0.0011417098576202989, 0.0033737425692379475, 0.0409601628780365, 0.0001265720056835562, 0.006731545086950064, 0.0020061114337295294, 0.00539179053157568, 0.8656571507453918, 0.05767643079161644, 0.0012650544522330165, 0.010413579642772675, 3.2376497983932495e-05, 0.0029180520214140415, 0.0003859696153085679, 0.0, 0.0], [0.00011671722313622013, 0.0005893668276257813, 0.000162824711878784, 4.016423554276116e-05, 0.03764313459396362, 0.9558945298194885, 9.465354378335178e-05, 0.00026834988966584206, 0.0005342549993656576, 0.0001887877588160336, 6.641296204179525e-05, 0.0009734068298712373, 0.0004453677393030375, 0.0013019928010180593, 0.0009751977631822228, 0.0006972004193812609, 7.638499482709449e-06, 0.0], [0.01061526220291853, 0.00019055715529248118, 0.0016388833755627275, 0.0007120801019482315, 0.7864953279495239, 0.01249595358967781, 0.003064684337005019, 0.0006618815241381526, 0.0016329962527379394, 0.005463684909045696, 0.03797246515750885, 0.0011599770514294505, 0.01010142918676138, 0.0008724271901883185, 0.0019301983993500471, 0.00013107797713018954, 0.12474878877401352, 0.00011226244532736018]], [[1.0, 0.0, 0.0, 0.0, 0.0, 0.0, 0.0, 0.0, 0.0, 0.0, 0.0, 0.0, 0.0, 0.0, 0.0, 0.0, 0.0, 0.0], [0.00691364286467433, 0.9930863380432129, 0.0, 0.0, 0.0, 0.0, 0.0, 0.0, 0.0, 0.0, 0.0, 0.0, 0.0, 0.0, 0.0, 0.0, 0.0, 0.0], [0.004111291375011206, 0.00011502257984830067, 0.9957737326622009, 0.0, 0.0, 0.0, 0.0, 0.0, 0.0, 0.0, 0.0, 0.0, 0.0, 0.0, 0.0, 0.0, 0.0, 0.0], [0.023470714688301086, 0.07198973000049591, 0.8440964818000793, 0.060443080961704254, 0.0, 0.0, 0.0, 0.0, 0.0, 0.0, 0.0, 0.0, 0.0, 0.0, 0.0, 0.0, 0.0, 0.0], [0.04542730376124382, 0.6791383028030396, 0.02498359978199005, 0.2028743177652359, 0.04757652431726456, 0.0, 0.0, 0.0, 0.0, 0.0, 0.0, 0.0, 0.0, 0.0, 0.0, 0.0, 0.0, 0.0], [0.338860422372818, 0.030360234901309013, 0.23826245963573456, 0.027961211279034615, 0.2907172441482544, 0.07383846491575241, 0.0, 0.0, 0.0, 0.0, 0.0, 0.0, 0.0, 0.0, 0.0, 0.0, 0.0, 0.0], [0.3184087872505188, 0.012764633633196354, 0.35735589265823364, 0.02747233398258686, 0.18834349513053894, 0.023378580808639526, 0.0722762793302536, 0.0, 0.0, 0.0, 0.0, 0.0, 0.0, 0.0, 0.0, 0.0, 0.0, 0.0], [0.05098006874322891, 0.3217878043651581, 0.13319829106330872, 0.025807633996009827, 0.04618197679519653, 0.004343193024396896, 0.048605043441057205, 0.36909589171409607, 0.0, 0.0, 0.0, 0.0, 0.0, 0.0, 0.0, 0.0, 0.0, 0.0], [0.0005999942077323794, 1.788987901818473e-05, 0.6527323722839355, 0.000370777997886762, 0.013334161601960659, 0.0011748974211513996, 0.22549976408481598, 0.0007151800673455, 0.10555501282215118, 0.0, 0.0, 0.0, 0.0, 0.0, 0.0, 0.0, 0.0, 0.0], [0.009792270138859749, 0.0003644475364126265, 0.0034746623132377863, 0.043798401951789856, 0.01102513913065195, 0.004240142181515694, 0.00532346498221159, 0.00028224432026036084, 0.006205231882631779, 0.9154939651489258, 0.0, 0.0, 0.0, 0.0, 0.0, 0.0, 0.0, 0.0], [0.004284726455807686, 2.123124068020843e-05, 0.007410735357552767, 0.028664501383900642, 0.4344146251678467, 0.029609376564621925, 0.00741275679320097, 2.6910001906799152e-05, 0.0039526429027318954, 0.006618926301598549, 0.477583646774292, 0.0, 0.0, 0.0, 0.0, 0.0, 0.0, 0.0], [0.03457704186439514, 3.373530489625409e-05, 0.06519073247909546, 0.002918865531682968, 0.21546435356140137, 0.0013951347209513187, 0.008179590106010437, 0.0006093361298553646, 0.10091125965118408, 0.14455722272396088, 0.4159680902957916, 0.010194669477641582, 0.0, 0.0, 0.0, 0.0, 0.0, 0.0], [5.846464645742344e-08, 0.9998805522918701, 1.8703931632668702e-12, 1.3614338456591213e-07, 3.867536065710331e-12, 7.411996705286583e-08, 2.258517595166154e-09, 0.00011911437468370423, 7.503815277476455e-12, 1.5212981915868617e-11, 2.0031196211293956e-13, 8.655218763919947e-10, 1.2445023855889303e-07, 0.0, 0.0, 0.0, 0.0, 0.0], [0.0001779861922841519, 0.00018789373280014843, 0.02687574177980423, 1.0472117537574377e-05, 0.0004170406027697027, 5.209779556025751e-05, 4.6899931476218626e-05, 0.003861774457618594, 0.9678308367729187, 0.0002399837685516104, 6.382759602274746e-05, 3.2003568776417524e-05, 7.788115908624604e-05, 0.00012540210445877165, 0.0, 0.0, 0.0, 0.0], [1.0853875210159458e-05, 6.977106181693671e-08, 0.00015220396744553, 2.5629098672652617e-05, 0.0001755402481649071, 4.610556970874313e-06, 0.00011893493501702324, 1.3570765986514743e-06, 0.002268246840685606, 0.9941993951797485, 0.002699528355151415, 3.1237643725035014e-06, 0.00010953561286441982, 7.41246140023577e-07, 0.00023024277470540255, 0.0, 0.0, 0.0], [0.0025190068408846855, 3.949188794649672e-06, 0.00029006050317548215, 0.0006643201922997832, 0.003379004541784525, 0.000796722189988941, 5.563380545936525e-05, 2.031404073932208e-05, 2.6358511604485102e-05, 0.0005876271752640605, 0.9865989685058594, 0.004492645617574453, 0.00022736667597200722, 0.0001752547250362113, 8.093212090898305e-05, 8.202602475648746e-05, 0.0, 0.0], [1.2251716725586448e-05, 9.745207535161171e-06, 0.00035139857209287584, 7.842388731660321e-05, 0.00044146456639282405, 0.002971246372908354, 0.009353968314826488, 1.773155054252129e-05, 9.045872138813138e-05, 2.936798227892723e-05, 0.002412528032436967, 0.9822723865509033, 3.167771501466632e-05, 0.00021355711214710027, 0.0002530769561417401, 0.0013309130445122719, 0.00012988271191716194, 0.0], [0.003127701347693801, 1.2385620721033774e-05, 0.020930742844939232, 0.0020252251997590065, 0.12580810487270355, 0.00929388590157032, 0.0017181027214974165, 0.00014627624477725476, 0.0021624804940074682, 0.0005711551639251411, 0.7455081939697266, 0.07815343886613846, 0.0006266165291890502, 0.0014063211856409907, 0.0045082238502800465, 0.00018121558241546154, 0.0027285825926810503, 0.0010913118021562696]]], \"tokens\": [\"63\", \"8\", \"0\", \"8\", \"2\", \"8\", \"64\", \"3\", \"1\", \"3\", \"2\", \"6\", \"65\", \"8\", \"0\", \"8\", \"2\", \"8\"]}\n",
       "    )\n",
       "    </script>"
      ],
      "text/plain": [
       "<circuitsvis.utils.render.RenderedHTML at 0x3069c1510>"
      ]
     },
     "execution_count": 14,
     "metadata": {},
     "output_type": "execute_result"
    }
   ],
   "source": [
    "cv.attention.attention_heads(tokens=list(map(lambda t: str(t.item()), tokens[0])), attention=attention_pattern[0])"
   ]
  },
  {
   "cell_type": "code",
   "execution_count": 15,
   "metadata": {},
   "outputs": [
    {
     "data": {
      "text/html": [
       "<div id=\"circuits-vis-3ff93cd6-6ec4\" style=\"margin: 15px 0;\"/>\n",
       "    <script crossorigin type=\"module\">\n",
       "    import { render, AttentionPatterns } from \"https://unpkg.com/circuitsvis@1.43.2/dist/cdn/esm.js\";\n",
       "    render(\n",
       "      \"circuits-vis-3ff93cd6-6ec4\",\n",
       "      AttentionPatterns,\n",
       "      {\"tokens\": [\"63\", \"8\", \"0\", \"8\", \"2\", \"8\", \"64\", \"3\", \"1\", \"3\", \"2\", \"6\", \"65\", \"8\", \"0\", \"8\", \"2\", \"8\"], \"attention\": [[[1.0, 0.0, 0.0, 0.0, 0.0, 0.0, 0.0, 0.0, 0.0, 0.0, 0.0, 0.0, 0.0, 0.0, 0.0, 0.0, 0.0, 0.0], [0.9279318451881409, 0.07206808030605316, 0.0, 0.0, 0.0, 0.0, 0.0, 0.0, 0.0, 0.0, 0.0, 0.0, 0.0, 0.0, 0.0, 0.0, 0.0, 0.0], [0.0012476281262934208, 0.007152149453759193, 0.9916002750396729, 0.0, 0.0, 0.0, 0.0, 0.0, 0.0, 0.0, 0.0, 0.0, 0.0, 0.0, 0.0, 0.0, 0.0, 0.0], [0.009186367504298687, 0.023082785308361053, 0.9676268696784973, 0.00010391985415481031, 0.0, 0.0, 0.0, 0.0, 0.0, 0.0, 0.0, 0.0, 0.0, 0.0, 0.0, 0.0, 0.0, 0.0], [0.7735714316368103, 0.21724386513233185, 0.004784488119184971, 0.0035186605527997017, 0.0008816093322820961, 0.0, 0.0, 0.0, 0.0, 0.0, 0.0, 0.0, 0.0, 0.0, 0.0, 0.0, 0.0, 0.0], [0.993353009223938, 0.002129050437361002, 0.00036613407428376377, 0.0005111402133479714, 0.003442203626036644, 0.00019840974709950387, 0.0, 0.0, 0.0, 0.0, 0.0, 0.0, 0.0, 0.0, 0.0, 0.0, 0.0, 0.0], [0.009799282997846603, 0.006718894466757774, 0.0006006979965604842, 0.0009887670166790485, 0.9094414710998535, 0.0672808289527893, 0.005170184187591076, 0.0, 0.0, 0.0, 0.0, 0.0, 0.0, 0.0, 0.0, 0.0, 0.0, 0.0], [6.098781886976212e-05, 2.045340988843236e-05, 0.0003287165309302509, 0.9993340373039246, 2.2442798581323586e-05, 7.033351721474901e-05, 0.00016290941857732832, 2.161975913850256e-07, 0.0, 0.0, 0.0, 0.0, 0.0, 0.0, 0.0, 0.0, 0.0, 0.0], [0.0015279597137123346, 0.0001226628228323534, 0.0073736910708248615, 0.9896530508995056, 0.00011723638453986496, 0.00033230934059247375, 0.000684731116052717, 4.677242395700887e-05, 0.00014154899690765887, 0.0, 0.0, 0.0, 0.0, 0.0, 0.0, 0.0, 0.0, 0.0], [0.01930243708193302, 0.0034892940893769264, 0.02468465082347393, 0.6801672577857971, 0.027360593900084496, 0.01022022683173418, 0.014602089300751686, 0.00047100777737796307, 0.010236687958240509, 0.20946581661701202, 0.0, 0.0, 0.0, 0.0, 0.0, 0.0, 0.0, 0.0], [0.35972827672958374, 0.30585163831710815, 0.0030332482419908047, 0.00607664417475462, 0.004392391070723534, 0.24887602031230927, 0.0037231820169836283, 0.030168980360031128, 0.012626562267541885, 0.01979220286011696, 0.005730906035751104, 0.0, 0.0, 0.0, 0.0, 0.0, 0.0, 0.0], [0.7247062921524048, 0.05407654121518135, 0.004992017988115549, 0.030431171879172325, 0.020946094766259193, 0.01071610301733017, 0.0059286681935191154, 0.02627679333090782, 0.015084007754921913, 0.05245978757739067, 0.054147109389305115, 0.00023539132962469012, 0.0, 0.0, 0.0, 0.0, 0.0, 0.0], [0.015158837661147118, 0.006964534055441618, 0.007645769510418177, 0.0028080055490136147, 0.009475686587393284, 0.0018900437280535698, 0.4187578856945038, 0.04474855586886406, 0.0449337363243103, 0.061848778277635574, 0.06285418570041656, 0.07569258660078049, 0.2472214251756668, 0.0, 0.0, 0.0, 0.0, 0.0], [0.021482588723301888, 0.007346646394580603, 0.033899515867233276, 2.9158187317079864e-05, 0.005923396907746792, 0.00018925894983112812, 0.01153315044939518, 0.847459614276886, 0.028032192960381508, 0.0037086268421262503, 0.0019988177809864283, 0.0032370348926633596, 0.03494609147310257, 0.00021391207701526582, 0.0, 0.0, 0.0, 0.0], [0.00031773376394994557, 0.0009710286976769567, 0.16078326106071472, 0.7949904203414917, 5.7338598708156496e-05, 0.00012631701247300953, 0.0007011792040430009, 0.0010866457596421242, 0.026836641132831573, 0.002558330772444606, 0.0005610332009382546, 0.0011135649401694536, 6.318510713754222e-05, 0.0019217496737837791, 0.00791153870522976, 0.0, 0.0, 0.0], [0.0019106853287667036, 9.192694960802328e-06, 0.0011417098576202989, 0.0033737425692379475, 0.0409601628780365, 0.0001265720056835562, 0.006731545086950064, 0.0020061114337295294, 0.00539179053157568, 0.8656571507453918, 0.05767643079161644, 0.0012650544522330165, 0.010413579642772675, 3.2376497983932495e-05, 0.0029180520214140415, 0.0003859696153085679, 0.0, 0.0], [0.00011671722313622013, 0.0005893668276257813, 0.000162824711878784, 4.016423554276116e-05, 0.03764313459396362, 0.9558945298194885, 9.465354378335178e-05, 0.00026834988966584206, 0.0005342549993656576, 0.0001887877588160336, 6.641296204179525e-05, 0.0009734068298712373, 0.0004453677393030375, 0.0013019928010180593, 0.0009751977631822228, 0.0006972004193812609, 7.638499482709449e-06, 0.0], [0.01061526220291853, 0.00019055715529248118, 0.0016388833755627275, 0.0007120801019482315, 0.7864953279495239, 0.01249595358967781, 0.003064684337005019, 0.0006618815241381526, 0.0016329962527379394, 0.005463684909045696, 0.03797246515750885, 0.0011599770514294505, 0.01010142918676138, 0.0008724271901883185, 0.0019301983993500471, 0.00013107797713018954, 0.12474878877401352, 0.00011226244532736018]], [[1.0, 0.0, 0.0, 0.0, 0.0, 0.0, 0.0, 0.0, 0.0, 0.0, 0.0, 0.0, 0.0, 0.0, 0.0, 0.0, 0.0, 0.0], [0.00691364286467433, 0.9930863380432129, 0.0, 0.0, 0.0, 0.0, 0.0, 0.0, 0.0, 0.0, 0.0, 0.0, 0.0, 0.0, 0.0, 0.0, 0.0, 0.0], [0.004111291375011206, 0.00011502257984830067, 0.9957737326622009, 0.0, 0.0, 0.0, 0.0, 0.0, 0.0, 0.0, 0.0, 0.0, 0.0, 0.0, 0.0, 0.0, 0.0, 0.0], [0.023470714688301086, 0.07198973000049591, 0.8440964818000793, 0.060443080961704254, 0.0, 0.0, 0.0, 0.0, 0.0, 0.0, 0.0, 0.0, 0.0, 0.0, 0.0, 0.0, 0.0, 0.0], [0.04542730376124382, 0.6791383028030396, 0.02498359978199005, 0.2028743177652359, 0.04757652431726456, 0.0, 0.0, 0.0, 0.0, 0.0, 0.0, 0.0, 0.0, 0.0, 0.0, 0.0, 0.0, 0.0], [0.338860422372818, 0.030360234901309013, 0.23826245963573456, 0.027961211279034615, 0.2907172441482544, 0.07383846491575241, 0.0, 0.0, 0.0, 0.0, 0.0, 0.0, 0.0, 0.0, 0.0, 0.0, 0.0, 0.0], [0.3184087872505188, 0.012764633633196354, 0.35735589265823364, 0.02747233398258686, 0.18834349513053894, 0.023378580808639526, 0.0722762793302536, 0.0, 0.0, 0.0, 0.0, 0.0, 0.0, 0.0, 0.0, 0.0, 0.0, 0.0], [0.05098006874322891, 0.3217878043651581, 0.13319829106330872, 0.025807633996009827, 0.04618197679519653, 0.004343193024396896, 0.048605043441057205, 0.36909589171409607, 0.0, 0.0, 0.0, 0.0, 0.0, 0.0, 0.0, 0.0, 0.0, 0.0], [0.0005999942077323794, 1.788987901818473e-05, 0.6527323722839355, 0.000370777997886762, 0.013334161601960659, 0.0011748974211513996, 0.22549976408481598, 0.0007151800673455, 0.10555501282215118, 0.0, 0.0, 0.0, 0.0, 0.0, 0.0, 0.0, 0.0, 0.0], [0.009792270138859749, 0.0003644475364126265, 0.0034746623132377863, 0.043798401951789856, 0.01102513913065195, 0.004240142181515694, 0.00532346498221159, 0.00028224432026036084, 0.006205231882631779, 0.9154939651489258, 0.0, 0.0, 0.0, 0.0, 0.0, 0.0, 0.0, 0.0], [0.004284726455807686, 2.123124068020843e-05, 0.007410735357552767, 0.028664501383900642, 0.4344146251678467, 0.029609376564621925, 0.00741275679320097, 2.6910001906799152e-05, 0.0039526429027318954, 0.006618926301598549, 0.477583646774292, 0.0, 0.0, 0.0, 0.0, 0.0, 0.0, 0.0], [0.03457704186439514, 3.373530489625409e-05, 0.06519073247909546, 0.002918865531682968, 0.21546435356140137, 0.0013951347209513187, 0.008179590106010437, 0.0006093361298553646, 0.10091125965118408, 0.14455722272396088, 0.4159680902957916, 0.010194669477641582, 0.0, 0.0, 0.0, 0.0, 0.0, 0.0], [5.846464645742344e-08, 0.9998805522918701, 1.8703931632668702e-12, 1.3614338456591213e-07, 3.867536065710331e-12, 7.411996705286583e-08, 2.258517595166154e-09, 0.00011911437468370423, 7.503815277476455e-12, 1.5212981915868617e-11, 2.0031196211293956e-13, 8.655218763919947e-10, 1.2445023855889303e-07, 0.0, 0.0, 0.0, 0.0, 0.0], [0.0001779861922841519, 0.00018789373280014843, 0.02687574177980423, 1.0472117537574377e-05, 0.0004170406027697027, 5.209779556025751e-05, 4.6899931476218626e-05, 0.003861774457618594, 0.9678308367729187, 0.0002399837685516104, 6.382759602274746e-05, 3.2003568776417524e-05, 7.788115908624604e-05, 0.00012540210445877165, 0.0, 0.0, 0.0, 0.0], [1.0853875210159458e-05, 6.977106181693671e-08, 0.00015220396744553, 2.5629098672652617e-05, 0.0001755402481649071, 4.610556970874313e-06, 0.00011893493501702324, 1.3570765986514743e-06, 0.002268246840685606, 0.9941993951797485, 0.002699528355151415, 3.1237643725035014e-06, 0.00010953561286441982, 7.41246140023577e-07, 0.00023024277470540255, 0.0, 0.0, 0.0], [0.0025190068408846855, 3.949188794649672e-06, 0.00029006050317548215, 0.0006643201922997832, 0.003379004541784525, 0.000796722189988941, 5.563380545936525e-05, 2.031404073932208e-05, 2.6358511604485102e-05, 0.0005876271752640605, 0.9865989685058594, 0.004492645617574453, 0.00022736667597200722, 0.0001752547250362113, 8.093212090898305e-05, 8.202602475648746e-05, 0.0, 0.0], [1.2251716725586448e-05, 9.745207535161171e-06, 0.00035139857209287584, 7.842388731660321e-05, 0.00044146456639282405, 0.002971246372908354, 0.009353968314826488, 1.773155054252129e-05, 9.045872138813138e-05, 2.936798227892723e-05, 0.002412528032436967, 0.9822723865509033, 3.167771501466632e-05, 0.00021355711214710027, 0.0002530769561417401, 0.0013309130445122719, 0.00012988271191716194, 0.0], [0.003127701347693801, 1.2385620721033774e-05, 0.020930742844939232, 0.0020252251997590065, 0.12580810487270355, 0.00929388590157032, 0.0017181027214974165, 0.00014627624477725476, 0.0021624804940074682, 0.0005711551639251411, 0.7455081939697266, 0.07815343886613846, 0.0006266165291890502, 0.0014063211856409907, 0.0045082238502800465, 0.00018121558241546154, 0.0027285825926810503, 0.0010913118021562696]]]}\n",
       "    )\n",
       "    </script>"
      ],
      "text/plain": [
       "<circuitsvis.utils.render.RenderedHTML at 0x30902fe10>"
      ]
     },
     "execution_count": 15,
     "metadata": {},
     "output_type": "execute_result"
    }
   ],
   "source": [
    "cv.attention.attention_patterns(tokens=list(map(lambda t: str(t.item()), tokens[0])), attention=attention_pattern[0])"
   ]
  },
  {
   "cell_type": "code",
   "execution_count": 16,
   "metadata": {},
   "outputs": [
    {
     "data": {
      "text/html": [
       "<div id=\"circuits-vis-25d14e79-15eb\" style=\"margin: 15px 0;\"/>\n",
       "    <script crossorigin type=\"module\">\n",
       "    import { render, AttentionPatterns } from \"https://unpkg.com/circuitsvis@1.43.2/dist/cdn/esm.js\";\n",
       "    render(\n",
       "      \"circuits-vis-25d14e79-15eb\",\n",
       "      AttentionPatterns,\n",
       "      {\"tokens\": [\"63\", \"4\", \"1\", \"6\", \"1\", \"6\", \"64\", \"1\", \"1\", \"7\", \"5\", \"0\", \"65\", \"4\", \"1\", \"6\", \"1\", \"6\"], \"attention\": [[[1.0, 0.0, 0.0, 0.0, 0.0, 0.0, 0.0, 0.0, 0.0, 0.0, 0.0, 0.0, 0.0, 0.0, 0.0, 0.0, 0.0, 0.0], [0.8548254370689392, 0.1451745480298996, 0.0, 0.0, 0.0, 0.0, 0.0, 0.0, 0.0, 0.0, 0.0, 0.0, 0.0, 0.0, 0.0, 0.0, 0.0, 0.0], [0.005556515883654356, 0.009760400280356407, 0.984683096408844, 0.0, 0.0, 0.0, 0.0, 0.0, 0.0, 0.0, 0.0, 0.0, 0.0, 0.0, 0.0, 0.0, 0.0, 0.0], [0.0011631310917437077, 0.9090251922607422, 0.08975856006145477, 5.3104336984688416e-05, 0.0, 0.0, 0.0, 0.0, 0.0, 0.0, 0.0, 0.0, 0.0, 0.0, 0.0, 0.0, 0.0, 0.0], [0.8778174519538879, 0.12070607393980026, 0.00034109331318177283, 0.0009605971281416714, 0.00017463827680330724, 0.0, 0.0, 0.0, 0.0, 0.0, 0.0, 0.0, 0.0, 0.0, 0.0, 0.0, 0.0, 0.0], [0.9520031213760376, 0.04566936194896698, 0.0013428769307211041, 8.069149043876678e-05, 0.0008744193473830819, 2.950084672193043e-05, 0.0, 0.0, 0.0, 0.0, 0.0, 0.0, 0.0, 0.0, 0.0, 0.0, 0.0, 0.0], [0.011716891080141068, 0.004546924028545618, 0.0003991684934590012, 0.000799178727902472, 0.9169649481773376, 0.05939096957445145, 0.006181929726153612, 0.0, 0.0, 0.0, 0.0, 0.0, 0.0, 0.0, 0.0, 0.0, 0.0, 0.0], [0.0011475048959255219, 5.8640962379286066e-05, 0.00020669885270763189, 0.9960164427757263, 4.892787728749681e-06, 5.016578143113293e-05, 0.002508369507268071, 7.1985887188930064e-06, 0.0, 0.0, 0.0, 0.0, 0.0, 0.0, 0.0, 0.0, 0.0, 0.0], [0.002391449175775051, 0.00013358754222281277, 0.0004958024364896119, 0.9954100251197815, 2.4973665858851746e-05, 0.00023358706675935537, 0.0010716903489083052, 1.743936627462972e-05, 0.00022154209727887064, 0.0, 0.0, 0.0, 0.0, 0.0, 0.0, 0.0, 0.0, 0.0], [0.019804304465651512, 0.025769531726837158, 0.01188038382679224, 0.821576714515686, 0.025824667885899544, 0.02183258719742298, 0.012947198934853077, 0.014472924172878265, 0.023389317095279694, 0.02250226028263569, 0.0, 0.0, 0.0, 0.0, 0.0, 0.0, 0.0, 0.0], [0.1351958066225052, 0.3280238211154938, 0.012723118998110294, 0.002320601837709546, 0.3271656036376953, 0.13643980026245117, 0.002929344540461898, 0.02418067492544651, 0.008141675963997841, 0.01957067660987377, 0.003308933461084962, 0.0, 0.0, 0.0, 0.0, 0.0, 0.0, 0.0], [0.6495571732521057, 0.015537948347628117, 0.020368704572319984, 0.054430220276117325, 0.027482815086841583, 0.00447589997202158, 0.012409847229719162, 0.010733256116509438, 0.014729936607182026, 0.13164447247982025, 0.05768151953816414, 0.0009482047753408551, 0.0, 0.0, 0.0, 0.0, 0.0, 0.0], [0.0138758085668087, 0.009103427641093731, 0.005422537215054035, 0.0022306893952190876, 0.011709807440638542, 0.0019028688548132777, 0.3833146095275879, 0.06275857239961624, 0.041130583733320236, 0.0583794079720974, 0.029776781797409058, 0.15409806370735168, 0.2262968271970749, 0.0, 0.0, 0.0, 0.0, 0.0], [0.008452066220343113, 0.014335477724671364, 0.07493246346712112, 0.000551224104128778, 0.008463677950203419, 0.008650780655443668, 0.006642304826527834, 0.8173502087593079, 0.039012592285871506, 0.0009041354060173035, 0.004532801918685436, 0.010294598527252674, 0.00541055528447032, 0.0004671720089390874, 0.0, 0.0, 0.0, 0.0], [0.000741025258321315, 0.0014074512291699648, 0.36561593413352966, 0.5772215127944946, 3.088191442657262e-05, 0.00013610298628918827, 0.0014868576545268297, 0.0018660144414752722, 0.003976533655077219, 0.008857200853526592, 0.002256191335618496, 0.003927478101104498, 7.923537486931309e-05, 0.002406948246061802, 0.029990676790475845, 0.0, 0.0, 0.0], [0.005688104312866926, 0.0011662119068205357, 0.003127262694761157, 0.0041817896999418736, 0.028328469023108482, 8.164477912941948e-05, 0.0015990479150786996, 0.007682361174374819, 0.006040985696017742, 0.8473392128944397, 0.08032413572072983, 0.005891571287065744, 0.004688284359872341, 0.0010801724856719375, 0.0014037516666576266, 0.0013769407523795962, 0.0, 0.0], [0.0008072396740317345, 0.0021652881987392902, 6.3195257098414e-06, 4.6784298319835216e-05, 0.047075267881155014, 0.9359560608863831, 0.0003501762403175235, 9.646644684835337e-06, 1.4842963537375908e-05, 0.0006032296223565936, 0.0025045163929462433, 0.002046286826953292, 0.0007374118431471288, 0.0074114250019192696, 2.1367262888816185e-05, 0.0001971677120309323, 4.686847751145251e-05, 0.0], [0.19148828089237213, 0.09042082726955414, 0.02550453133881092, 0.0007909307023510337, 0.17542435228824615, 0.006413905415683985, 0.005236349999904633, 0.019456416368484497, 0.014291180297732353, 0.2102392017841339, 0.10186557471752167, 0.03641124442219734, 0.027267567813396454, 0.08191320300102234, 0.004690840374678373, 0.00035104903508909047, 0.008143812417984009, 9.075514390133321e-05]], [[1.0, 0.0, 0.0, 0.0, 0.0, 0.0, 0.0, 0.0, 0.0, 0.0, 0.0, 0.0, 0.0, 0.0, 0.0, 0.0, 0.0, 0.0], [0.005906385835260153, 0.9940935969352722, 0.0, 0.0, 0.0, 0.0, 0.0, 0.0, 0.0, 0.0, 0.0, 0.0, 0.0, 0.0, 0.0, 0.0, 0.0, 0.0], [0.004765869118273258, 0.002503241878002882, 0.9927309155464172, 0.0, 0.0, 0.0, 0.0, 0.0, 0.0, 0.0, 0.0, 0.0, 0.0, 0.0, 0.0, 0.0, 0.0, 0.0], [0.010540283285081387, 0.08610817044973373, 0.8406420350074768, 0.0627094954252243, 0.0, 0.0, 0.0, 0.0, 0.0, 0.0, 0.0, 0.0, 0.0, 0.0, 0.0, 0.0, 0.0, 0.0], [0.21109649538993835, 0.08921023458242416, 0.014132274314761162, 0.2631164789199829, 0.42244455218315125, 0.0, 0.0, 0.0, 0.0, 0.0, 0.0, 0.0, 0.0, 0.0, 0.0, 0.0, 0.0, 0.0], [0.3283885717391968, 0.047254208475351334, 0.18273739516735077, 0.05119756981730461, 0.31871747970581055, 0.07170473784208298, 0.0, 0.0, 0.0, 0.0, 0.0, 0.0, 0.0, 0.0, 0.0, 0.0, 0.0, 0.0], [0.23851749300956726, 0.0312168151140213, 0.37733644247055054, 0.02626986987888813, 0.24749623239040375, 0.025021571666002274, 0.054141584783792496, 0.0, 0.0, 0.0, 0.0, 0.0, 0.0, 0.0, 0.0, 0.0, 0.0, 0.0], [0.03472335636615753, 0.21936270594596863, 0.017256613820791245, 0.11340466141700745, 0.11587075889110565, 0.019859854131937027, 0.1127287819981575, 0.36679327487945557, 0.0, 0.0, 0.0, 0.0, 0.0, 0.0, 0.0, 0.0, 0.0, 0.0], [0.0009656146285124123, 0.00041266679181717336, 0.37153759598731995, 0.0017344370717182755, 0.07698845118284225, 0.006304842419922352, 0.36291319131851196, 0.00926578976213932, 0.16987736523151398, 0.0, 0.0, 0.0, 0.0, 0.0, 0.0, 0.0, 0.0, 0.0], [0.019462110474705696, 0.001214503776282072, 0.011776422150433064, 0.05880296975374222, 0.00979285966604948, 0.004991541616618633, 0.004985623061656952, 0.0020889488514512777, 0.012087765149772167, 0.8747972846031189, 0.0, 0.0, 0.0, 0.0, 0.0, 0.0, 0.0, 0.0], [0.009521855041384697, 0.00016332080122083426, 0.007853321731090546, 0.019511332735419273, 0.40035173296928406, 0.011733883060514927, 0.004503284581005573, 0.00024045075406320393, 0.005674012936651707, 0.001800352823920548, 0.5386463403701782, 0.0, 0.0, 0.0, 0.0, 0.0, 0.0, 0.0], [0.007224241737276316, 1.3080823919153772e-05, 0.0008383800159208477, 0.0048464275896549225, 0.326651930809021, 0.0028683124110102654, 0.0025395196862518787, 5.245820284471847e-05, 0.00429260591045022, 0.03351840749382973, 0.5736597776412964, 0.04349489510059357, 0.0, 0.0, 0.0, 0.0, 0.0, 0.0], [8.463823905913159e-05, 0.9955765008926392, 1.3523072439625139e-08, 1.8628208636073396e-05, 1.0857242882522655e-09, 1.0961449333990458e-05, 3.269615945100668e-06, 0.00409109890460968, 1.0863130839311452e-08, 3.4597997000673786e-05, 8.543862861642992e-08, 1.6256915258416882e-10, 0.00018016455578617752, 0.0, 0.0, 0.0, 0.0, 0.0], [7.235776138259098e-05, 0.0005201394087634981, 0.010153796523809433, 2.5202156393788755e-05, 0.000169047896633856, 7.29487874195911e-05, 0.00018872672808356583, 0.00044780701864510775, 0.9874773025512695, 0.00011703276686603203, 9.605178092897404e-06, 8.450964378425851e-05, 0.0001185758228530176, 0.000542994705028832, 0.0, 0.0, 0.0, 0.0], [4.628253009286709e-05, 3.2552818538533757e-06, 0.0010147980647161603, 0.00012927246280014515, 0.0012121605686843395, 2.2762566004530527e-05, 0.0010063665686175227, 7.09091400494799e-05, 0.019738400354981422, 0.9735021591186523, 8.115217497106642e-05, 0.0007606711587868631, 0.0006140670157037675, 3.837816257146187e-05, 0.0017593088559806347, 0.0, 0.0, 0.0], [0.0012634028680622578, 4.899085524812108e-06, 0.00017371209105476737, 0.0005153496167622507, 0.0019231560872867703, 0.00024284796381834894, 9.336791845271364e-05, 3.2072382509795716e-06, 4.55753761343658e-05, 0.0003174562007188797, 0.9907829165458679, 0.003967992961406708, 0.0001464603265048936, 0.00024662239593453705, 4.862349305767566e-05, 0.00022438549785874784, 0.0, 0.0], [1.9138715288136154e-05, 5.022977802582318e-06, 0.0001960355875780806, 0.00010187344742007554, 0.001296260510571301, 0.0035564128775149584, 0.008343980647623539, 6.201103678904474e-05, 9.883781785902102e-06, 8.499243449477945e-06, 0.0015938766300678253, 0.982930600643158, 7.380029273917899e-05, 0.00013118750939611346, 0.00015980759053491056, 0.001336858025752008, 0.00017489724268671125, 0.0], [0.004557416308671236, 0.0002462399424985051, 0.03688250482082367, 0.006389335263520479, 0.10459016263484955, 0.010113269090652466, 0.011320379562675953, 0.000761374132707715, 0.015956999734044075, 0.0002749572158791125, 0.05646537244319916, 0.7035096287727356, 0.0016139025101438165, 0.013014406897127628, 0.012059878557920456, 0.0032154477667063475, 0.016757864505052567, 0.002270888304337859]]]}\n",
       "    )\n",
       "    </script>"
      ],
      "text/plain": [
       "<circuitsvis.utils.render.RenderedHTML at 0x30a701650>"
      ]
     },
     "execution_count": 16,
     "metadata": {},
     "output_type": "execute_result"
    }
   ],
   "source": [
    "cv.attention.attention_patterns(tokens=list(map(lambda t: str(t.item()), tokens[2])), attention=attention_pattern[2])"
   ]
  },
  {
   "cell_type": "code",
   "execution_count": 104,
   "metadata": {},
   "outputs": [
    {
     "data": {
      "text/html": [
       "<div id=\"circuits-vis-b4e33877-4f38\" style=\"margin: 15px 0;\"/>\n",
       "    <script crossorigin type=\"module\">\n",
       "    import { render, AttentionPatterns } from \"https://unpkg.com/circuitsvis@1.43.2/dist/cdn/esm.js\";\n",
       "    render(\n",
       "      \"circuits-vis-b4e33877-4f38\",\n",
       "      AttentionPatterns,\n",
       "      {\"tokens\": [\"63\", \"2\", \"1\", \"3\", \"9\", \"9\", \"64\", \"1\", \"4\", \"0\", \"3\", \"2\", \"65\", \"2\", \"1\", \"3\", \"9\", \"9\"], \"attention\": [[[1.0, 0.0, 0.0, 0.0, 0.0, 0.0, 0.0, 0.0, 0.0, 0.0, 0.0, 0.0, 0.0, 0.0, 0.0, 0.0, 0.0, 0.0], [0.6040624380111694, 0.3959375321865082, 0.0, 0.0, 0.0, 0.0, 0.0, 0.0, 0.0, 0.0, 0.0, 0.0, 0.0, 0.0, 0.0, 0.0, 0.0, 0.0], [0.45302343368530273, 0.4480848014354706, 0.09889174997806549, 0.0, 0.0, 0.0, 0.0, 0.0, 0.0, 0.0, 0.0, 0.0, 0.0, 0.0, 0.0, 0.0, 0.0, 0.0], [0.04838616028428078, 0.06320741772651672, 0.27842333912849426, 0.6099830865859985, 0.0, 0.0, 0.0, 0.0, 0.0, 0.0, 0.0, 0.0, 0.0, 0.0, 0.0, 0.0, 0.0, 0.0], [0.43871214985847473, 0.4814974367618561, 0.06960977613925934, 0.009095200337469578, 0.0010854064021259546, 0.0, 0.0, 0.0, 0.0, 0.0, 0.0, 0.0, 0.0, 0.0, 0.0, 0.0, 0.0, 0.0], [0.0018999762833118439, 0.0025222187396138906, 0.27019283175468445, 0.07537457346916199, 0.5740059018135071, 0.0760045275092125, 0.0, 0.0, 0.0, 0.0, 0.0, 0.0, 0.0, 0.0, 0.0, 0.0, 0.0, 0.0], [0.316389262676239, 0.4084857702255249, 0.0802144780755043, 0.021284300833940506, 0.007266960106790066, 0.08375758677721024, 0.08260160684585571, 0.0, 0.0, 0.0, 0.0, 0.0, 0.0, 0.0, 0.0, 0.0, 0.0, 0.0], [0.2892680764198303, 0.18891309201717377, 0.06373006105422974, 0.014172057621181011, 0.0956585705280304, 0.01525233592838049, 0.14318503439426422, 0.18982073664665222, 0.0, 0.0, 0.0, 0.0, 0.0, 0.0, 0.0, 0.0, 0.0, 0.0], [0.10167675465345383, 0.08401631563901901, 0.00896051898598671, 0.1283506453037262, 0.03375604376196861, 0.4211416244506836, 0.13573294878005981, 0.07681369036436081, 0.009551489725708961, 0.0, 0.0, 0.0, 0.0, 0.0, 0.0, 0.0, 0.0, 0.0], [0.02139453776180744, 0.019931653514504433, 0.09257994592189789, 0.18100671470165253, 0.24613633751869202, 0.13003987073898315, 0.024758217856287956, 0.018994571641087532, 0.08535772562026978, 0.1798003911972046, 0.0, 0.0, 0.0, 0.0, 0.0, 0.0, 0.0, 0.0], [0.27616193890571594, 0.2226601392030716, 0.032745372503995895, 0.004535104148089886, 0.004513099789619446, 0.024827562272548676, 0.18539363145828247, 0.20541127026081085, 0.03458147868514061, 0.0046022795140743256, 0.004568217322230339, 0.0, 0.0, 0.0, 0.0, 0.0, 0.0, 0.0], [0.0009081466705538332, 0.001112435245886445, 0.08703549951314926, 0.027489300817251205, 0.3121599853038788, 0.05504743382334709, 0.0023708920925855637, 0.0015266037080436945, 0.06908919662237167, 0.02736811153590679, 0.35631588101387024, 0.05957650765776634, 0.0, 0.0, 0.0, 0.0, 0.0, 0.0], [0.38522061705589294, 0.36881256103515625, 6.611990556848468e-06, 9.92814420897048e-07, 2.426547496270359e-07, 1.0410209142719395e-05, 0.010330748744308949, 0.23169127106666565, 1.418967622157652e-05, 7.730306492703676e-07, 1.5351844240285573e-07, 4.360101229394786e-06, 0.003907002042979002, 0.0, 0.0, 0.0, 0.0, 0.0], [0.004487874452024698, 0.006702274549752474, 0.45925021171569824, 0.0024668213445693254, 0.005074498243629932, 0.0077890860848128796, 0.004481044597923756, 0.008336354978382587, 0.4672805964946747, 0.0027618990279734135, 0.005588279105722904, 0.007756208535283804, 0.009639577008783817, 0.008385276421904564, 0.0, 0.0, 0.0, 0.0], [0.006598318926990032, 0.006488381419330835, 0.0054701571352779865, 0.47689586877822876, 0.008124488405883312, 0.007364362478256226, 0.007513239048421383, 0.006732323206961155, 0.005163111258298159, 0.4128361940383911, 0.008900598622858524, 0.00900771003216505, 0.007634645793586969, 0.010737041011452675, 0.020533492788672447, 0.0, 0.0, 0.0], [0.007014081347733736, 0.005610531661659479, 0.004941265098750591, 0.009911758825182915, 0.47234514355659485, 0.007793676573783159, 0.006578448694199324, 0.005866724997758865, 0.004417968448251486, 0.010754614137113094, 0.414506733417511, 0.007906829938292503, 0.01858408749103546, 0.010521412827074528, 0.006588591728359461, 0.0066581298597157, 0.0, 0.0], [0.003823655191808939, 0.00469280406832695, 0.0026088457088917494, 0.0047856466844677925, 0.00353771960362792, 0.4854484796524048, 0.0038153082132339478, 0.003998174332082272, 0.002586401766166091, 0.004887792281806469, 0.0034482330083847046, 0.45293283462524414, 0.0008039922686293721, 0.005400876980274916, 0.0031710932962596416, 0.005986364092677832, 0.008071806281805038, 0.0], [0.0037130462005734444, 0.003286411054432392, 0.020511876791715622, 0.07000429928302765, 0.1541297733783722, 0.10636202245950699, 0.012710199691355228, 0.003008132567629218, 0.017474021762609482, 0.0757361501455307, 0.16400443017482758, 0.13665810227394104, 0.007973553612828255, 0.029205625876784325, 0.05119997635483742, 0.030037948861718178, 0.05248001962900162, 0.06150446832180023]]]}\n",
       "    )\n",
       "    </script>"
      ],
      "text/plain": [
       "<circuitsvis.utils.render.RenderedHTML at 0x30b921910>"
      ]
     },
     "execution_count": 104,
     "metadata": {},
     "output_type": "execute_result"
    }
   ],
   "source": [
    "cv.attention.attention_patterns(tokens=list(map(lambda t: str(t.item()), tokens[3])), attention=attention_pattern[3])"
   ]
  },
  {
   "cell_type": "code",
   "execution_count": 105,
   "metadata": {},
   "outputs": [
    {
     "data": {
      "text/html": [
       "<div id=\"circuits-vis-aad74a6c-8fe2\" style=\"margin: 15px 0;\"/>\n",
       "    <script crossorigin type=\"module\">\n",
       "    import { render, AttentionPatterns } from \"https://unpkg.com/circuitsvis@1.43.2/dist/cdn/esm.js\";\n",
       "    render(\n",
       "      \"circuits-vis-aad74a6c-8fe2\",\n",
       "      AttentionPatterns,\n",
       "      {\"tokens\": [\"63\", \"8\", \"8\", \"1\", \"0\", \"1\", \"64\", \"8\", \"9\", \"2\", \"6\", \"8\", \"65\", \"8\", \"9\", \"2\", \"6\", \"8\"], \"attention\": [[[1.0, 0.0, 0.0, 0.0, 0.0, 0.0, 0.0, 0.0, 0.0, 0.0, 0.0, 0.0, 0.0, 0.0, 0.0, 0.0, 0.0, 0.0], [0.4431436061859131, 0.5568563938140869, 0.0, 0.0, 0.0, 0.0, 0.0, 0.0, 0.0, 0.0, 0.0, 0.0, 0.0, 0.0, 0.0, 0.0, 0.0, 0.0], [0.4212566018104553, 0.49144232273101807, 0.08730106055736542, 0.0, 0.0, 0.0, 0.0, 0.0, 0.0, 0.0, 0.0, 0.0, 0.0, 0.0, 0.0, 0.0, 0.0, 0.0], [0.05383672937750816, 0.031029745936393738, 0.38098737597465515, 0.5341461300849915, 0.0, 0.0, 0.0, 0.0, 0.0, 0.0, 0.0, 0.0, 0.0, 0.0, 0.0, 0.0, 0.0, 0.0], [0.29511573910713196, 0.5531064867973328, 0.14285418391227722, 0.007271899841725826, 0.0016516858013346791, 0.0, 0.0, 0.0, 0.0, 0.0, 0.0, 0.0, 0.0, 0.0, 0.0, 0.0, 0.0, 0.0], [0.0020790398120880127, 0.0009210188873112202, 0.28355124592781067, 0.05290747433900833, 0.5935930013656616, 0.06694817543029785, 0.0, 0.0, 0.0, 0.0, 0.0, 0.0, 0.0, 0.0, 0.0, 0.0, 0.0, 0.0], [0.1830664873123169, 0.6469496488571167, 0.07138697057962418, 0.011891847476363182, 0.0038045337423682213, 0.03510633111000061, 0.047794241458177567, 0.0, 0.0, 0.0, 0.0, 0.0, 0.0, 0.0, 0.0, 0.0, 0.0, 0.0], [0.22683586180210114, 0.269379198551178, 0.050133489072322845, 0.009429263882339, 0.06958692520856857, 0.007051615510135889, 0.10153870284557343, 0.26604506373405457, 0.0, 0.0, 0.0, 0.0, 0.0, 0.0, 0.0, 0.0, 0.0, 0.0], [0.08009467273950577, 0.07429394125938416, 0.005422115325927734, 0.15524335205554962, 0.033629160374403, 0.4663834571838379, 0.10793427377939224, 0.07234162092208862, 0.004657393787056208, 0.0, 0.0, 0.0, 0.0, 0.0, 0.0, 0.0, 0.0, 0.0], [0.02619415894150734, 0.018396595492959023, 0.054256852716207504, 0.15377233922481537, 0.2316403090953827, 0.2501086890697479, 0.03341922536492348, 0.019095437601208687, 0.04799908027052879, 0.1651173084974289, 0.0, 0.0, 0.0, 0.0, 0.0, 0.0, 0.0, 0.0], [0.21042554080486298, 0.26815658807754517, 0.03627980127930641, 0.006555907893925905, 0.0026892153546214104, 0.030088158324360847, 0.16505219042301178, 0.23698917031288147, 0.035642631351947784, 0.005284355022013187, 0.002836330560967326, 0.0, 0.0, 0.0, 0.0, 0.0, 0.0, 0.0], [0.0006234124302864075, 0.000274423771770671, 0.08143242448568344, 0.03598186373710632, 0.31495603919029236, 0.04889487102627754, 0.0017766811652109027, 0.0002901918487623334, 0.09436596184968948, 0.032802291214466095, 0.35179147124290466, 0.03681027889251709, 0.0, 0.0, 0.0, 0.0, 0.0, 0.0], [0.01596871204674244, 0.525101363658905, 8.66127152221452e-07, 2.699471934874964e-08, 7.893942388648156e-09, 1.855122775396012e-07, 0.0004282448790036142, 0.45833757519721985, 6.232705800357508e-07, 2.8475584556986178e-08, 7.069123064695759e-09, 4.6880856530151505e-07, 0.0001619586837477982, 0.0, 0.0, 0.0, 0.0, 0.0], [0.006047866772860289, 0.007264669518917799, 0.4098692834377289, 0.00530552351847291, 0.008099367842078209, 0.009332681074738503, 0.006194988265633583, 0.0073394495993852615, 0.4945867657661438, 0.005063094664365053, 0.007487159222364426, 0.007893003523349762, 0.014242161996662617, 0.011274025775492191, 0.0, 0.0, 0.0, 0.0], [0.004887262359261513, 0.0035221476573497057, 0.002333844779059291, 0.45454227924346924, 0.004865788388997316, 0.007798974867910147, 0.005829918198287487, 0.003692754777148366, 0.002253436017781496, 0.47366467118263245, 0.004955465439707041, 0.0071372585371136665, 0.0048350184224545956, 0.00771966390311718, 0.011961453594267368, 0.0, 0.0, 0.0], [0.008786543272435665, 0.005452471785247326, 0.00578678771853447, 0.012049305252730846, 0.4175567626953125, 0.01447806041687727, 0.008161233738064766, 0.005675194319337606, 0.00535998959094286, 0.010366490110754967, 0.4441263973712921, 0.01393144391477108, 0.019143464043736458, 0.013757776468992233, 0.008476183749735355, 0.006891798228025436, 0.0, 0.0], [0.003258206881582737, 0.003164652269333601, 0.0032947154249995947, 0.005616891663521528, 0.0035891446750611067, 0.45851650834083557, 0.0036040358245372772, 0.002920267404988408, 0.0030782208777964115, 0.005365157965570688, 0.0035470151342451572, 0.47731539607048035, 0.0007823978085070848, 0.0044844672083854675, 0.004727795720100403, 0.006962023209780455, 0.009773168712854385, 0.0], [0.002140250988304615, 0.0005317146424204111, 0.018689440563321114, 0.0595572292804718, 0.2221490442752838, 0.09559828042984009, 0.008289850316941738, 0.000512004247866571, 0.023729141801595688, 0.0622144490480423, 0.2336505502462387, 0.0686505064368248, 0.006894408725202084, 0.014702083542943, 0.05082842707633972, 0.032665327191352844, 0.0458330437541008, 0.05336425080895424]]]}\n",
       "    )\n",
       "    </script>"
      ],
      "text/plain": [
       "<circuitsvis.utils.render.RenderedHTML at 0x308eaf510>"
      ]
     },
     "execution_count": 105,
     "metadata": {},
     "output_type": "execute_result"
    }
   ],
   "source": [
    "cv.attention.attention_patterns(tokens=list(map(lambda t: str(t.item()), tokens[4])), attention=attention_pattern[4])"
   ]
  },
  {
   "cell_type": "code",
   "execution_count": 106,
   "metadata": {},
   "outputs": [
    {
     "data": {
      "text/html": [
       "<div id=\"circuits-vis-2bf8b615-23d7\" style=\"margin: 15px 0;\"/>\n",
       "    <script crossorigin type=\"module\">\n",
       "    import { render, AttentionPatterns } from \"https://unpkg.com/circuitsvis@1.43.2/dist/cdn/esm.js\";\n",
       "    render(\n",
       "      \"circuits-vis-2bf8b615-23d7\",\n",
       "      AttentionPatterns,\n",
       "      {\"tokens\": [\"63\", \"3\", \"5\", \"5\", \"3\", \"9\", \"64\", \"3\", \"0\", \"5\", \"5\", \"5\", \"65\", \"3\", \"5\", \"5\", \"3\", \"9\"], \"attention\": [[[1.0, 0.0, 0.0, 0.0, 0.0, 0.0, 0.0, 0.0, 0.0, 0.0, 0.0, 0.0, 0.0, 0.0, 0.0, 0.0, 0.0, 0.0], [0.5515547394752502, 0.44844532012939453, 0.0, 0.0, 0.0, 0.0, 0.0, 0.0, 0.0, 0.0, 0.0, 0.0, 0.0, 0.0, 0.0, 0.0, 0.0, 0.0], [0.40989845991134644, 0.4759948253631592, 0.11410675942897797, 0.0, 0.0, 0.0, 0.0, 0.0, 0.0, 0.0, 0.0, 0.0, 0.0, 0.0, 0.0, 0.0, 0.0, 0.0], [0.03037637285888195, 0.03515176475048065, 0.3603211045265198, 0.5741507411003113, 0.0, 0.0, 0.0, 0.0, 0.0, 0.0, 0.0, 0.0, 0.0, 0.0, 0.0, 0.0, 0.0, 0.0], [0.406726211309433, 0.49536752700805664, 0.08914618194103241, 0.006757214665412903, 0.0020027905702590942, 0.0, 0.0, 0.0, 0.0, 0.0, 0.0, 0.0, 0.0, 0.0, 0.0, 0.0, 0.0, 0.0], [0.002035839017480612, 0.002274714643135667, 0.25205564498901367, 0.08173201233148575, 0.5804623365402222, 0.08143945783376694, 0.0, 0.0, 0.0, 0.0, 0.0, 0.0, 0.0, 0.0, 0.0, 0.0, 0.0, 0.0], [0.2962326407432556, 0.4277760088443756, 0.09220857173204422, 0.022177735343575478, 0.0058443425223231316, 0.07842152565717697, 0.07733918726444244, 0.0, 0.0, 0.0, 0.0, 0.0, 0.0, 0.0, 0.0, 0.0, 0.0, 0.0], [0.2765564024448395, 0.21723127365112305, 0.049577485769987106, 0.013903274200856686, 0.08103741705417633, 0.011070281267166138, 0.13454116880893707, 0.21608270704746246, 0.0, 0.0, 0.0, 0.0, 0.0, 0.0, 0.0, 0.0, 0.0, 0.0], [0.10434645414352417, 0.08155275881290436, 0.01715186983346939, 0.16491933166980743, 0.06479287892580032, 0.3534545302391052, 0.11616165190935135, 0.08031491935253143, 0.01730560138821602, 0.0, 0.0, 0.0, 0.0, 0.0, 0.0, 0.0, 0.0, 0.0], [0.019245000556111336, 0.018599633127450943, 0.0811871662735939, 0.1804264485836029, 0.1722831130027771, 0.201893612742424, 0.033354081213474274, 0.019008172675967216, 0.08845409005880356, 0.1855485439300537, 0.0, 0.0, 0.0, 0.0, 0.0, 0.0, 0.0, 0.0], [0.22247330844402313, 0.22444699704647064, 0.05275275558233261, 0.004859853070229292, 0.003041655756533146, 0.03085331618785858, 0.19641131162643433, 0.2088363915681839, 0.048491381108760834, 0.005035175941884518, 0.002797870896756649, 0.0, 0.0, 0.0, 0.0, 0.0, 0.0, 0.0], [0.0007124534458853304, 0.0008911389741115272, 0.12217783182859421, 0.032621923834085464, 0.2702346444129944, 0.04757864773273468, 0.0025233363267034292, 0.0009226987604051828, 0.13838377594947815, 0.03292323276400566, 0.30149346590042114, 0.049536820501089096, 0.0, 0.0, 0.0, 0.0, 0.0, 0.0], [0.22172950208187103, 0.39786243438720703, 7.419446319545386e-06, 5.931615305598825e-07, 1.253568626680135e-07, 5.9920221247011796e-06, 0.005946285557001829, 0.3721892535686493, 4.7115063352975994e-06, 6.206411171660875e-07, 9.328203276481872e-08, 4.089061349077383e-06, 0.002248835051432252, 0.0, 0.0, 0.0, 0.0, 0.0], [0.006437633652240038, 0.008750727400183678, 0.4686398208141327, 0.004264916758984327, 0.007977577857673168, 0.006886775605380535, 0.006433267146348953, 0.008791915141046047, 0.432163268327713, 0.004568778909742832, 0.010268519632518291, 0.008029510267078876, 0.015750659629702568, 0.011036503128707409, 0.0, 0.0, 0.0, 0.0], [0.006391908973455429, 0.006251764949411154, 0.0055923620238900185, 0.4485306739807129, 0.006846865639090538, 0.00872025080025196, 0.009049879387021065, 0.006451075430959463, 0.005715502426028252, 0.4410836696624756, 0.006417602300643921, 0.008948085829615593, 0.007296058814972639, 0.011856868863105774, 0.0208475049585104, 0.0, 0.0, 0.0], [0.006536504253745079, 0.005874875467270613, 0.008254539221525192, 0.012568840757012367, 0.4296421706676483, 0.011103171855211258, 0.007784266956150532, 0.006030344404280186, 0.009217029437422752, 0.012229002080857754, 0.42835086584091187, 0.010960569605231285, 0.01888606883585453, 0.014453317038714886, 0.01000908948481083, 0.008099302649497986, 0.0, 0.0], [0.004981295671314001, 0.005747598595917225, 0.003310446161776781, 0.004129000939428806, 0.006116723176091909, 0.4905080497264862, 0.004777418915182352, 0.00543029373511672, 0.00395200215280056, 0.004068279173225164, 0.005452779121696949, 0.4344043433666229, 0.0012019946007058024, 0.006214316003024578, 0.0041411807760596275, 0.007448536343872547, 0.008115781471133232, 0.0], [0.003838377771899104, 0.002716519171372056, 0.019813694059848785, 0.07285145670175552, 0.15385963022708893, 0.10995218902826309, 0.013139224611222744, 0.0026295746210962534, 0.022344738245010376, 0.07145294547080994, 0.17052559554576874, 0.12245140224695206, 0.008242693729698658, 0.02574491873383522, 0.04851362854242325, 0.031060410663485527, 0.05728255584836006, 0.06358050554990768]]]}\n",
       "    )\n",
       "    </script>"
      ],
      "text/plain": [
       "<circuitsvis.utils.render.RenderedHTML at 0x30b281710>"
      ]
     },
     "execution_count": 106,
     "metadata": {},
     "output_type": "execute_result"
    }
   ],
   "source": [
    "cv.attention.attention_patterns(tokens=list(map(lambda t: str(t.item()), tokens[5])), attention=attention_pattern[5])"
   ]
  },
  {
   "cell_type": "code",
   "execution_count": 107,
   "metadata": {},
   "outputs": [
    {
     "data": {
      "image/png": "[encoded data removed]",
      "text/plain": [
       "<Figure size 800x800 with 2 Axes>"
      ]
     },
     "metadata": {},
     "output_type": "display_data"
    }
   ],
   "source": [
    "attn = model.blocks[0].attn\n",
    "all_token_embeddings = model.embed(range(D_VOCAB))\n",
    "\n",
    "embeddings_key = einsum(\"d_vocab d_model, n_heads d_model d_head -> n_heads d_vocab d_head\", \n",
    "                        all_token_embeddings, attn.W_K) \n",
    "embeddings_query = einsum(\"d_vocab d_model, n_heads d_model d_head -> n_heads d_vocab d_head\", \n",
    "                          all_token_embeddings, attn.W_Q) \n",
    "                          \n",
    "plt.rcParams['figure.figsize'] = [20, 10]\n",
    "qk_circuit_attn_heatmap = einsum(\n",
    "    \"n_heads d_vocab_q d_head, n_heads d_vocab_k d_head -> ... d_vocab_q d_vocab_k\", \n",
    "    embeddings_query, embeddings_key\n",
    "    ).detach().cpu().numpy()\n",
    "fig, ax = plt.subplots(figsize=(8, 8))\n",
    "graph = ax.imshow(qk_circuit_attn_heatmap, cmap=\"hot\", interpolation=\"nearest\")\n",
    "plt.colorbar(graph)\n",
    "plt.tight_layout()"
   ]
  },
  {
   "cell_type": "code",
   "execution_count": 108,
   "metadata": {},
   "outputs": [],
   "source": [
    "def calculate_qk_attn_heatmap(model, keypos=-1, querypos=-1):\n",
    "  attn = model.blocks[0].attn\n",
    "  all_token_embeddings = model.embed(range(D_VOCAB))\n",
    "  positional_embeddings = model.pos_embed(all_token_embeddings)\n",
    "\n",
    "  token_embeddings_at_keypos = all_token_embeddings + positional_embeddings[:,keypos,:] if keypos > -1 else all_token_embeddings\n",
    "  token_embeddings_at_querypos = all_token_embeddings + positional_embeddings[:,querypos,:] if querypos > -1 else all_token_embeddings\n",
    "\n",
    "  embeddings_key = einsum(\"d_vocab d_model, n_heads d_model d_head -> n_heads d_vocab d_head\",\n",
    "                          token_embeddings_at_keypos, attn.W_K)\n",
    "  embeddings_query = einsum(\"d_vocab d_model, n_heads d_model d_head -> n_heads d_vocab d_head\",\n",
    "                            token_embeddings_at_querypos, attn.W_Q)\n",
    "\n",
    "  plt.rcParams['figure.figsize'] = [20, 10]\n",
    "  qk_circuit_attn_heatmap = einsum(\n",
    "      \"n_heads d_vocab_q d_head, n_heads d_vocab_k d_head -> ... d_vocab_q d_vocab_k\",\n",
    "      embeddings_query, embeddings_key\n",
    "      ).detach().cpu().numpy()\n",
    "\n",
    "  return qk_circuit_attn_heatmap\n",
    "\n",
    "def plot_qk_heatmap(model, keypos=-1, querypos=-1):\n",
    "  qk_attn_heatmap = calculate_qk_attn_heatmap(model, keypos=keypos, querypos=querypos)\n",
    "\n",
    "  fig, ax = plt.subplots(figsize=(8, 8))\n",
    "  graph = ax.imshow(qk_attn_heatmap, cmap=\"hot\", interpolation=\"nearest\")\n",
    "  plt.colorbar(graph)\n",
    "  plt.tight_layout()\n",
    "\n",
    "def plot_avg_qk_heatmap(model, keypositions, querypos=-1):\n",
    "  heatmaps = []\n",
    "\n",
    "  for keypos in keypositions:\n",
    "    heatmaps.append(calculate_qk_attn_heatmap(model, keypos=keypos, querypos=querypos))\n",
    "\n",
    "  qk_circuit_attn_heatmap = np.mean(heatmaps, axis=0)\n",
    "\n",
    "  fig, ax = plt.subplots(figsize=(8, 8))\n",
    "  graph = ax.imshow(qk_circuit_attn_heatmap, cmap=\"hot\", interpolation=\"nearest\")\n",
    "  plt.colorbar(graph)\n",
    "  plt.tight_layout()"
   ]
  },
  {
   "cell_type": "code",
   "execution_count": 109,
   "metadata": {},
   "outputs": [],
   "source": [
    "def plot_ov_heatmap(model, pos=-1):\n",
    "  attn = model.blocks[0].attn\n",
    "  all_token_embeddings = model.embed(range(D_VOCAB))\n",
    "\n",
    "  token_embeddings_at_pos = all_token_embeddings + model.pos_embed(all_token_embeddings)[:,pos,:] if pos > -1 else all_token_embeddings\n",
    "\n",
    "  embeddings_value = einsum(\"d_vocab d_model, n_heads d_model d_head -> n_heads d_vocab d_head\",\n",
    "                          token_embeddings_at_pos, attn.W_V)\n",
    "\n",
    "  embeddings_out = einsum(\"n_heads d_vocab d_model1, n_heads d_model1 d_model2 -> n_heads d_vocab d_model2\",\n",
    "                        embeddings_value, attn.W_O)\n",
    "\n",
    "  ov_circuit_attn_heatmap = model.unembed(embeddings_out).detach()\n",
    "\n",
    "  fig, ax = plt.subplots(figsize=(8, 8))\n",
    "  graph = ax.imshow(ov_circuit_attn_heatmap[0], cmap=\"hot\", interpolation=\"nearest\")\n",
    "  plt.colorbar(graph)\n",
    "  plt.tight_layout()"
   ]
  },
  {
   "cell_type": "code",
   "execution_count": 110,
   "metadata": {},
   "outputs": [
    {
     "data": {
      "image/png": "[encoded data removed]",
      "text/plain": [
       "<Figure size 800x800 with 2 Axes>"
      ]
     },
     "metadata": {},
     "output_type": "display_data"
    }
   ],
   "source": [
    "plot_ov_heatmap(model)"
   ]
  },
  {
   "cell_type": "code",
   "execution_count": null,
   "metadata": {},
   "outputs": [],
   "source": []
  }
 ],
 "metadata": {
  "kernelspec": {
   "display_name": "ml",
   "language": "python",
   "name": "python3"
  },
  "language_info": {
   "codemirror_mode": {
    "name": "ipython",
    "version": 3
   },
   "file_extension": ".py",
   "mimetype": "text/x-python",
   "name": "python",
   "nbconvert_exporter": "python",
   "pygments_lexer": "ipython3",
   "version": "3.11.7"
  }
 },
 "nbformat": 4,
 "nbformat_minor": 2
}
