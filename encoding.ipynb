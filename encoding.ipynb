{
 "cells": [
  {
   "cell_type": "code",
   "execution_count": 25,
   "metadata": {},
   "outputs": [],
   "source": [
    "import torch\n",
    "import numpy as np\n",
    "import matplotlib.pyplot as plt\n",
    "from transformer_lens import HookedTransformer, HookedTransformerConfig, utils\n",
    "import random\n",
    "import circuitsvis as cv\n",
    "from fancy_einsum import einsum"
   ]
  },
  {
   "cell_type": "code",
   "execution_count": 26,
   "metadata": {},
   "outputs": [],
   "source": [
    "# model parameter constants\n",
    "N_LAYERS = 1\n",
    "N_HEADS = 1\n",
    "D_MODEL = 32\n",
    "D_HEAD = 32\n",
    "D_MLP = None\n",
    "D_VOCAB = 12\n",
    "SEED = 123\n",
    "DEVICE = \"cuda\" if torch.cuda.is_available() else \"cpu\""
   ]
  },
  {
   "cell_type": "code",
   "execution_count": 27,
   "metadata": {},
   "outputs": [],
   "source": [
    "MAX_DIGITS = 5\n",
    "NUM_DIGITS = 2\n",
    "# 10 is between numbers, 11 for filler space\n",
    "CTX_LEN = NUM_DIGITS * MAX_DIGITS + 1"
   ]
  },
  {
   "cell_type": "code",
   "execution_count": 28,
   "metadata": {},
   "outputs": [
    {
     "data": {
      "text/plain": [
       "(tensor([[ 7,  1,  7,  5,  5, 10,  1,  6,  3, 11, 11],\n",
       "         [ 1, 11, 11, 11, 11, 10,  8,  4,  1,  4, 11],\n",
       "         [ 9, 11, 11, 11, 11, 10,  4,  3, 11, 11, 11],\n",
       "         [ 2,  3,  7,  7, 11, 10,  3,  9,  0,  9,  1],\n",
       "         [ 2,  1, 11, 11, 11, 10,  5,  5,  8,  1,  9],\n",
       "         [ 6,  4,  7,  4,  2, 10,  7,  0,  2, 11, 11],\n",
       "         [ 4, 11, 11, 11, 11, 10,  3,  5,  3, 11, 11],\n",
       "         [ 2,  0,  7, 11, 11, 10,  7,  7,  4,  7, 11],\n",
       "         [ 1,  7,  1,  8, 11, 10,  4,  2,  7,  3, 11],\n",
       "         [ 8,  4, 11, 11, 11, 10,  2,  6,  7,  6, 11]]),\n",
       " tensor([[ 7,  1,  7,  5,  5],\n",
       "         [ 8,  4,  1,  4, 11],\n",
       "         [ 4,  3, 11, 11, 11],\n",
       "         [ 3,  9,  0,  9,  1],\n",
       "         [ 5,  5,  8,  1,  9],\n",
       "         [ 6,  4,  7,  4,  2],\n",
       "         [ 3,  5,  3, 11, 11],\n",
       "         [ 7,  7,  4,  7, 11],\n",
       "         [ 4,  2,  7,  3, 11],\n",
       "         [ 2,  6,  7,  6, 11]]))"
      ]
     },
     "execution_count": 28,
     "metadata": {},
     "output_type": "execute_result"
    }
   ],
   "source": [
    "def generate_number_with_variable_length(max_digits):\n",
    "    num_digits = random.randint(1, max_digits)\n",
    "    if num_digits == 1:\n",
    "        return random.randint(0, 9)\n",
    "    else:\n",
    "        return random.randint(10**(num_digits-1), 10**num_digits - 1)\n",
    "\n",
    "def generate_data(n, training=True):\n",
    "    tokens = []\n",
    "    target = []\n",
    "\n",
    "    for _ in range(n):\n",
    "        curr = []\n",
    "        answer = \"\"\n",
    "        \n",
    "        a = (generate_number_with_variable_length(MAX_DIGITS))\n",
    "        b = (generate_number_with_variable_length(MAX_DIGITS))\n",
    "\n",
    "        if a > b:\n",
    "            answer = \"a\"\n",
    "        else:\n",
    "            answer = \"b\"\n",
    "\n",
    "        i = 0\n",
    "        for digit in str(a):\n",
    "            curr.append(int(digit))\n",
    "            i += 1\n",
    "        while i < MAX_DIGITS:\n",
    "            curr.append(11)\n",
    "            i += 1\n",
    "        \n",
    "        curr.append(10)\n",
    "        \n",
    "        i = 0\n",
    "        for digit in str(b):\n",
    "            curr.append(int(digit))\n",
    "            i += 1\n",
    "        while i < MAX_DIGITS:\n",
    "            curr.append(11)\n",
    "            i += 1\n",
    "        \n",
    "        if answer == \"a\":\n",
    "            answer_list = curr[:MAX_DIGITS]\n",
    "        else:\n",
    "            answer_list = curr[MAX_DIGITS+1:]\n",
    "            \n",
    "        tokens.append(curr)\n",
    "        target.append(answer_list)\n",
    "\n",
    "    return torch.tensor(tokens), torch.tensor(target)\n",
    "\n",
    "generate_data(10)"
   ]
  },
  {
   "cell_type": "code",
   "execution_count": 29,
   "metadata": {},
   "outputs": [],
   "source": [
    "cfg = HookedTransformerConfig(\n",
    "    d_model=D_MODEL,\n",
    "    n_layers=N_LAYERS,\n",
    "    n_heads=N_HEADS,\n",
    "    d_head=D_HEAD,\n",
    "    n_ctx=CTX_LEN,\n",
    "    d_vocab=D_VOCAB,\n",
    "    act_fn=\"relu\",\n",
    "    seed=SEED,\n",
    "    device=DEVICE,\n",
    "    attn_only=True\n",
    ")\n",
    "\n",
    "# hooked transformer used for interpretation later\n",
    "model = HookedTransformer(cfg, move_to_device=True)"
   ]
  },
  {
   "cell_type": "code",
   "execution_count": 30,
   "metadata": {},
   "outputs": [],
   "source": [
    "def loss_function(logits, target, return_per_token=True, print_tokens=False):\n",
    "    answer = target\n",
    "    # print(logits.shape)\n",
    "    logits = logits[:, MAX_DIGITS : -1 , :]\n",
    "    # print(logits.shape)\n",
    "    log_prob = logits.log_softmax(-1)\n",
    "    output_prob = log_prob.gather(-1, answer[..., None])[..., 0]\n",
    "\n",
    "    if print_tokens:\n",
    "        print(\"target\", target)\n",
    "        print(\"predicted\", torch.argmax(logits, dim=-1))\n",
    "        \n",
    "    if return_per_token:\n",
    "        return -output_prob\n",
    "    return -output_prob.mean()"
   ]
  },
  {
   "cell_type": "code",
   "execution_count": 31,
   "metadata": {},
   "outputs": [],
   "source": [
    "def accuracy(logits, target, return_per_token=False):\n",
    "    logits = logits[:, MAX_DIGITS : - 1, :]\n",
    "    predicted = torch.argmax(logits, dim=-1)\n",
    "    answer = target\n",
    "    if return_per_token:\n",
    "        return (predicted == answer).float()\n",
    "    return (predicted == answer).float().mean().item()"
   ]
  },
  {
   "cell_type": "code",
   "execution_count": 32,
   "metadata": {},
   "outputs": [],
   "source": [
    "import torch\n",
    "import torch.nn as nn\n",
    "import numpy as np\n",
    "\n",
    "def train_model(model, n_epochs, batch_size, batches_per, sequence_length=2):\n",
    "    lr = 1e-3\n",
    "    betas = (0.9, 0.999)\n",
    "    optimizer = torch.optim.Adam(model.parameters(), lr=lr, betas=betas)\n",
    "    \n",
    "    train_losses = []\n",
    "    for epoch in range(n_epochs):\n",
    "        epoch_losses = []\n",
    "        for _ in range(batches_per):\n",
    "            tokens, targets = generate_data(batch_size, training=True)  \n",
    "            logits = model(tokens)\n",
    "            \n",
    "            losses = loss_function(logits, targets, print_tokens=False)\n",
    "            \n",
    "            losses.mean().backward()\n",
    "            optimizer.step()\n",
    "            optimizer.zero_grad()\n",
    "            \n",
    "            epoch_losses.extend(losses.detach())\n",
    "\n",
    "        train_losses.append(np.mean(epoch_losses))\n",
    "        if epoch % 10 == 0:\n",
    "            print(f\"Epoch {epoch}, train loss: {train_losses[-1]}\")\n",
    "\n",
    "    model.eval()\n",
    "\n",
    "    test_data, targets = generate_data(1280, training=True)\n",
    "    logits = model(test_data)\n",
    "\n",
    "    acc = accuracy(logits, targets, return_per_token=False)\n",
    "\n",
    "    print(f\"Validation accuracy: {acc}\")\n",
    "\n",
    "    return train_losses\n"
   ]
  },
  {
   "cell_type": "code",
   "execution_count": 33,
   "metadata": {},
   "outputs": [
    {
     "name": "stdout",
     "output_type": "stream",
     "text": [
      "Epoch 0, train loss: 2.3381073474884033\n",
      "Epoch 10, train loss: 1.3118587732315063\n",
      "Epoch 20, train loss: 1.3233853578567505\n",
      "Epoch 30, train loss: 1.2977573871612549\n",
      "Epoch 40, train loss: 1.2719975709915161\n",
      "Epoch 50, train loss: 1.2590651512145996\n",
      "Epoch 60, train loss: 1.3496609926223755\n",
      "Epoch 70, train loss: 1.2861409187316895\n",
      "Epoch 80, train loss: 1.2766121625900269\n",
      "Epoch 90, train loss: 1.2724158763885498\n",
      "Validation accuracy: 0.6431249976158142\n"
     ]
    }
   ],
   "source": [
    "torch.set_printoptions(threshold=10000)\n",
    "losses = train_model(model, 100, 128, 10)"
   ]
  },
  {
   "cell_type": "code",
   "execution_count": 34,
   "metadata": {},
   "outputs": [],
   "source": [
    "tokens, targets = generate_data(128, training=True)\n",
    "logits, cache = model.run_with_cache(tokens)\n",
    "attention_pattern = cache[\"pattern\", 0, \"attn\"]"
   ]
  },
  {
   "cell_type": "code",
   "execution_count": 35,
   "metadata": {},
   "outputs": [
    {
     "data": {
      "text/html": [
       "<div id=\"circuits-vis-2c68985c-6b24\" style=\"margin: 15px 0;\"/>\n",
       "    <script crossorigin type=\"module\">\n",
       "    import { render, AttentionHeads } from \"https://unpkg.com/circuitsvis@1.43.2/dist/cdn/esm.js\";\n",
       "    render(\n",
       "      \"circuits-vis-2c68985c-6b24\",\n",
       "      AttentionHeads,\n",
       "      {\"attention\": [[[1.0, 0.0, 0.0, 0.0, 0.0, 0.0, 0.0, 0.0, 0.0, 0.0, 0.0], [0.72758948802948, 0.27241048216819763, 0.0, 0.0, 0.0, 0.0, 0.0, 0.0, 0.0, 0.0, 0.0], [0.036156874150037766, 0.7669730186462402, 0.1968701332807541, 0.0, 0.0, 0.0, 0.0, 0.0, 0.0, 0.0, 0.0], [0.13924597203731537, 0.6991583704948425, 0.09606111794710159, 0.06553453207015991, 0.0, 0.0, 0.0, 0.0, 0.0, 0.0, 0.0], [0.05251704528927803, 0.09145641326904297, 0.1929500848054886, 0.6382800936698914, 0.024796344339847565, 0.0, 0.0, 0.0, 0.0, 0.0, 0.0], [0.9045692682266235, 0.00880123395472765, 0.0006386105087585747, 0.0013655617367476225, 0.006527271121740341, 0.07809808105230331, 0.0, 0.0, 0.0, 0.0, 0.0], [0.0036103695165365934, 0.6291998624801636, 0.020228538662195206, 0.002876867773011327, 0.3192243278026581, 0.020340146496891975, 0.004519806243479252, 0.0, 0.0, 0.0, 0.0], [0.018146252259612083, 0.016593223437666893, 0.5120908617973328, 0.03917452692985535, 0.2732710540294647, 0.11790822446346283, 0.006424240302294493, 0.016391469165682793, 0.0, 0.0, 0.0], [0.001991800731047988, 0.0011901285033673048, 0.010548105463385582, 0.5223527550697327, 0.32849276065826416, 0.10817696154117584, 0.0031067992094904184, 0.003482558997347951, 0.020658159628510475, 0.0, 0.0], [0.0019337248522788286, 0.0033461994025856256, 0.0004597785009536892, 0.005198384169489145, 0.9656954407691956, 0.02084280364215374, 0.0003578432078938931, 0.000400237157009542, 0.0011329767294228077, 0.0006326179718598723, 0.0], [0.012381372042000294, 0.0554216094315052, 0.05407348647713661, 0.026043293997645378, 0.7133640050888062, 0.08569742739200592, 0.005164903588593006, 0.007727491669356823, 0.00823409017175436, 0.018455881625413895, 0.013436507433652878]]], \"tokens\": [\"3\", \"4\", \"1\", \"0\", \"11\", \"10\", \"1\", \"2\", \"2\", \"1\", \"1\"]}\n",
       "    )\n",
       "    </script>"
      ],
      "text/plain": [
       "<circuitsvis.utils.render.RenderedHTML at 0x30b7dbbd0>"
      ]
     },
     "execution_count": 35,
     "metadata": {},
     "output_type": "execute_result"
    }
   ],
   "source": [
    "cv.attention.attention_heads(tokens=list(map(lambda t: str(t.item()), tokens[0])), attention=attention_pattern[0])"
   ]
  },
  {
   "cell_type": "code",
   "execution_count": 36,
   "metadata": {},
   "outputs": [
    {
     "data": {
      "text/html": [
       "<div id=\"circuits-vis-1eca2287-3dc6\" style=\"margin: 15px 0;\"/>\n",
       "    <script crossorigin type=\"module\">\n",
       "    import { render, AttentionPatterns } from \"https://unpkg.com/circuitsvis@1.43.2/dist/cdn/esm.js\";\n",
       "    render(\n",
       "      \"circuits-vis-1eca2287-3dc6\",\n",
       "      AttentionPatterns,\n",
       "      {\"tokens\": [\"3\", \"4\", \"1\", \"0\", \"11\", \"10\", \"1\", \"2\", \"2\", \"1\", \"1\"], \"attention\": [[[1.0, 0.0, 0.0, 0.0, 0.0, 0.0, 0.0, 0.0, 0.0, 0.0, 0.0], [0.72758948802948, 0.27241048216819763, 0.0, 0.0, 0.0, 0.0, 0.0, 0.0, 0.0, 0.0, 0.0], [0.036156874150037766, 0.7669730186462402, 0.1968701332807541, 0.0, 0.0, 0.0, 0.0, 0.0, 0.0, 0.0, 0.0], [0.13924597203731537, 0.6991583704948425, 0.09606111794710159, 0.06553453207015991, 0.0, 0.0, 0.0, 0.0, 0.0, 0.0, 0.0], [0.05251704528927803, 0.09145641326904297, 0.1929500848054886, 0.6382800936698914, 0.024796344339847565, 0.0, 0.0, 0.0, 0.0, 0.0, 0.0], [0.9045692682266235, 0.00880123395472765, 0.0006386105087585747, 0.0013655617367476225, 0.006527271121740341, 0.07809808105230331, 0.0, 0.0, 0.0, 0.0, 0.0], [0.0036103695165365934, 0.6291998624801636, 0.020228538662195206, 0.002876867773011327, 0.3192243278026581, 0.020340146496891975, 0.004519806243479252, 0.0, 0.0, 0.0, 0.0], [0.018146252259612083, 0.016593223437666893, 0.5120908617973328, 0.03917452692985535, 0.2732710540294647, 0.11790822446346283, 0.006424240302294493, 0.016391469165682793, 0.0, 0.0, 0.0], [0.001991800731047988, 0.0011901285033673048, 0.010548105463385582, 0.5223527550697327, 0.32849276065826416, 0.10817696154117584, 0.0031067992094904184, 0.003482558997347951, 0.020658159628510475, 0.0, 0.0], [0.0019337248522788286, 0.0033461994025856256, 0.0004597785009536892, 0.005198384169489145, 0.9656954407691956, 0.02084280364215374, 0.0003578432078938931, 0.000400237157009542, 0.0011329767294228077, 0.0006326179718598723, 0.0], [0.012381372042000294, 0.0554216094315052, 0.05407348647713661, 0.026043293997645378, 0.7133640050888062, 0.08569742739200592, 0.005164903588593006, 0.007727491669356823, 0.00823409017175436, 0.018455881625413895, 0.013436507433652878]]]}\n",
       "    )\n",
       "    </script>"
      ],
      "text/plain": [
       "<circuitsvis.utils.render.RenderedHTML at 0x175368750>"
      ]
     },
     "execution_count": 36,
     "metadata": {},
     "output_type": "execute_result"
    }
   ],
   "source": [
    "cv.attention.attention_patterns(tokens=list(map(lambda t: str(t.item()), tokens[0])), attention=attention_pattern[0])"
   ]
  },
  {
   "cell_type": "code",
   "execution_count": 37,
   "metadata": {},
   "outputs": [
    {
     "data": {
      "text/html": [
       "<div id=\"circuits-vis-f88f73da-902e\" style=\"margin: 15px 0;\"/>\n",
       "    <script crossorigin type=\"module\">\n",
       "    import { render, AttentionPatterns } from \"https://unpkg.com/circuitsvis@1.43.2/dist/cdn/esm.js\";\n",
       "    render(\n",
       "      \"circuits-vis-f88f73da-902e\",\n",
       "      AttentionPatterns,\n",
       "      {\"tokens\": [\"3\", \"11\", \"11\", \"11\", \"11\", \"10\", \"3\", \"9\", \"3\", \"11\", \"11\"], \"attention\": [[[1.0, 0.0, 0.0, 0.0, 0.0, 0.0, 0.0, 0.0, 0.0, 0.0, 0.0], [0.8511785268783569, 0.14882142841815948, 0.0, 0.0, 0.0, 0.0, 0.0, 0.0, 0.0, 0.0, 0.0], [0.07938379049301147, 0.2213052213191986, 0.6993109583854675, 0.0, 0.0, 0.0, 0.0, 0.0, 0.0, 0.0, 0.0], [0.06124388426542282, 0.12330836057662964, 0.3411393463611603, 0.47430840134620667, 0.0, 0.0, 0.0, 0.0, 0.0, 0.0, 0.0], [0.3905230164527893, 0.03506724536418915, 0.09391900897026062, 0.2961021661758423, 0.18438856303691864, 0.0, 0.0, 0.0, 0.0, 0.0, 0.0], [0.9016198515892029, 0.00792623683810234, 0.0015430663479492068, 0.004561400040984154, 0.006505988538265228, 0.07784343510866165, 0.0, 0.0, 0.0, 0.0, 0.0], [0.00024213135475292802, 0.8949357867240906, 0.05223730579018593, 0.018863551318645477, 0.031190261244773865, 0.0019306301837787032, 0.0006002841400913894, 0.0, 0.0, 0.0, 0.0], [0.015299640595912933, 0.04709351807832718, 0.6829687356948853, 0.10377741605043411, 0.07626776397228241, 0.06475815176963806, 0.0038852677680552006, 0.005949493497610092, 0.0, 0.0, 0.0], [0.0003172503493260592, 0.016935832798480988, 0.05483666807413101, 0.7399768829345703, 0.15644073486328125, 0.024180157110095024, 0.00146543572191149, 0.0006789236795157194, 0.005168135277926922, 0.0, 0.0], [0.0032364067155867815, 0.014967759139835835, 0.01948535442352295, 0.07381987571716309, 0.5267454385757446, 0.006205518264323473, 0.029691478237509727, 0.020931759849190712, 0.28637784719467163, 0.018538502976298332, 0.0], [0.002841455629095435, 0.02793077938258648, 0.1392061561346054, 0.11480466276407242, 0.11102771759033203, 0.003933189902454615, 0.04624614492058754, 0.09064587205648422, 0.3917388916015625, 0.05229479819536209, 0.019330445677042007]]]}\n",
       "    )\n",
       "    </script>"
      ],
      "text/plain": [
       "<circuitsvis.utils.render.RenderedHTML at 0x1071bcdd0>"
      ]
     },
     "execution_count": 37,
     "metadata": {},
     "output_type": "execute_result"
    }
   ],
   "source": [
    "cv.attention.attention_patterns(tokens=list(map(lambda t: str(t.item()), tokens[1])), attention=attention_pattern[1])"
   ]
  },
  {
   "cell_type": "code",
   "execution_count": 38,
   "metadata": {},
   "outputs": [
    {
     "data": {
      "text/html": [
       "<div id=\"circuits-vis-f3e09887-3fed\" style=\"margin: 15px 0;\"/>\n",
       "    <script crossorigin type=\"module\">\n",
       "    import { render, AttentionPatterns } from \"https://unpkg.com/circuitsvis@1.43.2/dist/cdn/esm.js\";\n",
       "    render(\n",
       "      \"circuits-vis-f3e09887-3fed\",\n",
       "      AttentionPatterns,\n",
       "      {\"tokens\": [\"5\", \"7\", \"8\", \"11\", \"11\", \"10\", \"4\", \"2\", \"11\", \"11\", \"11\"], \"attention\": [[[1.0, 0.0, 0.0, 0.0, 0.0, 0.0, 0.0, 0.0, 0.0, 0.0, 0.0], [0.4584406614303589, 0.5415593385696411, 0.0, 0.0, 0.0, 0.0, 0.0, 0.0, 0.0, 0.0, 0.0], [0.13839507102966309, 0.37086233496665955, 0.49074262380599976, 0.0, 0.0, 0.0, 0.0, 0.0, 0.0, 0.0, 0.0], [0.06728170067071915, 0.14076653122901917, 0.554015040397644, 0.23793677985668182, 0.0, 0.0, 0.0, 0.0, 0.0, 0.0, 0.0], [0.08822128921747208, 0.19175811111927032, 0.5883646607398987, 0.0811329111456871, 0.05052304267883301, 0.0, 0.0, 0.0, 0.0, 0.0, 0.0], [0.8589931726455688, 0.008337223902344704, 0.0016840288881212473, 0.006719962693750858, 0.009584776125848293, 0.11468079686164856, 0.0, 0.0, 0.0, 0.0, 0.0], [0.01615222357213497, 0.3832859992980957, 0.026506157591938972, 0.2129284292459488, 0.3083447515964508, 0.04615936428308487, 0.006623067427426577, 0.0, 0.0, 0.0, 0.0], [0.015017209574580193, 0.012298312969505787, 0.3386874794960022, 0.3030368685722351, 0.21846851706504822, 0.09426258504390717, 0.0051247249357402325, 0.013104280456900597, 0.0, 0.0, 0.0], [0.0025406060740351677, 0.002834921469911933, 0.10457044839859009, 0.3435744047164917, 0.07973575592041016, 0.00574579369276762, 0.06764648109674454, 0.060004886239767075, 0.33334675431251526, 0.0, 0.0], [0.004730558954179287, 0.01644207537174225, 0.01715472899377346, 0.08005034178495407, 0.5712032318115234, 0.006729269400238991, 0.032753560692071915, 0.02760372869670391, 0.2232293337583542, 0.020103169605135918, 0.0], [0.005428805947303772, 0.024597693234682083, 0.2680135667324066, 0.10491164028644562, 0.10146016627550125, 0.0035942562390118837, 0.059987347573041916, 0.06842126697301865, 0.2981320917606354, 0.04778841882944107, 0.01766468957066536]]]}\n",
       "    )\n",
       "    </script>"
      ],
      "text/plain": [
       "<circuitsvis.utils.render.RenderedHTML at 0x306dbc690>"
      ]
     },
     "execution_count": 38,
     "metadata": {},
     "output_type": "execute_result"
    }
   ],
   "source": [
    "cv.attention.attention_patterns(tokens=list(map(lambda t: str(t.item()), tokens[2])), attention=attention_pattern[2])"
   ]
  },
  {
   "cell_type": "code",
   "execution_count": 39,
   "metadata": {},
   "outputs": [
    {
     "data": {
      "image/png": "[encoded data removed]",
      "text/plain": [
       "<Figure size 800x800 with 2 Axes>"
      ]
     },
     "metadata": {},
     "output_type": "display_data"
    }
   ],
   "source": [
    "attn = model.blocks[0].attn\n",
    "all_token_embeddings = model.embed(range(D_VOCAB))\n",
    "\n",
    "embeddings_key = einsum(\"d_vocab d_model, n_heads d_model d_head -> n_heads d_vocab d_head\", \n",
    "                        all_token_embeddings, attn.W_K) \n",
    "embeddings_query = einsum(\"d_vocab d_model, n_heads d_model d_head -> n_heads d_vocab d_head\", \n",
    "                          all_token_embeddings, attn.W_Q) \n",
    "                          \n",
    "plt.rcParams['figure.figsize'] = [20, 10]\n",
    "qk_circuit_attn_heatmap = einsum(\n",
    "    \"n_heads d_vocab_q d_head, n_heads d_vocab_k d_head -> ... d_vocab_q d_vocab_k\", \n",
    "    embeddings_query, embeddings_key\n",
    "    ).detach().cpu().numpy()\n",
    "fig, ax = plt.subplots(figsize=(8, 8))\n",
    "graph = ax.imshow(qk_circuit_attn_heatmap, cmap=\"hot\", interpolation=\"nearest\")\n",
    "plt.colorbar(graph)\n",
    "plt.tight_layout()"
   ]
  }
 ],
 "metadata": {
  "kernelspec": {
   "display_name": "ml",
   "language": "python",
   "name": "python3"
  },
  "language_info": {
   "codemirror_mode": {
    "name": "ipython",
    "version": 3
   },
   "file_extension": ".py",
   "mimetype": "text/x-python",
   "name": "python",
   "nbconvert_exporter": "python",
   "pygments_lexer": "ipython3",
   "version": "3.11.7"
  }
 },
 "nbformat": 4,
 "nbformat_minor": 2
}
