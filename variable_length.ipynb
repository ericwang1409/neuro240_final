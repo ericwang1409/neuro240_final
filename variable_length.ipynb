{
 "cells": [
  {
   "cell_type": "code",
   "execution_count": 2,
   "metadata": {},
   "outputs": [],
   "source": [
    "import torch\n",
    "import numpy as np\n",
    "import matplotlib.pyplot as plt\n",
    "from transformer_lens import HookedTransformer, HookedTransformerConfig, utils\n",
    "import circuitsvis as cv\n",
    "import plotly.express as px\n",
    "import pandas as pd\n",
    "from fancy_einsum import einsum"
   ]
  },
  {
   "cell_type": "code",
   "execution_count": 3,
   "metadata": {},
   "outputs": [],
   "source": [
    "# model parameter constants\n",
    "N_LAYERS = 1\n",
    "N_HEADS = 1\n",
    "D_MODEL = 32\n",
    "D_HEAD = 32\n",
    "D_MLP = None\n",
    "D_VOCAB = 64\n",
    "SEED = 123\n",
    "DEVICE = \"cuda\" if torch.cuda.is_available() else \"cpu\""
   ]
  },
  {
   "cell_type": "code",
   "execution_count": 4,
   "metadata": {},
   "outputs": [],
   "source": [
    "\n",
    "def line(tensor, line_labels=None, yaxis=\"\", xaxis=\"\", **kwargs):\n",
    "    if isinstance(tensor, torch.Tensor):\n",
    "        tensor = tensor.detach().numpy()\n",
    "    \n",
    "    df = pd.DataFrame({\n",
    "        xaxis: np.arange(len(tensor)),\n",
    "        yaxis: tensor\n",
    "    })\n",
    "    \n",
    "    fig = px.line(df, x=xaxis, y=yaxis, labels={xaxis: xaxis, yaxis: yaxis}, **kwargs)\n",
    "    \n",
    "    if line_labels:\n",
    "        for c, label in enumerate(line_labels):\n",
    "            fig.data[c].name = label\n",
    "\n",
    "    fig.show()"
   ]
  },
  {
   "cell_type": "markdown",
   "metadata": {},
   "source": [
    "Generating lists of a fixed length parameter"
   ]
  },
  {
   "cell_type": "code",
   "execution_count": 5,
   "metadata": {},
   "outputs": [],
   "source": [
    "# data generation\n",
    "import random\n",
    "\n",
    "FIXED_LENGTH = 10\n",
    "\n",
    "def generateLists(n, training=True):\n",
    "    output = []\n",
    "    for _ in range(n):\n",
    "        curr = []\n",
    "        for _ in range(FIXED_LENGTH):\n",
    "            if training:\n",
    "                curr.append(random.randint(0, D_VOCAB - 1))\n",
    "            else:\n",
    "                curr.append(random.randint(D_VOCAB // 2, D_VOCAB - 1))\n",
    "            # curr.append(random.randint(0, 100))\n",
    "\n",
    "        # maximum = max(curr)\n",
    "        # output.append((curr, maximum))\n",
    "        output.append(curr)\n",
    "\n",
    "    output = torch.tensor(output)\n",
    "    return output"
   ]
  },
  {
   "cell_type": "markdown",
   "metadata": {},
   "source": [
    "Generating data function with separate training and testing data so it doesn't see what\n",
    "it's being tested on. Data generator"
   ]
  },
  {
   "cell_type": "code",
   "execution_count": 7,
   "metadata": {},
   "outputs": [],
   "source": [
    "def separate_data(n, split=0.7):\n",
    "    output = []\n",
    "    for i in range(D_VOCAB):\n",
    "        for j in range(D_VOCAB):\n",
    "            curr = [i, j]\n",
    "            output.append(curr)\n",
    "\n",
    "    random.shuffle(output)\n",
    "\n",
    "    split_index = int(len(output) * split)\n",
    "    # return training, testing\n",
    "    return torch.tensor(output[:split_index]), torch.tensor(output[split_index:])"
   ]
  },
  {
   "cell_type": "code",
   "execution_count": 8,
   "metadata": {},
   "outputs": [],
   "source": [
    "def output_data(data, batch_size=128):\n",
    "    for i in range(0, len(data), batch_size):\n",
    "        yield data[i:i + batch_size]"
   ]
  },
  {
   "cell_type": "markdown",
   "metadata": {},
   "source": [
    "Attempt at cross-validation"
   ]
  },
  {
   "cell_type": "code",
   "execution_count": 9,
   "metadata": {},
   "outputs": [],
   "source": [
    "def raw_generate():\n",
    "    output = []\n",
    "    for i in range(D_VOCAB):\n",
    "        for j in range(D_VOCAB):\n",
    "            curr = [i, j]\n",
    "            output.append(curr)\n",
    "\n",
    "    random.shuffle(output)\n",
    "    return output\n",
    "\n",
    "def cross_val_generate(output, epoch, total_epoch):\n",
    "    testing_size = int(len(output) / total_epoch)\n",
    "    split_index = testing_size * epoch\n",
    "    # return training, testing\n",
    "    testing = torch.tensor(output[split_index:split_index + testing_size])\n",
    "    training = torch.tensor(output[:split_index] + output[split_index + testing_size:])\n",
    "    return training, testing"
   ]
  },
  {
   "cell_type": "markdown",
   "metadata": {},
   "source": [
    "Generating variable length lists without separation"
   ]
  },
  {
   "cell_type": "code",
   "execution_count": 10,
   "metadata": {},
   "outputs": [
    {
     "data": {
      "text/plain": [
       "tensor([[48, 45, 61, 29,  0, 55, 61,  0,  0,  0],\n",
       "        [58, 24, 15, 27, 34, 32, 14, 24,  5,  0],\n",
       "        [62, 53, 37, 18, 53,  0,  0,  0,  0,  0],\n",
       "        [ 1, 27,  5, 57, 10, 47, 46,  6, 10,  0],\n",
       "        [38, 62, 28,  2, 16,  0,  0,  0,  0,  0],\n",
       "        [28, 23,  5, 32, 49, 35, 41,  0,  0,  0],\n",
       "        [16, 21, 16, 30, 61, 13, 47,  9, 32,  0],\n",
       "        [30, 17, 34, 16, 31, 21, 50,  0,  0,  0],\n",
       "        [28, 25, 26,  5,  0,  0,  0,  0,  0,  0],\n",
       "        [36,  0,  0,  0,  0,  0,  0,  0,  0,  0]])"
      ]
     },
     "execution_count": 10,
     "metadata": {},
     "output_type": "execute_result"
    }
   ],
   "source": [
    "def generateVariableLists(n, seen, training=True):\n",
    "    output = []\n",
    "    index = 0\n",
    "\n",
    "    while index < n:\n",
    "        i = 0\n",
    "        j = random.randint(1, FIXED_LENGTH)\n",
    "        curr = []\n",
    "        while i < j:\n",
    "            curr.append(random.randint(0, D_VOCAB - 1))\n",
    "            i += 1\n",
    "        while i < FIXED_LENGTH:\n",
    "            curr.append(0)\n",
    "            i += 1\n",
    "\n",
    "        if training:\n",
    "            seen.add(tuple(curr))\n",
    "            output.append(curr)\n",
    "            index += 1\n",
    "        else:\n",
    "            if tuple(curr) not in seen:\n",
    "                output.append(curr)\n",
    "                index += 1\n",
    "    \n",
    "    output = torch.tensor(output)\n",
    "    return output\n",
    "\n",
    "generateVariableLists(10, set())"
   ]
  },
  {
   "cell_type": "markdown",
   "metadata": {},
   "source": [
    "Model paramters. We are using one layer, one attention head (which pays to the \n",
    "tokens in contex to another), the dimensions of the model, dimension of the head,\n",
    "vocab is the size of the logits"
   ]
  },
  {
   "cell_type": "code",
   "execution_count": 11,
   "metadata": {},
   "outputs": [],
   "source": [
    "# model setup\n",
    "cfg = HookedTransformerConfig(\n",
    "    d_model=D_MODEL,\n",
    "    n_layers=N_LAYERS,\n",
    "    n_heads=N_HEADS,\n",
    "    d_head=D_HEAD,\n",
    "    n_ctx=FIXED_LENGTH,\n",
    "    d_vocab=D_VOCAB,\n",
    "    act_fn=\"relu\",\n",
    "    seed=SEED,\n",
    "    device=DEVICE,\n",
    "    attn_only=True\n",
    ")\n",
    "\n",
    "# hooked transformer used for interpretation later\n",
    "model = HookedTransformer(cfg, move_to_device=True)"
   ]
  },
  {
   "cell_type": "code",
   "execution_count": 12,
   "metadata": {},
   "outputs": [],
   "source": [
    "def loss_function(logits, tokens, return_per_token=True, print_tokens=False):\n",
    "    # we take the last element of the logits to make the next prediction\n",
    "    logits = logits[:, -1, :]\n",
    "    answer = torch.max(tokens, dim=1)[0]\n",
    "    log_prob = logits.log_softmax(-1)\n",
    "    if print_tokens:\n",
    "        print(\"tokens\", tokens)\n",
    "        print(\"predicted\", torch.argmax(logits, dim=-1))\n",
    "    # shape is (batch_size, 1) which represents probabilities \n",
    "    # of the correct answer\n",
    "    output_prob = log_prob.gather(-1, answer.unsqueeze(-1))\n",
    "    if return_per_token:\n",
    "        return -1 * output_prob.squeeze()\n",
    "    return -1 * output_prob.mean()"
   ]
  },
  {
   "cell_type": "code",
   "execution_count": 13,
   "metadata": {},
   "outputs": [],
   "source": [
    "def accuracy(logits, tokens, return_per_token=False):\n",
    "    logits = logits[:, -1, :]\n",
    "    predicted = torch.argmax(logits, dim=1)\n",
    "    answer = torch.max(tokens, dim=1)[0]\n",
    "    if return_per_token:\n",
    "        return (predicted == answer).float()\n",
    "    return (predicted == answer).float().mean().item()"
   ]
  },
  {
   "cell_type": "code",
   "execution_count": 14,
   "metadata": {},
   "outputs": [],
   "source": [
    "x = torch.tensor([[1], [2], [3], [4]])"
   ]
  },
  {
   "cell_type": "code",
   "execution_count": 15,
   "metadata": {},
   "outputs": [],
   "source": [
    "def train_model(model, n_epochs, batch_size, batches_per, sequence_length=2):\n",
    "    lr = 1e-3\n",
    "    betas = (0.9, 0.999)\n",
    "    optimizer = torch.optim.Adam(model.parameters(), lr=lr, betas=betas)\n",
    "\n",
    "    seen = set()\n",
    "    train_losses = []\n",
    "    for epoch in range(n_epochs):\n",
    "        epoch_losses = []\n",
    "        for _ in range(batches_per):\n",
    "            tokens = generateVariableLists(batch_size, seen, training=True)\n",
    "            logits = model(tokens)\n",
    "            # print(tokens.shape)\n",
    "            # print(logits.shape)\n",
    "            losses = loss_function(logits, tokens, print_tokens=False)\n",
    "            losses.mean().backward()\n",
    "            optimizer.step()\n",
    "            optimizer.zero_grad()\n",
    "            epoch_losses.extend(losses.detach())\n",
    "\n",
    "        train_losses.append(np.mean(epoch_losses))\n",
    "        if epoch % 10 == 0:\n",
    "            print(f\"Epoch {epoch}, train loss: {train_losses[-1]}\")\n",
    "\n",
    "    model.eval()\n",
    "    # might want to create the training and testing set beforehand\n",
    "    test_data = generateVariableLists(1280, seen, training=False)\n",
    "    logits = model(test_data)\n",
    "    acc = accuracy(logits, test_data, return_per_token=False)\n",
    "\n",
    "    print(f\"Test accuracy: {acc}\")\n",
    "\n",
    "    return train_losses, seen\n",
    "                "
   ]
  },
  {
   "cell_type": "markdown",
   "metadata": {},
   "source": [
    "Separate training and testing"
   ]
  },
  {
   "cell_type": "code",
   "execution_count": 16,
   "metadata": {},
   "outputs": [],
   "source": [
    "def train_model2(model, n_epochs, batch_size, batches_per, sequence_length=2):\n",
    "    lr = 1e-3\n",
    "    betas = (0.9, 0.999)\n",
    "    optimizer = torch.optim.Adam(model.parameters(), lr=lr, betas=betas)\n",
    "\n",
    "    train_losses = []\n",
    "    training_data, testing_data = separate_data(batch_size)\n",
    "\n",
    "    for epoch in range(n_epochs):\n",
    "        data_generator = output_data(training_data, batch_size)\n",
    "        epoch_losses = []\n",
    "        for _ in range(batches_per):\n",
    "            tokens = next(data_generator)\n",
    "            logits = model(tokens)\n",
    "            # print(tokens.shape)\n",
    "            # print(logits.shape)\n",
    "            losses = loss_function(logits, tokens, print_tokens=False)\n",
    "            losses.mean().backward()\n",
    "            optimizer.step()\n",
    "            optimizer.zero_grad()\n",
    "            epoch_losses.extend(losses.detach())\n",
    "\n",
    "        train_losses.append(np.mean(epoch_losses))\n",
    "        if epoch % 10 == 0:\n",
    "            print(f\"Epoch {epoch}, train loss: {train_losses[-1]}\")\n",
    "\n",
    "    model.eval()\n",
    "    # might want to create the training and testing set beforehand\n",
    "    logits = model(testing_data)\n",
    "    acc = accuracy(logits, testing_data, return_per_token=False)\n",
    "\n",
    "    print(f\"Test accuracy: {acc}\")\n",
    "\n",
    "    return train_losses\n",
    "                "
   ]
  },
  {
   "cell_type": "markdown",
   "metadata": {},
   "source": [
    "Cross validation"
   ]
  },
  {
   "cell_type": "code",
   "execution_count": 17,
   "metadata": {},
   "outputs": [],
   "source": [
    "def cross_val(model, n_epochs, batch_size, batches_per, sequence_length=2):\n",
    "    lr = 1e-3\n",
    "    betas = (0.9, 0.999)\n",
    "    optimizer = torch.optim.Adam(model.parameters(), lr=lr, betas=betas)\n",
    "\n",
    "    train_losses = []\n",
    "    all_data = raw_generate()\n",
    "\n",
    "    for epoch in range(n_epochs):\n",
    "        tokens, test = cross_val_generate(all_data, epoch, n_epochs - 1)\n",
    "        epoch_losses = []\n",
    "        for _ in range(batches_per):\n",
    "            logits = model(tokens)\n",
    "            # print(tokens.shape)\n",
    "            # print(logits.shape)\n",
    "            losses = loss_function(logits, tokens, print_tokens=False)\n",
    "            losses.mean().backward()\n",
    "            optimizer.step()\n",
    "            optimizer.zero_grad()\n",
    "            epoch_losses.extend(losses.detach())\n",
    "\n",
    "        train_losses.append(np.mean(epoch_losses))\n",
    "\n",
    "        model.eval()\n",
    "        logits = model(test)\n",
    "        acc = accuracy(logits, test, return_per_token=False)\n",
    "        if epoch % 10 == 0:\n",
    "            print(f\"Epoch {epoch}, train loss: {train_losses[-1]}\")\n",
    "            print(f\"Test accuracy: {acc}\")\n",
    "\n",
    "    return train_losses\n",
    "                "
   ]
  },
  {
   "cell_type": "code",
   "execution_count": 18,
   "metadata": {},
   "outputs": [
    {
     "name": "stdout",
     "output_type": "stream",
     "text": [
      "Epoch 0, train loss: 4.30193567276001\n",
      "Epoch 10, train loss: 1.6819137334823608\n",
      "Epoch 20, train loss: 0.4722824692726135\n",
      "Epoch 30, train loss: 0.2083248347043991\n",
      "Epoch 40, train loss: 0.13007839024066925\n",
      "Epoch 50, train loss: 0.08391229808330536\n",
      "Epoch 60, train loss: 0.07576825469732285\n",
      "Epoch 70, train loss: 0.043337367475032806\n",
      "Epoch 80, train loss: 0.031486447900533676\n",
      "Epoch 90, train loss: 0.051958613097667694\n",
      "Epoch 100, train loss: 0.020406896248459816\n",
      "Epoch 110, train loss: 0.02451227605342865\n",
      "Epoch 120, train loss: 0.02140043117105961\n",
      "Epoch 130, train loss: 0.022142618894577026\n",
      "Epoch 140, train loss: 0.019426560029387474\n",
      "Epoch 150, train loss: 0.01185769122093916\n",
      "Epoch 160, train loss: 0.008229217492043972\n",
      "Epoch 170, train loss: 0.024861464276909828\n",
      "Epoch 180, train loss: 0.012377142906188965\n",
      "Epoch 190, train loss: 0.009810050949454308\n",
      "Test accuracy: 0.9937499761581421\n"
     ]
    }
   ],
   "source": [
    "losses, seen = train_model(model, 200, 128, 10, 3)"
   ]
  },
  {
   "cell_type": "code",
   "execution_count": 19,
   "metadata": {},
   "outputs": [
    {
     "data": {
      "application/vnd.plotly.v1+json": {
       "config": {
        "plotlyServerURL": "https://plot.ly"
       },
       "data": [
        {
         "hovertemplate": "Epoch=%{x}<br>Loss=%{y}<extra></extra>",
         "legendgroup": "",
         "line": {
          "color": "#636efa",
          "dash": "solid"
         },
         "marker": {
          "symbol": "circle"
         },
         "mode": "lines",
         "name": "",
         "orientation": "v",
         "showlegend": false,
         "type": "scatter",
         "x": [
          0,
          1,
          2,
          3,
          4,
          5,
          6,
          7,
          8,
          9,
          10,
          11,
          12,
          13,
          14,
          15,
          16,
          17,
          18,
          19,
          20,
          21,
          22,
          23,
          24,
          25,
          26,
          27,
          28,
          29,
          30,
          31,
          32,
          33,
          34,
          35,
          36,
          37,
          38,
          39,
          40,
          41,
          42,
          43,
          44,
          45,
          46,
          47,
          48,
          49,
          50,
          51,
          52,
          53,
          54,
          55,
          56,
          57,
          58,
          59,
          60,
          61,
          62,
          63,
          64,
          65,
          66,
          67,
          68,
          69,
          70,
          71,
          72,
          73,
          74,
          75,
          76,
          77,
          78,
          79,
          80,
          81,
          82,
          83,
          84,
          85,
          86,
          87,
          88,
          89,
          90,
          91,
          92,
          93,
          94,
          95,
          96,
          97,
          98,
          99,
          100,
          101,
          102,
          103,
          104,
          105,
          106,
          107,
          108,
          109,
          110,
          111,
          112,
          113,
          114,
          115,
          116,
          117,
          118,
          119,
          120,
          121,
          122,
          123,
          124,
          125,
          126,
          127,
          128,
          129,
          130,
          131,
          132,
          133,
          134,
          135,
          136,
          137,
          138,
          139,
          140,
          141,
          142,
          143,
          144,
          145,
          146,
          147,
          148,
          149,
          150,
          151,
          152,
          153,
          154,
          155,
          156,
          157,
          158,
          159,
          160,
          161,
          162,
          163,
          164,
          165,
          166,
          167,
          168,
          169,
          170,
          171,
          172,
          173,
          174,
          175,
          176,
          177,
          178,
          179,
          180,
          181,
          182,
          183,
          184,
          185,
          186,
          187,
          188,
          189,
          190,
          191,
          192,
          193,
          194,
          195,
          196,
          197,
          198,
          199
         ],
         "xaxis": "x",
         "y": [
          4.30193567276001,
          3.8787522315979004,
          3.728400707244873,
          3.5652756690979004,
          3.4690747261047363,
          3.449145555496216,
          3.153468608856201,
          2.880980968475342,
          2.5383307933807373,
          2.1352832317352295,
          1.6819137334823608,
          1.4663712978363037,
          1.2879679203033447,
          1.0934646129608154,
          0.9483877420425415,
          0.8695688247680664,
          0.7718005180358887,
          0.6666849851608276,
          0.5544798374176025,
          0.5508043766021729,
          0.4722824692726135,
          0.3907124400138855,
          0.4150776267051697,
          0.35369205474853516,
          0.3388640582561493,
          0.31397175788879395,
          0.2599876821041107,
          0.2671695947647095,
          0.23265612125396729,
          0.18793508410453796,
          0.2083248347043991,
          0.1878570169210434,
          0.1977250725030899,
          0.1728140413761139,
          0.16819624602794647,
          0.169254332780838,
          0.1301461160182953,
          0.1473417580127716,
          0.13829544186592102,
          0.13897296786308289,
          0.13007839024066925,
          0.10563375055789948,
          0.09224239736795425,
          0.11079444736242294,
          0.10068388283252716,
          0.10384192317724228,
          0.1245357021689415,
          0.10394029319286346,
          0.0947609394788742,
          0.1058366522192955,
          0.08391229808330536,
          0.08998323231935501,
          0.0853278860449791,
          0.08256147056818008,
          0.07847091555595398,
          0.0657789334654808,
          0.05692298337817192,
          0.06038955599069595,
          0.07179594784975052,
          0.0695221796631813,
          0.07576825469732285,
          0.060957156121730804,
          0.06494773179292679,
          0.07184450328350067,
          0.07037614285945892,
          0.06791291385889053,
          0.0646207183599472,
          0.07006390392780304,
          0.07791433483362198,
          0.05080381780862808,
          0.043337367475032806,
          0.05483246594667435,
          0.045702047646045685,
          0.045005735009908676,
          0.03502943366765976,
          0.041631560772657394,
          0.03427579998970032,
          0.0409325435757637,
          0.039008062332868576,
          0.03530091792345047,
          0.031486447900533676,
          0.04631071537733078,
          0.040702879428863525,
          0.04585547000169754,
          0.04379379004240036,
          0.03742997720837593,
          0.02462633140385151,
          0.03276144340634346,
          0.052198637276887894,
          0.04495230317115784,
          0.051958613097667694,
          0.03521483764052391,
          0.02775125578045845,
          0.03717530891299248,
          0.025045419111847878,
          0.03067828342318535,
          0.0284056905657053,
          0.020040538161993027,
          0.029957126826047897,
          0.03017370030283928,
          0.020406896248459816,
          0.015755191445350647,
          0.029715541750192642,
          0.02012038417160511,
          0.022821184247732162,
          0.043951503932476044,
          0.024606427177786827,
          0.03559959679841995,
          0.02700411155819893,
          0.0215332992374897,
          0.02451227605342865,
          0.03353553265333176,
          0.02511315979063511,
          0.03736823797225952,
          0.03367609903216362,
          0.024983752518892288,
          0.02631094679236412,
          0.020614493638277054,
          0.019327476620674133,
          0.02286546118557453,
          0.02140043117105961,
          0.025250231847167015,
          0.031015027314424515,
          0.029609162360429764,
          0.02341802977025509,
          0.013225702568888664,
          0.016072701662778854,
          0.018255790695548058,
          0.0156357791274786,
          0.019704289734363556,
          0.022142618894577026,
          0.020822346210479736,
          0.016655076295137405,
          0.015709687024354935,
          0.019137347117066383,
          0.018347419798374176,
          0.02661975286900997,
          0.02603534795343876,
          0.031181324273347855,
          0.025434643030166626,
          0.019426560029387474,
          0.01698937639594078,
          0.02641211822628975,
          0.017895495519042015,
          0.014307038858532906,
          0.021836355328559875,
          0.020286468788981438,
          0.023491378873586655,
          0.018524710088968277,
          0.021852392703294754,
          0.01185769122093916,
          0.02032320946455002,
          0.029694801196455956,
          0.013715964742004871,
          0.017901364713907242,
          0.015727784484624863,
          0.016439590603113174,
          0.015651559457182884,
          0.03271859139204025,
          0.01912093721330166,
          0.008229217492043972,
          0.026004869490861893,
          0.009500542655587196,
          0.010591565631330013,
          0.009760777465999126,
          0.010578676126897335,
          0.01598069630563259,
          0.02032662369310856,
          0.01952623389661312,
          0.011463822796940804,
          0.024861464276909828,
          0.01616603508591652,
          0.011398708447813988,
          0.009322268888354301,
          0.018132522702217102,
          0.018701547756791115,
          0.017083778977394104,
          0.01607859507203102,
          0.02227359637618065,
          0.017456134781241417,
          0.012377142906188965,
          0.015275207348167896,
          0.014235991053283215,
          0.01079520396888256,
          0.009032627567648888,
          0.010237986221909523,
          0.017013927921652794,
          0.00724058598279953,
          0.010712264105677605,
          0.00770718464627862,
          0.009810050949454308,
          0.014076976105570793,
          0.010738514363765717,
          0.018088890239596367,
          0.009233750402927399,
          0.020540164783596992,
          0.015830112621188164,
          0.01417542714625597,
          0.014362843707203865,
          0.009957184083759785
         ],
         "yaxis": "y"
        }
       ],
       "layout": {
        "legend": {
         "tracegroupgap": 0
        },
        "margin": {
         "t": 60
        },
        "template": {
         "data": {
          "bar": [
           {
            "error_x": {
             "color": "#2a3f5f"
            },
            "error_y": {
             "color": "#2a3f5f"
            },
            "marker": {
             "line": {
              "color": "#E5ECF6",
              "width": 0.5
             },
             "pattern": {
              "fillmode": "overlay",
              "size": 10,
              "solidity": 0.2
             }
            },
            "type": "bar"
           }
          ],
          "barpolar": [
           {
            "marker": {
             "line": {
              "color": "#E5ECF6",
              "width": 0.5
             },
             "pattern": {
              "fillmode": "overlay",
              "size": 10,
              "solidity": 0.2
             }
            },
            "type": "barpolar"
           }
          ],
          "carpet": [
           {
            "aaxis": {
             "endlinecolor": "#2a3f5f",
             "gridcolor": "white",
             "linecolor": "white",
             "minorgridcolor": "white",
             "startlinecolor": "#2a3f5f"
            },
            "baxis": {
             "endlinecolor": "#2a3f5f",
             "gridcolor": "white",
             "linecolor": "white",
             "minorgridcolor": "white",
             "startlinecolor": "#2a3f5f"
            },
            "type": "carpet"
           }
          ],
          "choropleth": [
           {
            "colorbar": {
             "outlinewidth": 0,
             "ticks": ""
            },
            "type": "choropleth"
           }
          ],
          "contour": [
           {
            "colorbar": {
             "outlinewidth": 0,
             "ticks": ""
            },
            "colorscale": [
             [
              0,
              "#0d0887"
             ],
             [
              0.1111111111111111,
              "#46039f"
             ],
             [
              0.2222222222222222,
              "#7201a8"
             ],
             [
              0.3333333333333333,
              "#9c179e"
             ],
             [
              0.4444444444444444,
              "#bd3786"
             ],
             [
              0.5555555555555556,
              "#d8576b"
             ],
             [
              0.6666666666666666,
              "#ed7953"
             ],
             [
              0.7777777777777778,
              "#fb9f3a"
             ],
             [
              0.8888888888888888,
              "#fdca26"
             ],
             [
              1,
              "#f0f921"
             ]
            ],
            "type": "contour"
           }
          ],
          "contourcarpet": [
           {
            "colorbar": {
             "outlinewidth": 0,
             "ticks": ""
            },
            "type": "contourcarpet"
           }
          ],
          "heatmap": [
           {
            "colorbar": {
             "outlinewidth": 0,
             "ticks": ""
            },
            "colorscale": [
             [
              0,
              "#0d0887"
             ],
             [
              0.1111111111111111,
              "#46039f"
             ],
             [
              0.2222222222222222,
              "#7201a8"
             ],
             [
              0.3333333333333333,
              "#9c179e"
             ],
             [
              0.4444444444444444,
              "#bd3786"
             ],
             [
              0.5555555555555556,
              "#d8576b"
             ],
             [
              0.6666666666666666,
              "#ed7953"
             ],
             [
              0.7777777777777778,
              "#fb9f3a"
             ],
             [
              0.8888888888888888,
              "#fdca26"
             ],
             [
              1,
              "#f0f921"
             ]
            ],
            "type": "heatmap"
           }
          ],
          "heatmapgl": [
           {
            "colorbar": {
             "outlinewidth": 0,
             "ticks": ""
            },
            "colorscale": [
             [
              0,
              "#0d0887"
             ],
             [
              0.1111111111111111,
              "#46039f"
             ],
             [
              0.2222222222222222,
              "#7201a8"
             ],
             [
              0.3333333333333333,
              "#9c179e"
             ],
             [
              0.4444444444444444,
              "#bd3786"
             ],
             [
              0.5555555555555556,
              "#d8576b"
             ],
             [
              0.6666666666666666,
              "#ed7953"
             ],
             [
              0.7777777777777778,
              "#fb9f3a"
             ],
             [
              0.8888888888888888,
              "#fdca26"
             ],
             [
              1,
              "#f0f921"
             ]
            ],
            "type": "heatmapgl"
           }
          ],
          "histogram": [
           {
            "marker": {
             "pattern": {
              "fillmode": "overlay",
              "size": 10,
              "solidity": 0.2
             }
            },
            "type": "histogram"
           }
          ],
          "histogram2d": [
           {
            "colorbar": {
             "outlinewidth": 0,
             "ticks": ""
            },
            "colorscale": [
             [
              0,
              "#0d0887"
             ],
             [
              0.1111111111111111,
              "#46039f"
             ],
             [
              0.2222222222222222,
              "#7201a8"
             ],
             [
              0.3333333333333333,
              "#9c179e"
             ],
             [
              0.4444444444444444,
              "#bd3786"
             ],
             [
              0.5555555555555556,
              "#d8576b"
             ],
             [
              0.6666666666666666,
              "#ed7953"
             ],
             [
              0.7777777777777778,
              "#fb9f3a"
             ],
             [
              0.8888888888888888,
              "#fdca26"
             ],
             [
              1,
              "#f0f921"
             ]
            ],
            "type": "histogram2d"
           }
          ],
          "histogram2dcontour": [
           {
            "colorbar": {
             "outlinewidth": 0,
             "ticks": ""
            },
            "colorscale": [
             [
              0,
              "#0d0887"
             ],
             [
              0.1111111111111111,
              "#46039f"
             ],
             [
              0.2222222222222222,
              "#7201a8"
             ],
             [
              0.3333333333333333,
              "#9c179e"
             ],
             [
              0.4444444444444444,
              "#bd3786"
             ],
             [
              0.5555555555555556,
              "#d8576b"
             ],
             [
              0.6666666666666666,
              "#ed7953"
             ],
             [
              0.7777777777777778,
              "#fb9f3a"
             ],
             [
              0.8888888888888888,
              "#fdca26"
             ],
             [
              1,
              "#f0f921"
             ]
            ],
            "type": "histogram2dcontour"
           }
          ],
          "mesh3d": [
           {
            "colorbar": {
             "outlinewidth": 0,
             "ticks": ""
            },
            "type": "mesh3d"
           }
          ],
          "parcoords": [
           {
            "line": {
             "colorbar": {
              "outlinewidth": 0,
              "ticks": ""
             }
            },
            "type": "parcoords"
           }
          ],
          "pie": [
           {
            "automargin": true,
            "type": "pie"
           }
          ],
          "scatter": [
           {
            "fillpattern": {
             "fillmode": "overlay",
             "size": 10,
             "solidity": 0.2
            },
            "type": "scatter"
           }
          ],
          "scatter3d": [
           {
            "line": {
             "colorbar": {
              "outlinewidth": 0,
              "ticks": ""
             }
            },
            "marker": {
             "colorbar": {
              "outlinewidth": 0,
              "ticks": ""
             }
            },
            "type": "scatter3d"
           }
          ],
          "scattercarpet": [
           {
            "marker": {
             "colorbar": {
              "outlinewidth": 0,
              "ticks": ""
             }
            },
            "type": "scattercarpet"
           }
          ],
          "scattergeo": [
           {
            "marker": {
             "colorbar": {
              "outlinewidth": 0,
              "ticks": ""
             }
            },
            "type": "scattergeo"
           }
          ],
          "scattergl": [
           {
            "marker": {
             "colorbar": {
              "outlinewidth": 0,
              "ticks": ""
             }
            },
            "type": "scattergl"
           }
          ],
          "scattermapbox": [
           {
            "marker": {
             "colorbar": {
              "outlinewidth": 0,
              "ticks": ""
             }
            },
            "type": "scattermapbox"
           }
          ],
          "scatterpolar": [
           {
            "marker": {
             "colorbar": {
              "outlinewidth": 0,
              "ticks": ""
             }
            },
            "type": "scatterpolar"
           }
          ],
          "scatterpolargl": [
           {
            "marker": {
             "colorbar": {
              "outlinewidth": 0,
              "ticks": ""
             }
            },
            "type": "scatterpolargl"
           }
          ],
          "scatterternary": [
           {
            "marker": {
             "colorbar": {
              "outlinewidth": 0,
              "ticks": ""
             }
            },
            "type": "scatterternary"
           }
          ],
          "surface": [
           {
            "colorbar": {
             "outlinewidth": 0,
             "ticks": ""
            },
            "colorscale": [
             [
              0,
              "#0d0887"
             ],
             [
              0.1111111111111111,
              "#46039f"
             ],
             [
              0.2222222222222222,
              "#7201a8"
             ],
             [
              0.3333333333333333,
              "#9c179e"
             ],
             [
              0.4444444444444444,
              "#bd3786"
             ],
             [
              0.5555555555555556,
              "#d8576b"
             ],
             [
              0.6666666666666666,
              "#ed7953"
             ],
             [
              0.7777777777777778,
              "#fb9f3a"
             ],
             [
              0.8888888888888888,
              "#fdca26"
             ],
             [
              1,
              "#f0f921"
             ]
            ],
            "type": "surface"
           }
          ],
          "table": [
           {
            "cells": {
             "fill": {
              "color": "#EBF0F8"
             },
             "line": {
              "color": "white"
             }
            },
            "header": {
             "fill": {
              "color": "#C8D4E3"
             },
             "line": {
              "color": "white"
             }
            },
            "type": "table"
           }
          ]
         },
         "layout": {
          "annotationdefaults": {
           "arrowcolor": "#2a3f5f",
           "arrowhead": 0,
           "arrowwidth": 1
          },
          "autotypenumbers": "strict",
          "coloraxis": {
           "colorbar": {
            "outlinewidth": 0,
            "ticks": ""
           }
          },
          "colorscale": {
           "diverging": [
            [
             0,
             "#8e0152"
            ],
            [
             0.1,
             "#c51b7d"
            ],
            [
             0.2,
             "#de77ae"
            ],
            [
             0.3,
             "#f1b6da"
            ],
            [
             0.4,
             "#fde0ef"
            ],
            [
             0.5,
             "#f7f7f7"
            ],
            [
             0.6,
             "#e6f5d0"
            ],
            [
             0.7,
             "#b8e186"
            ],
            [
             0.8,
             "#7fbc41"
            ],
            [
             0.9,
             "#4d9221"
            ],
            [
             1,
             "#276419"
            ]
           ],
           "sequential": [
            [
             0,
             "#0d0887"
            ],
            [
             0.1111111111111111,
             "#46039f"
            ],
            [
             0.2222222222222222,
             "#7201a8"
            ],
            [
             0.3333333333333333,
             "#9c179e"
            ],
            [
             0.4444444444444444,
             "#bd3786"
            ],
            [
             0.5555555555555556,
             "#d8576b"
            ],
            [
             0.6666666666666666,
             "#ed7953"
            ],
            [
             0.7777777777777778,
             "#fb9f3a"
            ],
            [
             0.8888888888888888,
             "#fdca26"
            ],
            [
             1,
             "#f0f921"
            ]
           ],
           "sequentialminus": [
            [
             0,
             "#0d0887"
            ],
            [
             0.1111111111111111,
             "#46039f"
            ],
            [
             0.2222222222222222,
             "#7201a8"
            ],
            [
             0.3333333333333333,
             "#9c179e"
            ],
            [
             0.4444444444444444,
             "#bd3786"
            ],
            [
             0.5555555555555556,
             "#d8576b"
            ],
            [
             0.6666666666666666,
             "#ed7953"
            ],
            [
             0.7777777777777778,
             "#fb9f3a"
            ],
            [
             0.8888888888888888,
             "#fdca26"
            ],
            [
             1,
             "#f0f921"
            ]
           ]
          },
          "colorway": [
           "#636efa",
           "#EF553B",
           "#00cc96",
           "#ab63fa",
           "#FFA15A",
           "#19d3f3",
           "#FF6692",
           "#B6E880",
           "#FF97FF",
           "#FECB52"
          ],
          "font": {
           "color": "#2a3f5f"
          },
          "geo": {
           "bgcolor": "white",
           "lakecolor": "white",
           "landcolor": "#E5ECF6",
           "showlakes": true,
           "showland": true,
           "subunitcolor": "white"
          },
          "hoverlabel": {
           "align": "left"
          },
          "hovermode": "closest",
          "mapbox": {
           "style": "light"
          },
          "paper_bgcolor": "white",
          "plot_bgcolor": "#E5ECF6",
          "polar": {
           "angularaxis": {
            "gridcolor": "white",
            "linecolor": "white",
            "ticks": ""
           },
           "bgcolor": "#E5ECF6",
           "radialaxis": {
            "gridcolor": "white",
            "linecolor": "white",
            "ticks": ""
           }
          },
          "scene": {
           "xaxis": {
            "backgroundcolor": "#E5ECF6",
            "gridcolor": "white",
            "gridwidth": 2,
            "linecolor": "white",
            "showbackground": true,
            "ticks": "",
            "zerolinecolor": "white"
           },
           "yaxis": {
            "backgroundcolor": "#E5ECF6",
            "gridcolor": "white",
            "gridwidth": 2,
            "linecolor": "white",
            "showbackground": true,
            "ticks": "",
            "zerolinecolor": "white"
           },
           "zaxis": {
            "backgroundcolor": "#E5ECF6",
            "gridcolor": "white",
            "gridwidth": 2,
            "linecolor": "white",
            "showbackground": true,
            "ticks": "",
            "zerolinecolor": "white"
           }
          },
          "shapedefaults": {
           "line": {
            "color": "#2a3f5f"
           }
          },
          "ternary": {
           "aaxis": {
            "gridcolor": "white",
            "linecolor": "white",
            "ticks": ""
           },
           "baxis": {
            "gridcolor": "white",
            "linecolor": "white",
            "ticks": ""
           },
           "bgcolor": "#E5ECF6",
           "caxis": {
            "gridcolor": "white",
            "linecolor": "white",
            "ticks": ""
           }
          },
          "title": {
           "x": 0.05
          },
          "xaxis": {
           "automargin": true,
           "gridcolor": "white",
           "linecolor": "white",
           "ticks": "",
           "title": {
            "standoff": 15
           },
           "zerolinecolor": "white",
           "zerolinewidth": 2
          },
          "yaxis": {
           "automargin": true,
           "gridcolor": "white",
           "linecolor": "white",
           "ticks": "",
           "title": {
            "standoff": 15
           },
           "zerolinecolor": "white",
           "zerolinewidth": 2
          }
         }
        },
        "xaxis": {
         "anchor": "y",
         "domain": [
          0,
          1
         ],
         "title": {
          "text": "Epoch"
         }
        },
        "yaxis": {
         "anchor": "x",
         "domain": [
          0,
          1
         ],
         "title": {
          "text": "Loss"
         }
        }
       }
      }
     },
     "metadata": {},
     "output_type": "display_data"
    }
   ],
   "source": [
    "line(losses, xaxis=\"Epoch\", yaxis=\"Loss\")"
   ]
  },
  {
   "cell_type": "markdown",
   "metadata": {},
   "source": [
    "Visualizing Attention"
   ]
  },
  {
   "cell_type": "code",
   "execution_count": 20,
   "metadata": {},
   "outputs": [],
   "source": [
    "# training_data, testing_data = separate_data(128)\n",
    "# train_data_gen = output_data(training_data)\n",
    "# tokens = next(train_data_gen)\n",
    "# logits, cache = model.run_with_cache(tokens)\n",
    "\n",
    "tokens = generateVariableLists(128, seen, training=False)\n",
    "special_token = [1, 3, 11, 7, 5, 0, 0, 35, 0, 0]\n",
    "tokens = torch.cat([torch.tensor([special_token]), tokens], dim=0)\n",
    "\n",
    "logits, cache = model.run_with_cache(tokens)"
   ]
  },
  {
   "cell_type": "code",
   "execution_count": 21,
   "metadata": {},
   "outputs": [
    {
     "name": "stdout",
     "output_type": "stream",
     "text": [
      "tensor([35, 49, 56, 45, 42, 62, 62, 52, 53, 61, 60, 63, 59, 61, 56, 51, 47, 63,\n",
      "        59, 41, 52, 56, 57, 59, 60, 48, 63, 60, 56, 54, 57, 63, 29, 46, 55, 56,\n",
      "        61, 59, 51, 56, 62, 53, 45, 59, 57, 59, 54, 58, 36, 59, 53, 57, 62, 58,\n",
      "        60, 63, 60, 60, 17, 58, 46, 47, 62, 60, 60, 59, 41, 61, 49, 55, 61, 51,\n",
      "        52, 58, 41, 52, 58, 58, 54, 62, 61, 60, 62, 61, 62, 57, 62, 61, 60, 63,\n",
      "        52, 55, 58, 50, 47, 60, 60, 61, 52, 51, 54, 48, 63, 33, 41, 56, 59, 49,\n",
      "        52, 42, 61, 52, 62, 55, 42, 46, 62, 49, 50, 62, 60, 59, 61, 57, 54, 47,\n",
      "        60, 55, 48])\n"
     ]
    }
   ],
   "source": [
    "attention_pattern = cache[\"pattern\", 0, \"attn\"]\n",
    "\n",
    "# prints the first answer predicted by logits\n",
    "print(torch.argmax(logits[:, -1, :], dim=-1))"
   ]
  },
  {
   "cell_type": "code",
   "execution_count": 22,
   "metadata": {},
   "outputs": [
    {
     "data": {
      "text/html": [
       "<div id=\"circuits-vis-a9fb8256-870e\" style=\"margin: 15px 0;\"/>\n",
       "    <script crossorigin type=\"module\">\n",
       "    import { render, AttentionHeads } from \"https://unpkg.com/circuitsvis@1.43.2/dist/cdn/esm.js\";\n",
       "    render(\n",
       "      \"circuits-vis-a9fb8256-870e\",\n",
       "      AttentionHeads,\n",
       "      {\"attention\": [[[1.0, 0.0, 0.0, 0.0, 0.0, 0.0, 0.0, 0.0, 0.0, 0.0], [0.31769225001335144, 0.6823077201843262, 0.0, 0.0, 0.0, 0.0, 0.0, 0.0, 0.0, 0.0], [0.0876765176653862, 0.16763296723365784, 0.7446905374526978, 0.0, 0.0, 0.0, 0.0, 0.0, 0.0, 0.0], [0.02225734107196331, 0.08940236270427704, 0.5908180475234985, 0.29752230644226074, 0.0, 0.0, 0.0, 0.0, 0.0, 0.0], [0.1367548257112503, 0.19029246270656586, 0.4441041648387909, 0.15135324001312256, 0.07749536633491516, 0.0, 0.0, 0.0, 0.0, 0.0], [0.12075667828321457, 0.19952644407749176, 0.35802215337753296, 0.21123796701431274, 0.0814567357301712, 0.029000021517276764, 0.0, 0.0, 0.0, 0.0], [0.07834180444478989, 0.20303833484649658, 0.3210757374763489, 0.18597999215126038, 0.11709367483854294, 0.04730715602636337, 0.04716334491968155, 0.0, 0.0, 0.0], [0.004737577401101589, 0.008753517642617226, 0.02410980872809887, 0.014947587624192238, 0.0028466740623116493, 0.000940344063565135, 0.001177302561700344, 0.9424871802330017, 0.0, 0.0], [0.16957055032253265, 0.1489390879869461, 0.1613147258758545, 0.07836516946554184, 0.08022820204496384, 0.056730225682258606, 0.07797747850418091, 0.15127940475940704, 0.07559515535831451, 0.0], [7.877918619669799e-07, 3.373214894963894e-06, 4.1086408600676805e-05, 8.278398127004039e-06, 4.4950596134185616e-07, 4.9957509240528e-09, 1.4584048635413183e-08, 0.9999459981918335, 3.961783345829417e-09, 1.2967364071414522e-08]]], \"tokens\": [\"1\", \"3\", \"11\", \"7\", \"5\", \"0\", \"0\", \"35\", \"0\", \"0\"]}\n",
       "    )\n",
       "    </script>"
      ],
      "text/plain": [
       "<circuitsvis.utils.render.RenderedHTML at 0x30b5f3250>"
      ]
     },
     "execution_count": 22,
     "metadata": {},
     "output_type": "execute_result"
    }
   ],
   "source": [
    "cv.attention.attention_heads(tokens=list(map(lambda t: str(t.item()), tokens[0])), attention=attention_pattern[0])"
   ]
  },
  {
   "cell_type": "code",
   "execution_count": 23,
   "metadata": {},
   "outputs": [
    {
     "data": {
      "text/html": [
       "<div id=\"circuits-vis-5a3672e3-2fe9\" style=\"margin: 15px 0;\"/>\n",
       "    <script crossorigin type=\"module\">\n",
       "    import { render, AttentionPatterns } from \"https://unpkg.com/circuitsvis@1.43.2/dist/cdn/esm.js\";\n",
       "    render(\n",
       "      \"circuits-vis-5a3672e3-2fe9\",\n",
       "      AttentionPatterns,\n",
       "      {\"tokens\": [\"1\", \"3\", \"11\", \"7\", \"5\", \"0\", \"0\", \"35\", \"0\", \"0\"], \"attention\": [[[1.0, 0.0, 0.0, 0.0, 0.0, 0.0, 0.0, 0.0, 0.0, 0.0], [0.31769225001335144, 0.6823077201843262, 0.0, 0.0, 0.0, 0.0, 0.0, 0.0, 0.0, 0.0], [0.0876765176653862, 0.16763296723365784, 0.7446905374526978, 0.0, 0.0, 0.0, 0.0, 0.0, 0.0, 0.0], [0.02225734107196331, 0.08940236270427704, 0.5908180475234985, 0.29752230644226074, 0.0, 0.0, 0.0, 0.0, 0.0, 0.0], [0.1367548257112503, 0.19029246270656586, 0.4441041648387909, 0.15135324001312256, 0.07749536633491516, 0.0, 0.0, 0.0, 0.0, 0.0], [0.12075667828321457, 0.19952644407749176, 0.35802215337753296, 0.21123796701431274, 0.0814567357301712, 0.029000021517276764, 0.0, 0.0, 0.0, 0.0], [0.07834180444478989, 0.20303833484649658, 0.3210757374763489, 0.18597999215126038, 0.11709367483854294, 0.04730715602636337, 0.04716334491968155, 0.0, 0.0, 0.0], [0.004737577401101589, 0.008753517642617226, 0.02410980872809887, 0.014947587624192238, 0.0028466740623116493, 0.000940344063565135, 0.001177302561700344, 0.9424871802330017, 0.0, 0.0], [0.16957055032253265, 0.1489390879869461, 0.1613147258758545, 0.07836516946554184, 0.08022820204496384, 0.056730225682258606, 0.07797747850418091, 0.15127940475940704, 0.07559515535831451, 0.0], [7.877918619669799e-07, 3.373214894963894e-06, 4.1086408600676805e-05, 8.278398127004039e-06, 4.4950596134185616e-07, 4.9957509240528e-09, 1.4584048635413183e-08, 0.9999459981918335, 3.961783345829417e-09, 1.2967364071414522e-08]]]}\n",
       "    )\n",
       "    </script>"
      ],
      "text/plain": [
       "<circuitsvis.utils.render.RenderedHTML at 0x30b8ed710>"
      ]
     },
     "execution_count": 23,
     "metadata": {},
     "output_type": "execute_result"
    }
   ],
   "source": [
    "cv.attention.attention_patterns(tokens=list(map(lambda t: str(t.item()), tokens[0])), attention=attention_pattern[0])"
   ]
  },
  {
   "cell_type": "code",
   "execution_count": 24,
   "metadata": {},
   "outputs": [
    {
     "data": {
      "text/html": [
       "<div id=\"circuits-vis-c193aa55-12ad\" style=\"margin: 15px 0;\"/>\n",
       "    <script crossorigin type=\"module\">\n",
       "    import { render, AttentionHeads } from \"https://unpkg.com/circuitsvis@1.43.2/dist/cdn/esm.js\";\n",
       "    render(\n",
       "      \"circuits-vis-c193aa55-12ad\",\n",
       "      AttentionHeads,\n",
       "      {\"attention\": [[[1.0, 0.0, 0.0, 0.0, 0.0, 0.0, 0.0, 0.0, 0.0, 0.0], [0.9146789908409119, 0.08532103896141052, 0.0, 0.0, 0.0, 0.0, 0.0, 0.0, 0.0, 0.0], [0.9634140729904175, 0.00489401537925005, 0.03169197961688042, 0.0, 0.0, 0.0, 0.0, 0.0, 0.0, 0.0], [0.0032953552436083555, 1.1968140825047158e-05, 6.095872595324181e-05, 0.9966316819190979, 0.0, 0.0, 0.0, 0.0, 0.0, 0.0], [0.08568061143159866, 0.29422932863235474, 0.26776638627052307, 0.03239605948328972, 0.3199276626110077, 0.0, 0.0, 0.0, 0.0, 0.0], [0.0857556015253067, 0.004259856417775154, 0.013169920071959496, 0.38617613911628723, 0.008980854414403439, 0.5016576647758484, 0.0, 0.0, 0.0, 0.0], [0.033156633377075195, 0.003177707316353917, 0.003816588781774044, 0.37403586506843567, 0.009246725589036942, 0.5579918026924133, 0.01857469603419304, 0.0, 0.0, 0.0], [0.05968758836388588, 0.007923935540020466, 0.029319291934370995, 0.3152613341808319, 0.016939383000135422, 0.5134825706481934, 0.02630983106791973, 0.031076082959771156, 0.0, 0.0], [0.20260140299797058, 0.09425865113735199, 0.1581762284040451, 0.11995865404605865, 0.1193455159664154, 0.07318205386400223, 0.06833017617464066, 0.09738992154598236, 0.06675748527050018, 0.0], [1.8172067939303815e-06, 1.1731374552348406e-11, 7.38251237919485e-10, 0.12981970608234406, 5.999730712247242e-10, 0.8701785206794739, 3.545287796669072e-08, 1.0429539898382245e-08, 3.079805291003601e-12, 1.0080550109925479e-11]]], \"tokens\": [\"23\", \"0\", \"4\", \"46\", \"2\", \"49\", \"8\", \"12\", \"0\", \"0\"]}\n",
       "    )\n",
       "    </script>"
      ],
      "text/plain": [
       "<circuitsvis.utils.render.RenderedHTML at 0x30b61f1d0>"
      ]
     },
     "execution_count": 24,
     "metadata": {},
     "output_type": "execute_result"
    }
   ],
   "source": [
    "cv.attention.attention_heads(tokens=list(map(lambda t: str(t.item()), tokens[1])), attention=attention_pattern[1])"
   ]
  },
  {
   "cell_type": "code",
   "execution_count": 25,
   "metadata": {},
   "outputs": [
    {
     "data": {
      "text/html": [
       "<div id=\"circuits-vis-4addb2a2-84a0\" style=\"margin: 15px 0;\"/>\n",
       "    <script crossorigin type=\"module\">\n",
       "    import { render, AttentionPatterns } from \"https://unpkg.com/circuitsvis@1.43.2/dist/cdn/esm.js\";\n",
       "    render(\n",
       "      \"circuits-vis-4addb2a2-84a0\",\n",
       "      AttentionPatterns,\n",
       "      {\"tokens\": [\"23\", \"0\", \"4\", \"46\", \"2\", \"49\", \"8\", \"12\", \"0\", \"0\"], \"attention\": [[[1.0, 0.0, 0.0, 0.0, 0.0, 0.0, 0.0, 0.0, 0.0, 0.0], [0.9146789908409119, 0.08532103896141052, 0.0, 0.0, 0.0, 0.0, 0.0, 0.0, 0.0, 0.0], [0.9634140729904175, 0.00489401537925005, 0.03169197961688042, 0.0, 0.0, 0.0, 0.0, 0.0, 0.0, 0.0], [0.0032953552436083555, 1.1968140825047158e-05, 6.095872595324181e-05, 0.9966316819190979, 0.0, 0.0, 0.0, 0.0, 0.0, 0.0], [0.08568061143159866, 0.29422932863235474, 0.26776638627052307, 0.03239605948328972, 0.3199276626110077, 0.0, 0.0, 0.0, 0.0, 0.0], [0.0857556015253067, 0.004259856417775154, 0.013169920071959496, 0.38617613911628723, 0.008980854414403439, 0.5016576647758484, 0.0, 0.0, 0.0, 0.0], [0.033156633377075195, 0.003177707316353917, 0.003816588781774044, 0.37403586506843567, 0.009246725589036942, 0.5579918026924133, 0.01857469603419304, 0.0, 0.0, 0.0], [0.05968758836388588, 0.007923935540020466, 0.029319291934370995, 0.3152613341808319, 0.016939383000135422, 0.5134825706481934, 0.02630983106791973, 0.031076082959771156, 0.0, 0.0], [0.20260140299797058, 0.09425865113735199, 0.1581762284040451, 0.11995865404605865, 0.1193455159664154, 0.07318205386400223, 0.06833017617464066, 0.09738992154598236, 0.06675748527050018, 0.0], [1.8172067939303815e-06, 1.1731374552348406e-11, 7.38251237919485e-10, 0.12981970608234406, 5.999730712247242e-10, 0.8701785206794739, 3.545287796669072e-08, 1.0429539898382245e-08, 3.079805291003601e-12, 1.0080550109925479e-11]]]}\n",
       "    )\n",
       "    </script>"
      ],
      "text/plain": [
       "<circuitsvis.utils.render.RenderedHTML at 0x30b8ed4d0>"
      ]
     },
     "execution_count": 25,
     "metadata": {},
     "output_type": "execute_result"
    }
   ],
   "source": [
    "cv.attention.attention_patterns(tokens=list(map(lambda t: str(t.item()), tokens[1])), attention=attention_pattern[1])"
   ]
  },
  {
   "cell_type": "code",
   "execution_count": 26,
   "metadata": {},
   "outputs": [
    {
     "data": {
      "text/html": [
       "<div id=\"circuits-vis-cc5d8c90-235d\" style=\"margin: 15px 0;\"/>\n",
       "    <script crossorigin type=\"module\">\n",
       "    import { render, AttentionPatterns } from \"https://unpkg.com/circuitsvis@1.43.2/dist/cdn/esm.js\";\n",
       "    render(\n",
       "      \"circuits-vis-cc5d8c90-235d\",\n",
       "      AttentionPatterns,\n",
       "      {\"tokens\": [\"1\", \"40\", \"18\", \"16\", \"24\", \"56\", \"9\", \"14\", \"28\", \"0\"], \"attention\": [[[1.0, 0.0, 0.0, 0.0, 0.0, 0.0, 0.0, 0.0, 0.0, 0.0], [0.9860144853591919, 0.013985546305775642, 0.0, 0.0, 0.0, 0.0, 0.0, 0.0, 0.0, 0.0], [4.616397200152278e-05, 0.9981456995010376, 0.0018081970047205687, 0.0, 0.0, 0.0, 0.0, 0.0, 0.0, 0.0], [0.006991684436798096, 0.9119319915771484, 0.04961169511079788, 0.031464576721191406, 0.0, 0.0, 0.0, 0.0, 0.0, 0.0], [0.030866330489516258, 0.739623486995697, 0.08447183668613434, 0.05951305106282234, 0.08552513271570206, 0.0, 0.0, 0.0, 0.0, 0.0], [0.04369174316525459, 0.2201368659734726, 0.0864860862493515, 0.07085125148296356, 0.05350326746702194, 0.5253307223320007, 0.0, 0.0, 0.0, 0.0], [0.006695693824440241, 0.11470203846693039, 0.039848897606134415, 0.04747334495186806, 0.06255083531141281, 0.7071337699890137, 0.021595370024442673, 0.0, 0.0, 0.0], [1.6454268916277215e-05, 0.015542064793407917, 0.00019981390505563468, 0.00016216584481298923, 0.0006317686638794839, 0.9831861257553101, 0.00019934245210606605, 6.227337144082412e-05, 0.0, 0.0], [0.00031585581018589437, 0.04275156930088997, 0.0015905555337667465, 0.0005207398207858205, 0.007276721298694611, 0.9404432773590088, 0.0006601776694878936, 0.0012817103415727615, 0.00515931099653244, 0.0], [3.4827509799717493e-12, 2.8931337510584854e-05, 1.1976931668655766e-09, 1.6595362584137519e-10, 2.8193477774607345e-08, 0.999970555305481, 6.972490917966923e-10, 5.57889179297888e-10, 4.736851053621649e-07, 5.732745414445059e-14]]]}\n",
       "    )\n",
       "    </script>"
      ],
      "text/plain": [
       "<circuitsvis.utils.render.RenderedHTML at 0x30b7b8b50>"
      ]
     },
     "execution_count": 26,
     "metadata": {},
     "output_type": "execute_result"
    }
   ],
   "source": [
    "cv.attention.attention_patterns(tokens=list(map(lambda t: str(t.item()), tokens[2])), attention=attention_pattern[2])"
   ]
  },
  {
   "cell_type": "code",
   "execution_count": 27,
   "metadata": {},
   "outputs": [
    {
     "data": {
      "image/png": "[encoded data removed]",
      "text/plain": [
       "<Figure size 800x800 with 2 Axes>"
      ]
     },
     "metadata": {},
     "output_type": "display_data"
    }
   ],
   "source": [
    "attn = model.blocks[0].attn\n",
    "all_token_embeddings = model.embed(range(D_VOCAB))\n",
    "\n",
    "embeddings_key = einsum(\"d_vocab d_model, n_heads d_model d_head -> n_heads d_vocab d_head\", \n",
    "                        all_token_embeddings, attn.W_K) \n",
    "embeddings_query = einsum(\"d_vocab d_model, n_heads d_model d_head -> n_heads d_vocab d_head\", \n",
    "                          all_token_embeddings, attn.W_Q) \n",
    "                          \n",
    "plt.rcParams['figure.figsize'] = [20, 10]\n",
    "qk_circuit_attn_heatmap = einsum(\n",
    "    \"n_heads d_vocab_q d_head, n_heads d_vocab_k d_head -> ... d_vocab_q d_vocab_k\", \n",
    "    embeddings_query, embeddings_key\n",
    "    ).detach().cpu().numpy()\n",
    "fig, ax = plt.subplots(figsize=(8, 8))\n",
    "graph = ax.imshow(qk_circuit_attn_heatmap, cmap=\"hot\", interpolation=\"nearest\")\n",
    "plt.colorbar(graph)\n",
    "plt.tight_layout()"
   ]
  }
 ],
 "metadata": {
  "kernelspec": {
   "display_name": "ml",
   "language": "python",
   "name": "python3"
  },
  "language_info": {
   "codemirror_mode": {
    "name": "ipython",
    "version": 3
   },
   "file_extension": ".py",
   "mimetype": "text/x-python",
   "name": "python",
   "nbconvert_exporter": "python",
   "pygments_lexer": "ipython3",
   "version": "3.11.7"
  }
 },
 "nbformat": 4,
 "nbformat_minor": 2
}
